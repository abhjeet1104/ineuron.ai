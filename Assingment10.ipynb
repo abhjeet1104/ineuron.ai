{
  "nbformat": 4,
  "nbformat_minor": 0,
  "metadata": {
    "colab": {
      "provenance": []
    },
    "kernelspec": {
      "name": "python3",
      "display_name": "Python 3"
    },
    "language_info": {
      "name": "python"
    }
  },
  "cells": [
    {
      "cell_type": "markdown",
      "source": [
        "#1. How do you distinguish between shutil.copy() and shutil.copytree()?"
      ],
      "metadata": {
        "id": "VB4IiTVz1V-4"
      }
    },
    {
      "cell_type": "markdown",
      "source": [
        "Ans. shutil.copy() is used to copy a single file, while shutil.copytree() is used to copy an entire directory and all of its contents.\n",
        "\n",
        "\n",
        "\n"
      ],
      "metadata": {
        "id": "yn0-VNEq1jb5"
      }
    },
    {
      "cell_type": "markdown",
      "source": [
        "#2. What function is used to rename files??"
      ],
      "metadata": {
        "id": "-bcPKWMo1sjp"
      }
    },
    {
      "cell_type": "markdown",
      "source": [
        "Ans. shutil.move() function is used to rename files in python, it can also be used to move files and directories.\n",
        "\n",
        "\n",
        "\n",
        "\n"
      ],
      "metadata": {
        "id": "PMG9Lgph2J_2"
      }
    },
    {
      "cell_type": "markdown",
      "source": [
        "#3. What is the difference between the delete functions in the send2trash and shutil modules?"
      ],
      "metadata": {
        "id": "iViEMaTD2Ra0"
      }
    },
    {
      "cell_type": "markdown",
      "source": [
        "Ans. The send2trash() function from the send2trash module, is used to move a file or folder to the trash or recycle bin. It allows for the possibility of recovery in case the deletion was a mistake. While the shutil.rmtree() function from the shutil module, is used to delete a directory and all its contents permanently, it doesn't have the feature of sending to trash or recycle bin. And the os.remove() function from the os module is used to delete a single file permanently.\n",
        "\n",
        "\n",
        "\n"
      ],
      "metadata": {
        "id": "VVPR1CbS2t7T"
      }
    },
    {
      "cell_type": "markdown",
      "source": [
        "#4.ZipFile objects have a close() method just like File objects’ close() method. What ZipFile method is equivalent to File objects’ open() method?"
      ],
      "metadata": {
        "id": "pM1rr5TJ25WN"
      }
    },
    {
      "cell_type": "markdown",
      "source": [
        "Ans The ZipFile.open() method is equivalent to the open() method for File objects, it is used to open a member of the archive for reading or writing. This method returns a file-like object that can be used to read or write the compressed data.\n",
        "\n",
        "\n",
        "\n"
      ],
      "metadata": {
        "id": "DtduxO3K3IzU"
      }
    },
    {
      "cell_type": "markdown",
      "source": [
        "#5. Create a programme that searches a folder tree for files with a certain file extension (such as .pdf or .jpg). Copy these files from whatever location they are in to a new folder.\n",
        "\n"
      ],
      "metadata": {
        "id": "JjZQdxkq6CwQ"
      }
    },
    {
      "cell_type": "markdown",
      "source": [
        "Ans. Here is a Python script that recursively searches a given directory for files with a specific file extension, and then copies them to a new directory:\n",
        "\n"
      ],
      "metadata": {
        "id": "mW1Yc5NB9dy5"
      }
    },
    {
      "cell_type": "code",
      "source": [
        "import os\n",
        "import shutil\n",
        "\n",
        "def search_and_copy(src_dir, dst_dir, file_extension):\n",
        "    for subdir, dirs, files in os.walk(src_dir):\n",
        "        for file in files:\n",
        "            if file.endswith(file_extension):\n",
        "                src_file = os.path.join(subdir, file)\n",
        "                dst_file = os.path.join(dst_dir, file)\n",
        "                shutil.copy2(src_file, dst_file)\n",
        "\n",
        "src_dir = 'path/to/source/folder'\n",
        "dst_dir = 'path/to/destination/folder'\n",
        "file_extension = '.pdf'\n",
        "search_and_copy(src_dir, dst_dir, file_extension)\n"
      ],
      "metadata": {
        "id": "56-9AKV99f9T"
      },
      "execution_count": 1,
      "outputs": []
    },
    {
      "cell_type": "markdown",
      "source": [
        "This script uses the os.walk() function to recursively walk through the directory tree and search for files with the specified file extension. The shutil.copy2() function is then used to copy the files to the new directory.\n",
        "\n",
        "Please make sure you have proper permission to read and write files in the directories and also check if the destination folder exist or not if not then create it.\n",
        "\n",
        "\n",
        "\n"
      ],
      "metadata": {
        "id": "G7daJ6Xb9pbK"
      }
    },
    {
      "cell_type": "code",
      "source": [],
      "metadata": {
        "id": "8KnmvCMw1iko"
      },
      "execution_count": null,
      "outputs": []
    }
  ]
}