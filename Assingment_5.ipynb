{
  "nbformat": 4,
  "nbformat_minor": 0,
  "metadata": {
    "colab": {
      "provenance": []
    },
    "kernelspec": {
      "name": "python3",
      "display_name": "Python 3"
    },
    "language_info": {
      "name": "python"
    }
  },
  "cells": [
    {
      "cell_type": "code",
      "execution_count": null,
      "metadata": {
        "id": "HUxSv9jzFbL2"
      },
      "outputs": [],
      "source": []
    },
    {
      "cell_type": "markdown",
      "source": [
        "#1. What does an empty dictionary's code look like?"
      ],
      "metadata": {
        "id": "BRTHCjUBFkg0"
      }
    },
    {
      "cell_type": "markdown",
      "source": [
        "An empty dictionary in Python can be created using the dict constructor or using curly braces {}.\n",
        "\n",
        "Here is an example of creating an empty dictionary using the dict constructor:"
      ],
      "metadata": {
        "id": "yd59DpanF6qi"
      }
    },
    {
      "cell_type": "code",
      "source": [
        "empty_dict = dict()\n"
      ],
      "metadata": {
        "id": "vzBzDQneFyIY"
      },
      "execution_count": 1,
      "outputs": []
    },
    {
      "cell_type": "markdown",
      "source": [
        "Here is an example of creating an empty dictionary using curly braces:\n",
        "\n"
      ],
      "metadata": {
        "id": "7TRJmOsxGAgs"
      }
    },
    {
      "cell_type": "code",
      "source": [
        "empty_dict = {}\n"
      ],
      "metadata": {
        "id": "eCH1nhYbF9JI"
      },
      "execution_count": 2,
      "outputs": []
    },
    {
      "cell_type": "code",
      "source": [
        "print(type(empty_dict))   # Output: <class 'dict'>\n",
        "print(len(empty_dict))    # Output: 0\n"
      ],
      "metadata": {
        "colab": {
          "base_uri": "https://localhost:8080/"
        },
        "id": "JvUV-k8SGC-k",
        "outputId": "11553793-ae9c-4487-ae16-a1a0a2430d4e"
      },
      "execution_count": 3,
      "outputs": [
        {
          "output_type": "stream",
          "name": "stdout",
          "text": [
            "<class 'dict'>\n",
            "0\n"
          ]
        }
      ]
    },
    {
      "cell_type": "markdown",
      "source": [
        "#2. What is the value of a dictionary value with the key 'foo' and the value 42?"
      ],
      "metadata": {
        "id": "qD8R0rsfGNeD"
      }
    },
    {
      "cell_type": "markdown",
      "source": [
        "If you have a dictionary my_dict that contains a key-value pair with the key 'foo' and the value 42, you can access the value by using the key in square brackets []:\n",
        "\n"
      ],
      "metadata": {
        "id": "UXBNNps6GRHw"
      }
    },
    {
      "cell_type": "code",
      "source": [
        "value = my_dict['foo']\n"
      ],
      "metadata": {
        "id": "WwypUaJ8GF9Q"
      },
      "execution_count": null,
      "outputs": []
    },
    {
      "cell_type": "markdown",
      "source": [
        "This will assign the value 42 to the variable value.\n",
        "\n",
        "For example:"
      ],
      "metadata": {
        "id": "oddEAgbSGknv"
      }
    },
    {
      "cell_type": "code",
      "source": [
        "my_dict = {'foo': 42}\n",
        "value = my_dict['foo']\n",
        "print(value)  # Output: 42\n"
      ],
      "metadata": {
        "colab": {
          "base_uri": "https://localhost:8080/"
        },
        "id": "P6XzP4ElGfSr",
        "outputId": "00e3b53c-12be-4a28-a8e3-c35f470efc70"
      },
      "execution_count": 5,
      "outputs": [
        {
          "output_type": "stream",
          "name": "stdout",
          "text": [
            "42\n"
          ]
        }
      ]
    },
    {
      "cell_type": "markdown",
      "source": [
        "If the key 'foo' does not exist in the dictionary, this will raise a KeyError exception. You can use the in operator to check if a key exists in the dictionary before attempting to access its value."
      ],
      "metadata": {
        "id": "C5ZCp__4Gs1l"
      }
    },
    {
      "cell_type": "code",
      "source": [
        "if 'foo' in my_dict:\n",
        "    value = my_dict['foo']\n"
      ],
      "metadata": {
        "id": "8jLiPk0FGn6p"
      },
      "execution_count": 6,
      "outputs": []
    },
    {
      "cell_type": "markdown",
      "source": [
        "we can also use the get method to retrieve the value for a given key, which will return a default value (such as None) if the key does not exist in the dictionary.\n",
        "\n"
      ],
      "metadata": {
        "id": "Jsl1_6oFG4k5"
      }
    },
    {
      "cell_type": "code",
      "source": [
        "value = my_dict.get('foo')  # Returns 42\n",
        "value = my_dict.get('bar')  # Returns None\n",
        "value = my_dict.get('bar', 0)  # Returns 0\n"
      ],
      "metadata": {
        "id": "t620HvnkGvj6"
      },
      "execution_count": 7,
      "outputs": []
    },
    {
      "cell_type": "markdown",
      "source": [
        "#3. What is the most significant distinction between a dictionary and a list?"
      ],
      "metadata": {
        "id": "L5ttVEF-HCx9"
      }
    },
    {
      "cell_type": "markdown",
      "source": [
        "The most significant distinction between a dictionary and a list in Python is that a dictionary is a collection of key-value pairs, while a list is a collection of values.\n",
        "\n",
        "In a dictionary, each key is associated with a single value, and the keys must be unique within the dictionary. The values can be of any type and do not have to be unique. You can access the values in a dictionary using the keys.\n",
        "\n",
        "Here is an example of a dictionary in Python:\n",
        "\n"
      ],
      "metadata": {
        "id": "nbtiiWrwHUAE"
      }
    },
    {
      "cell_type": "code",
      "source": [
        "my_dict = {'apple': 1, 'banana': 2, 'orange': 3}\n"
      ],
      "metadata": {
        "id": "1gT0m91FG9dP"
      },
      "execution_count": 8,
      "outputs": []
    },
    {
      "cell_type": "markdown",
      "source": [
        "In this example, 'apple', 'banana', and 'orange' are the keys, and 1, 2, and 3 are the corresponding values.\n",
        "\n",
        "On the other hand, a list is an ordered collection of values, and the values do not have to be associated with any specific keys. You can access the values in a list using their indices (their position in the list).\n",
        "\n",
        "Here is an example of a list in Python:"
      ],
      "metadata": {
        "id": "H4rbx4MFHb3n"
      }
    },
    {
      "cell_type": "code",
      "source": [
        "my_list = [1, 2, 3]\n"
      ],
      "metadata": {
        "id": "JiRAjOfuHX_O"
      },
      "execution_count": 9,
      "outputs": []
    },
    {
      "cell_type": "markdown",
      "source": [
        "In this example, 1, 2, and 3 are the values in the list. You can access them using their indices:\n",
        "\n"
      ],
      "metadata": {
        "id": "5cwsTbDpHi0t"
      }
    },
    {
      "cell_type": "code",
      "source": [
        "first_value = my_list[0]  # 1\n",
        "second_value = my_list[1]  # 2\n",
        "third_value = my_list[2]  # 3\n"
      ],
      "metadata": {
        "id": "uIGXzSJsHe0M"
      },
      "execution_count": 10,
      "outputs": []
    },
    {
      "cell_type": "markdown",
      "source": [
        "#4. What happens if you try to access spam['foo'] if spam is {'bar': 100}?"
      ],
      "metadata": {
        "id": "SdJvUJ7QHthc"
      }
    },
    {
      "cell_type": "markdown",
      "source": [
        "If you try to access the value for a key that does not exist in a dictionary, you will get a KeyError exception.\n",
        "\n",
        "For example, if spam is a dictionary with a single key-value pair 'bar': 100, and you try to access the value for the key 'foo' using the syntax spam['foo'], you will get a KeyError exception because the key 'foo' does not exist in the dictionary.\n",
        "\n"
      ],
      "metadata": {
        "id": "z7G9PfkcH9VW"
      }
    },
    {
      "cell_type": "code",
      "source": [
        "spam = {'bar': 100}\n",
        "\n",
        "try:\n",
        "    value = spam['foo']\n",
        "except KeyError:\n",
        "    print(\"KeyError: 'foo'\")\n"
      ],
      "metadata": {
        "colab": {
          "base_uri": "https://localhost:8080/"
        },
        "id": "mTbs2CKoHmj_",
        "outputId": "0101ab5e-c34b-4e8c-924d-4b29dfbbe0bc"
      },
      "execution_count": 11,
      "outputs": [
        {
          "output_type": "stream",
          "name": "stdout",
          "text": [
            "KeyError: 'foo'\n"
          ]
        }
      ]
    },
    {
      "cell_type": "markdown",
      "source": [
        "The KeyError exception will be raised because the key 'foo' is not in the dictionary.\n",
        "\n",
        "To avoid this exception, you can use the in operator to check if the key exists in the dictionary before attempting to access its value:"
      ],
      "metadata": {
        "id": "zX2Q9A5mIE2l"
      }
    },
    {
      "cell_type": "code",
      "source": [
        "if 'foo' in spam:\n",
        "    value = spam['foo']\n",
        "else:\n",
        "    print(\"KeyError: 'foo'\")\n"
      ],
      "metadata": {
        "colab": {
          "base_uri": "https://localhost:8080/"
        },
        "id": "TXWIbOhBIAB3",
        "outputId": "d55e5c8c-b6b3-420b-8674-4592b5cc2323"
      },
      "execution_count": 12,
      "outputs": [
        {
          "output_type": "stream",
          "name": "stdout",
          "text": [
            "KeyError: 'foo'\n"
          ]
        }
      ]
    },
    {
      "cell_type": "markdown",
      "source": [
        "Alternatively, you can use the get method to retrieve the value for a given key, which will return a default value (such as None) if the key does not exist in the dictionary."
      ],
      "metadata": {
        "id": "POFrSFBDIVAR"
      }
    },
    {
      "cell_type": "code",
      "source": [
        "value = spam.get('foo')  # Returns None\n"
      ],
      "metadata": {
        "id": "rBLExyAxIIbC"
      },
      "execution_count": 13,
      "outputs": []
    },
    {
      "cell_type": "markdown",
      "source": [
        "#5. If a dictionary is stored in spam, what is the difference between the expressions 'cat' in spam and 'cat' in spam.keys()?"
      ],
      "metadata": {
        "id": "-FpbDUU6ItYU"
      }
    },
    {
      "cell_type": "markdown",
      "source": [
        "The expression 'cat' in spam checks if the key 'cat' exists in the dictionary spam, while the expression 'cat' in spam.keys() also checks if the key 'cat' exists in the dictionary spam.\n",
        "\n",
        "The difference between these two expressions is that 'cat' in spam returns a boolean value indicating whether the key 'cat' exists in the dictionary, while 'cat' in spam.keys() returns a list of all the keys in the dictionary spam.\n",
        "\n",
        "Here is an example of using these two expressions:\n",
        "\n"
      ],
      "metadata": {
        "id": "k68mjCLwI8Rr"
      }
    },
    {
      "cell_type": "code",
      "source": [
        "spam = {'foo': 42, 'bar': 100}\n",
        "\n",
        "# Check if the key 'cat' exists in the dictionary spam\n",
        "print('cat' in spam)  # Output: False\n",
        "\n",
        "# Check if the key 'foo' exists in the dictionary spam\n",
        "print('foo' in spam)  # Output: True\n",
        "\n",
        "# Get a list of all the keys in the dictionary spam\n",
        "print(spam.keys())  # Output: ['foo', 'bar']\n",
        "\n",
        "# Check if the key 'cat' exists in the list of keys in the dictionary spam\n",
        "print('cat' in spam.keys())  # Output: False\n",
        "\n",
        "# Check if the key 'foo' exists in the list of keys in the dictionary spam\n",
        "print('foo' in spam.keys())  # Output: True\n"
      ],
      "metadata": {
        "colab": {
          "base_uri": "https://localhost:8080/"
        },
        "id": "XhBi0o97IXiy",
        "outputId": "e9ed2f9b-c3d5-49b4-cd85-bb30cbe2a48f"
      },
      "execution_count": 14,
      "outputs": [
        {
          "output_type": "stream",
          "name": "stdout",
          "text": [
            "False\n",
            "True\n",
            "dict_keys(['foo', 'bar'])\n",
            "False\n",
            "True\n"
          ]
        }
      ]
    },
    {
      "cell_type": "markdown",
      "source": [
        "In general, it is more efficient to use the in operator to check if a key exists in a dictionary, as it has a time complexity of O(1) (constant time). On the other hand, calling the keys method and then checking if a key exists in the resulting list has a time complexity of O(n) (linear time), where n is the number of keys in the dictionary."
      ],
      "metadata": {
        "id": "F3pX0vakJD53"
      }
    },
    {
      "cell_type": "markdown",
      "source": [
        "In general, it is more efficient to use the in operator to check if a key exists in a dictionary, as it has a time complexity of O(1) (constant time). On the other hand, calling the keys method and then checking if a key exists in the resulting list has a time complexity of O(n) (linear time), where n is the number of keys in the dictionary."
      ],
      "metadata": {
        "id": "jSqc3vu6JKzn"
      }
    },
    {
      "cell_type": "markdown",
      "source": [
        "#7. What is a shortcut for the following code?\n",
        "\n",
        "***`if 'color' not in spam:`***\n",
        "\n",
        "***`spam['color'] = 'black'`*** \n"
      ],
      "metadata": {
        "id": "pFzEunesJsib"
      }
    },
    {
      "cell_type": "markdown",
      "source": [
        "A shortcut for the code"
      ],
      "metadata": {
        "id": "B9ynbWY3KFlc"
      }
    },
    {
      "cell_type": "code",
      "source": [
        "if 'color' not in spam:\n",
        "    spam['color'] = 'black'\n"
      ],
      "metadata": {
        "id": "WTkbgeIQI_fF"
      },
      "execution_count": 15,
      "outputs": []
    },
    {
      "cell_type": "markdown",
      "source": [
        "is to use the setdefault method of the dictionary. The setdefault method sets the value for a key in the dictionary only if the key does not already exist. If the key already exists, it returns the current value for the key.\n",
        "\n",
        "Here is the equivalent code using the setdefault method:\n",
        "\n"
      ],
      "metadata": {
        "id": "43mzmJxYKOkP"
      }
    },
    {
      "cell_type": "code",
      "source": [
        "spam.setdefault('color', 'black')\n"
      ],
      "metadata": {
        "colab": {
          "base_uri": "https://localhost:8080/",
          "height": 36
        },
        "id": "JsszMhvJKJxk",
        "outputId": "25c3b9b6-e32c-4121-a33d-7184d82b8f94"
      },
      "execution_count": 16,
      "outputs": [
        {
          "output_type": "execute_result",
          "data": {
            "text/plain": [
              "'black'"
            ],
            "application/vnd.google.colaboratory.intrinsic+json": {
              "type": "string"
            }
          },
          "metadata": {},
          "execution_count": 16
        }
      ]
    },
    {
      "cell_type": "markdown",
      "source": [
        "This will set the value of 'color' to 'black' in the dictionary spam if the key 'color' does not already exist, otherwise it will do nothing.\n",
        "\n",
        "For example:"
      ],
      "metadata": {
        "id": "HozCSrhGKbP6"
      }
    },
    {
      "cell_type": "code",
      "source": [
        "spam = {'foo': 42}\n",
        "\n",
        "# Set the value of 'color' to 'black' if the key does not already exist\n",
        "spam.setdefault('color', 'black')\n",
        "print(spam)  # Output: {'foo': 42, 'color': 'black'}\n",
        "\n",
        "# Do nothing, because the key 'foo' already exists\n",
        "spam.setdefault('foo', 'black')\n",
        "print(spam)  # Output: {'foo': 42, 'color': 'black'}\n"
      ],
      "metadata": {
        "colab": {
          "base_uri": "https://localhost:8080/"
        },
        "id": "2clEi2ZSKV3Y",
        "outputId": "46cff3e1-fa4f-4138-87e4-9c844e45d90c"
      },
      "execution_count": 17,
      "outputs": [
        {
          "output_type": "stream",
          "name": "stdout",
          "text": [
            "{'foo': 42, 'color': 'black'}\n",
            "{'foo': 42, 'color': 'black'}\n"
          ]
        }
      ]
    },
    {
      "cell_type": "markdown",
      "source": [
        "#8. How do you \"pretty print\" dictionary values using which module and function?\n",
        "\n"
      ],
      "metadata": {
        "id": "fL2TgnR0KoEg"
      }
    },
    {
      "cell_type": "markdown",
      "source": [
        "To \"pretty print\" the values of a dictionary in Python, you can use the pprint module and the pprint function.\n",
        "\n",
        "The pprint module provides a pprint function that can be used to pretty-print the values of a dictionary, or any other data structure, in a more human-readable format. It is especially useful when the data structure contains nested elements, as it will format the output in a way that is easier to read.\n",
        "\n",
        "Here is an example of using the pprint function to pretty-print the values of a dictionary:"
      ],
      "metadata": {
        "id": "rtZtb4tsK_NJ"
      }
    },
    {
      "cell_type": "code",
      "source": [
        "from pprint import pprint\n",
        "\n",
        "# Dictionary with nested elements\n",
        "my_dict = {'foo': 42, 'bar': [1, 2, 3], 'baz': {'a': 10, 'b': 20}}\n",
        "\n",
        "# Pretty-print the dictionary\n",
        "pprint(my_dict)\n"
      ],
      "metadata": {
        "colab": {
          "base_uri": "https://localhost:8080/"
        },
        "id": "6wjj1nz_KfvH",
        "outputId": "19064ac2-a903-4280-c136-93528d4a2c15"
      },
      "execution_count": 18,
      "outputs": [
        {
          "output_type": "stream",
          "name": "stdout",
          "text": [
            "{'bar': [1, 2, 3], 'baz': {'a': 10, 'b': 20}, 'foo': 42}\n"
          ]
        }
      ]
    },
    {
      "cell_type": "markdown",
      "source": [
        "Note that the pprint function does not modify the original dictionary, it simply prints the values in a more readable format. If you want to store the pretty-printed version of the dictionary in a variable or write it to a file, you can use the pprint function in combination with the StringIO module or the print function with the file argument.\n",
        "\n",
        "For example:"
      ],
      "metadata": {
        "id": "ZlU3RAnXLJtP"
      }
    },
    {
      "cell_type": "code",
      "source": [
        "from io import StringIO\n",
        "from pprint import pprint\n",
        "\n",
        "# Dictionary with nested elements\n",
        "my_dict = {'foo': 42, 'bar': [1, 2, 3], 'baz': {'a': 10, 'b': 20}}\n",
        "\n",
        "# Create a StringIO object to store the pretty-printed version of the dictionary\n",
        "output = StringIO()\n",
        "\n",
        "# Pretty-print the dictionary to the StringIO object\n",
        "pprint(my_dict, stream=output)\n",
        "\n",
        "# Get the pretty-printed version of the dictionary as a string\n",
        "pretty_printed = output.getvalue()\n",
        "print(pretty_printed)  # Output: \"{'bar': [1, 2, 3], 'baz': {'a': 10, 'b': 20}, 'foo': 42}\\n\"\n",
        "\n",
        "# Write the pretty-printed version of the dictionary to a file\n",
        "with open('my_dict.txt', 'w') as f:\n",
        "    pprint(my_dict, stream=f)\n"
      ],
      "metadata": {
        "colab": {
          "base_uri": "https://localhost:8080/"
        },
        "id": "gYOAR5zfLDI0",
        "outputId": "a28a5f98-e81a-4a9e-f298-ade654b8d651"
      },
      "execution_count": 19,
      "outputs": [
        {
          "output_type": "stream",
          "name": "stdout",
          "text": [
            "{'bar': [1, 2, 3], 'baz': {'a': 10, 'b': 20}, 'foo': 42}\n",
            "\n"
          ]
        }
      ]
    },
    {
      "cell_type": "code",
      "source": [],
      "metadata": {
        "id": "sUy1UQ2fLN6f"
      },
      "execution_count": null,
      "outputs": []
    }
  ]
}