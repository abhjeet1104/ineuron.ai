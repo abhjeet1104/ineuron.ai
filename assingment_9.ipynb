{
  "nbformat": 4,
  "nbformat_minor": 0,
  "metadata": {
    "colab": {
      "provenance": []
    },
    "kernelspec": {
      "name": "python3",
      "display_name": "Python 3"
    },
    "language_info": {
      "name": "python"
    }
  },
  "cells": [
    {
      "cell_type": "markdown",
      "source": [
        "#1. To what does a relative path refer?"
      ],
      "metadata": {
        "id": "tue2w2mNuhxm"
      }
    },
    {
      "cell_type": "markdown",
      "source": [
        "Ans. A relative path refers to a file or directory location that is relative to the current working directory. It is a path that is not an absolute path, which means it does not contain the full path from the root directory of the file system. Instead, it is a path that is relative to the current directory, and it can be understood as the location of a file or directory in relation to the current location.\n",
        "\n",
        "For example, if the current working directory is C:\\Users\\username\\Documents, and you have a file located at C:\\Users\\username\\Documents\\photos\\holiday.jpg, the relative path to that file would be photos\\holiday.jpg.\n",
        "\n",
        "Relative paths are often used in programming and scripting because they are more portable and make it easier to move the code or files around. This is because the path is relative to the current working directory, so it will always be valid as long as the file or directory structure remains the same."
      ],
      "metadata": {
        "id": "pwHLr8KKulXh"
      }
    },
    {
      "cell_type": "markdown",
      "source": [
        "#2. What does an absolute path start with your operating system?"
      ],
      "metadata": {
        "id": "Mh8ZGKf5uqum"
      }
    },
    {
      "cell_type": "markdown",
      "source": [
        "Ans. An absolute path is a full path to a file or directory that starts with the root directory of the file system. The root directory is the top-most directory in the file system hierarchy, and it is represented by a forward slash / on Linux and macOS, and by a backslash \\ on Windows.\n",
        "\n",
        "On Windows, an absolute path starts with the drive letter, followed by a colon :, and then the root directory (backslash \\). For example: C:\\Windows\\System32\n",
        "\n",
        "On Linux and macOS, an absolute path starts with the forward slash /, which represents the root directory. For example: /usr/local/bin\n",
        "\n",
        "An absolute path is a complete and unique path that points to a specific file or directory, regardless of the current working directory. This is why absolute paths are often used when working with files or directories that need to be accessed from different locations in the file system, or from different systems."
      ],
      "metadata": {
        "id": "QDOD1gE-vApD"
      }
    },
    {
      "cell_type": "markdown",
      "source": [
        "#3. What do the functions os.getcwd() and os.chdir() do?"
      ],
      "metadata": {
        "id": "Ys1loE4IwHhL"
      }
    },
    {
      "cell_type": "code",
      "execution_count": null,
      "metadata": {
        "id": "n2J7OlSfuhBW"
      },
      "outputs": [],
      "source": []
    },
    {
      "cell_type": "markdown",
      "source": [
        "Ans. The os module in Python provides several functions for interacting with the operating system, including os.getcwd() and os.chdir().\n",
        "\n",
        "os.getcwd() is a function that returns the current working directory (CWD) of the process. It returns a string representing the current working directory, which is the directory where the script or program is being executed. For example:\n",
        "\n"
      ],
      "metadata": {
        "id": "f9GSvRBQwNIv"
      }
    },
    {
      "cell_type": "code",
      "source": [
        "import os\n",
        "print(os.getcwd())\n"
      ],
      "metadata": {
        "colab": {
          "base_uri": "https://localhost:8080/"
        },
        "id": "2QTbCxJ7wQvK",
        "outputId": "30c7f2ae-9fb6-4f42-8530-1eeea222d153"
      },
      "execution_count": 1,
      "outputs": [
        {
          "output_type": "stream",
          "name": "stdout",
          "text": [
            "/content\n"
          ]
        }
      ]
    },
    {
      "cell_type": "markdown",
      "source": [
        "os.chdir(path) is a function that changes the current working directory of the process to the directory specified by the path argument. The path argument is a string representing the directory path where you want to change the current working directory to. For example:\n",
        "\n"
      ],
      "metadata": {
        "id": "43MKhsh9wVDB"
      }
    },
    {
      "cell_type": "code",
      "source": [
        "import os\n",
        "os.chdir('/path/to/directory')\n"
      ],
      "metadata": {
        "id": "SC3OaKFlwSma"
      },
      "execution_count": null,
      "outputs": []
    },
    {
      "cell_type": "markdown",
      "source": [
        "This will change the current working directory to the directory specified in the path, you can use os.getcwd() to verify the change"
      ],
      "metadata": {
        "id": "NWpIKoZFwdlJ"
      }
    },
    {
      "cell_type": "code",
      "source": [],
      "metadata": {
        "id": "yUJsHPf1wXGp"
      },
      "execution_count": null,
      "outputs": []
    },
    {
      "cell_type": "markdown",
      "source": [
        "#4. What are the . and .. folders?"
      ],
      "metadata": {
        "id": "N9tCCNg7wiF5"
      }
    },
    {
      "cell_type": "markdown",
      "source": [
        "Ans. In a file system, the . and .. folders refer to the current directory and the parent directory respectively.\n",
        "\n",
        "The . folder (also known as the \"current directory\" or \"dot\") refers to the current directory that the user is in. When you're using a shell or command prompt, and you enter ls or dir (or the equivalent command on your operating system) with no arguments, it lists the files and subdirectories in the current directory.\n",
        "\n",
        "The .. folder (also known as the \"parent directory\" or \"dot-dot\") refers to the parent directory of the current directory. It is the directory that contains the current directory. When you're using a shell or command prompt, and you enter cd .. (or the equivalent command on your operating system) it changes the current working directory to the parent directory.\n",
        "\n",
        "For example, if the current working directory is /home/user/documents/project, the . folder would refer to /home/user/documents/project, and the .. folder would refer to /home/user/documents/.\n",
        "\n",
        "These special folder names can be used in both relative and absolute paths. They can be used in commands, scripts and programs to navigate the file system, for example, to move up to the parent directory or to reference a file or folder in the current directory."
      ],
      "metadata": {
        "id": "avRzgx0Rwpq9"
      }
    },
    {
      "cell_type": "code",
      "source": [],
      "metadata": {
        "id": "WwFjpA-xwmby"
      },
      "execution_count": null,
      "outputs": []
    },
    {
      "cell_type": "markdown",
      "source": [
        "#5. In C:\\bacon\\eggs\\spam.txt, which part is the dir name, and which part is the base name?"
      ],
      "metadata": {
        "id": "X0XoM8YlxLlM"
      }
    },
    {
      "cell_type": "markdown",
      "source": [
        "Ans. In the file path C:\\bacon\\eggs\\spam.txt, the part C:\\bacon\\eggs is referred to as the \"dir name\" or \"directory name\", while the part spam.txt is referred to as the \"base name\" or \"file name\".\n",
        "\n",
        "The dir name is the path of the directory that contains the file, it includes all the directories leading up to the file. In this case, the dir name is C:\\bacon\\eggs, it includes the root directory C:\\ and all the subdirectories bacon and eggs\n",
        "\n",
        "The base name is the name of the file itself, it includes the name of the file and its file extension. In this case, the base name is spam.txt, it includes the name of the file spam and its extension .txt\n",
        "\n",
        "It's worth noting that the os module in Python provides a number of functions for working with file paths, such as os.path.basename() and os.path.dirname() which can be used to extract the base name and dir name from a file path respectively."
      ],
      "metadata": {
        "id": "Hh0ik6YRxf1H"
      }
    },
    {
      "cell_type": "markdown",
      "source": [
        "#6. What are the three “mode” arguments that can be passed to the open() function?"
      ],
      "metadata": {
        "id": "e9V0xeb2xjrL"
      }
    },
    {
      "cell_type": "markdown",
      "source": [
        "Ans. When opening a file in Python using the open() function, you can pass in a \"mode\" argument to specify how the file should be opened. The open() function takes the file name and the mode as its arguments. There are three main mode arguments that can be passed to the open() function:\n",
        "\n",
        "'r': This mode stands for \"read\" mode. It is the default mode, and it is used to open a file for reading. When the file is opened in read mode, the file pointer is placed at the beginning of the file, and you can read the contents of the file.\n",
        "\n",
        "'w': This mode stands for \"write\" mode. It is used to open a file for writing. When the file is opened in write mode, the file pointer is placed at the beginning of the file, and any existing data in the file is truncated (deleted).\n",
        "\n",
        "'a': This mode stands for \"append\" mode. It is used to open a file for writing, but it appends the data to the end of the file. When the file is opened in append mode, the file pointer is placed at the end of the file, and any data written to the file is added to the end of the existing data.\n",
        "In addition to these, there are other modes like 'x' which is used to open a file for exclusive creation, 'b' which is used to open a binary file, and 't' which is used to open a text file, also '+' which is used to open a file for updating (reading and writing)\n",
        "\n",
        "For example:"
      ],
      "metadata": {
        "id": "XlSGtnnRysZr"
      }
    },
    {
      "cell_type": "code",
      "source": [
        "f = open(\"example.txt\", \"r\")   # open the file for reading\n",
        "f = open(\"example.txt\", \"w\")   # open the file for writing (truncate if exists)\n",
        "f = open(\"example.txt\", \"a\")   # open the file for appending\n",
        "f = open(\"example.txt\", \"x\")   # open the file for exclusive creation\n",
        "f = open(\"example.txt\", \"b\")   # open the file in binary mode\n",
        "f = open(\"example.txt\", \"t\")   # open the file in text mode\n",
        "f = open(\"example.txt\", \"r+\")  # open the file for reading and writing\n"
      ],
      "metadata": {
        "id": "ez0w8qIpxT5G"
      },
      "execution_count": null,
      "outputs": []
    },
    {
      "cell_type": "markdown",
      "source": [
        "It's worth noting that when opening a file, it's important to close it after you are done with it using the .close() method or using the with open statement which will automatically close the file when it is no longer needed.\n",
        "\n",
        "\n",
        "\n"
      ],
      "metadata": {
        "id": "4IADwe1wy3Ih"
      }
    },
    {
      "cell_type": "code",
      "source": [],
      "metadata": {
        "id": "cSoIhrY8yzS3"
      },
      "execution_count": null,
      "outputs": []
    },
    {
      "cell_type": "markdown",
      "source": [
        "#7. What happens if an existing file is opened in write mode?"
      ],
      "metadata": {
        "id": "PA16mgR2zSk_"
      }
    },
    {
      "cell_type": "markdown",
      "source": [
        "Ans. When an existing file is opened in \"write\" mode using the open() function in Python, the file pointer is placed at the beginning of the file, and any existing data in the file is truncated (deleted). This means that when you write new data to the file, it will overwrite any existing data.\n",
        "\n",
        "For example, if you have a file called \"example.txt\" that contains the following text:"
      ],
      "metadata": {
        "id": "ccCGEVdrzkFU"
      }
    },
    {
      "cell_type": "code",
      "source": [
        "Hello World!\n"
      ],
      "metadata": {
        "id": "PLfXBP0IzUA_"
      },
      "execution_count": null,
      "outputs": []
    },
    {
      "cell_type": "markdown",
      "source": [
        "And you open this file in write mode like this"
      ],
      "metadata": {
        "id": "QTZTd1W5zsBX"
      }
    },
    {
      "cell_type": "code",
      "source": [
        "f = open(\"example.txt\", \"w\")\n"
      ],
      "metadata": {
        "id": "wTgunP7ZzntD"
      },
      "execution_count": 5,
      "outputs": []
    },
    {
      "cell_type": "markdown",
      "source": [
        "Any data you write to the file will overwrite the existing data in the file. For example:"
      ],
      "metadata": {
        "id": "m5A5XjJvzx6L"
      }
    },
    {
      "cell_type": "code",
      "source": [
        "f.write(\"Hello abhijeet!\")\n"
      ],
      "metadata": {
        "colab": {
          "base_uri": "https://localhost:8080/"
        },
        "id": "sYxWiesuzuvt",
        "outputId": "46b8f726-42c8-499c-de5d-9b82e20815a9"
      },
      "execution_count": 7,
      "outputs": [
        {
          "output_type": "execute_result",
          "data": {
            "text/plain": [
              "15"
            ]
          },
          "metadata": {},
          "execution_count": 7
        }
      ]
    },
    {
      "cell_type": "markdown",
      "source": [
        "Will overwrite the existing content of the file, so the file will now only contain \"Hello Python!\"\n",
        "\n",
        "It's important to be careful when opening a file in write mode, especially if you are working with an existing file that you want to keep the data. If you want to add data to an existing file without overwriting it, you should open the file in \"append\" mode instead (using the a mode argument) which will add new data to the end of the existing data."
      ],
      "metadata": {
        "id": "k_K8iusyz8WK"
      }
    },
    {
      "cell_type": "code",
      "source": [],
      "metadata": {
        "id": "ebSxSw0Xz02r"
      },
      "execution_count": null,
      "outputs": []
    },
    {
      "cell_type": "markdown",
      "source": [
        "#8. How do you tell the difference between read() and readlines()?"
      ],
      "metadata": {
        "id": "kBJILW_G0hoU"
      }
    },
    {
      "cell_type": "markdown",
      "source": [
        "Ans. read() reads the entire file and returns it as a single string, while readlines() reads the entire file and returns it as a list of strings, where each element in the list represents a line in the file.\n",
        "\n",
        "\n",
        "\n"
      ],
      "metadata": {
        "id": "IImKiPgL0kU7"
      }
    },
    {
      "cell_type": "markdown",
      "source": [
        "#9. What data structure does a shelf value resemble?"
      ],
      "metadata": {
        "id": "964JNPa91FIU"
      }
    },
    {
      "cell_type": "markdown",
      "source": [
        "Ans. A shelf value, created using the shelve module in Python, resembles a dictionary. It allows you to store and retrieve key-value pairs, where the keys are strings and the values can be of any type. However, unlike a dictionary, the data in a shelf is stored persistently on disk and can be accessed in multiple sessions.\n",
        "\n",
        "\n",
        "\n"
      ],
      "metadata": {
        "id": "eGszPwck1QnR"
      }
    },
    {
      "cell_type": "code",
      "source": [],
      "metadata": {
        "id": "Av_21yBL0jWF"
      },
      "execution_count": null,
      "outputs": []
    }
  ]
 
}
