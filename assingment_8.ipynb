{
  "nbformat": 4,
  "nbformat_minor": 0,
  "metadata": {
    "colab": {
      "provenance": []
    },
    "kernelspec": {
      "name": "python3",
      "display_name": "Python 3"
    },
    "language_info": {
      "name": "python"
    }
  },
  "cells": [
    {
      "cell_type": "markdown",
      "source": [
        "#1. Is the Python Standard Library included with PyInputPlus?"
      ],
      "metadata": {
        "id": "u_8rJMkIgnY1"
      }
    },
    {
      "cell_type": "markdown",
      "source": [
        "Ans. PyInputPlus is not a part of the Python Standard Library. It is an independent library created by Al Sweigart, which provides additional functionality for input validation and error handling."
      ],
      "metadata": {
        "id": "-FSNsZCig-jc"
      }
    },
    {
      "cell_type": "markdown",
      "source": [
        "#2. Why is PyInputPlus commonly imported with import pyinputplus as pypi?"
      ],
      "metadata": {
        "id": "0yBv9KhNhI_G"
      }
    },
    {
      "cell_type": "markdown",
      "source": [
        "Ans. It is common to use the \"as pypi\" alias when importing PyInputPlus to create a shorter and more convenient alias for the library. This allows the user to refer to the library using the \"pypi\" shorthand instead of typing out the full \"pyinputplus\" every time it is used. It's just a naming convention to make the code more readable and less verbose.\n",
        "\n",
        "\n",
        "\n"
      ],
      "metadata": {
        "id": "74GGdQtkhMHq"
      }
    },
    {
      "cell_type": "markdown",
      "source": [
        "#3. How do you distinguish between inputInt() and inputFloat()?"
      ],
      "metadata": {
        "id": "pB_YHIQZhdH8"
      }
    },
    {
      "cell_type": "markdown",
      "source": [
        "Ans. The inputInt() and inputFloat() functions are both part of the PyInputPlus library, and they are used to validate user input as integers and floating point numbers, respectively. To use inputInt(), you would call the function and pass in any necessary arguments, such as a prompt to display to the user. inputFloat() works the same way but for float numbers.\n",
        "\n",
        "For example:"
      ],
      "metadata": {
        "id": "OnF9SwFdh8RX"
      }
    },
    {
      "cell_type": "code",
      "source": [
        "!pip install pypi"
      ],
      "metadata": {
        "id": "rRargGI5iQsz"
      },
      "execution_count": null,
      "outputs": []
    },
    {
      "cell_type": "code",
      "execution_count": null,
      "metadata": {
        "id": "Z_HHMq3JgmOU"
      },
      "outputs": [],
      "source": [
        "import pyinputplus as pypi\n",
        "\n",
        "age = pypi.inputInt(\"What is your age? \")\n",
        "weight = pypi.inputFloat(\"What is your weight? \")\n"
      ]
    },
    {
      "cell_type": "markdown",
      "source": [
        "In this example, inputInt() is used to get an integer value for the user's age, while inputFloat() is used to get a floating point value for the user's weight."
      ],
      "metadata": {
        "id": "b-i5oDkeiGHO"
      }
    },
    {
      "cell_type": "markdown",
      "source": [
        "#4. Using PyInputPlus, how do you ensure that the user enters a whole number between 0 and 99?"
      ],
      "metadata": {
        "id": "gjfKS8iaitJF"
      }
    },
    {
      "cell_type": "markdown",
      "source": [
        "Ans we can use the inputInt() function from the PyInputPlus library to ensure that the user enters a whole number between 0 and 99. The function takes several optional arguments that can be used to set constraints on the input. Here's an example of how you can use inputInt() to ensure that the user enters a number between 0 and 99:\n",
        "\n"
      ],
      "metadata": {
        "id": "JtaDTTGhixAC"
      }
    },
    {
      "cell_type": "code",
      "source": [
        "import pyinputplus as pypi\n",
        "\n",
        "age = pypi.inputInt(\"What is your age? \", min=0, max=99)\n"
      ],
      "metadata": {
        "id": "E9FL-IwNiCTC"
      },
      "execution_count": null,
      "outputs": []
    },
    {
      "cell_type": "markdown",
      "source": [
        "In this example, the min argument is set to 0 and the max argument is set to 99. This means that the user will be prompted to enter a number and that number must be between 0 and 99 (inclusive). If the user enters a number outside of that range, they will be prompted to enter a valid number again until a valid number is entered.\n",
        "\n",
        "\n",
        "\n",
        "\n"
      ],
      "metadata": {
        "id": "7USugNKdi8mh"
      }
    },
    {
      "cell_type": "markdown",
      "source": [
        "#5. What is transferred to the keyword arguments allowRegexes and blockRegexes?"
      ],
      "metadata": {
        "id": "nhrQ_RBCjD2B"
      }
    },
    {
      "cell_type": "markdown",
      "source": [
        " Ans. The inputInt(), inputFloat(), inputStr(), and other input validation functions in the PyInputPlus library take two optional keyword arguments called allowRegexes and blockRegexes.\n",
        "\n",
        "allowRegexes is a list of regular expressions that define the set of valid input that the function will accept. For example, if you want to ensure that the user enters a valid email address, you could pass a regular expression that checks for the presence of an @ symbol and a . symbol in the input.\n",
        "\n",
        "blockRegexes is a list of regular expressions that define the set of invalid input that the function will not accept. For example, if you want to prevent the user from entering a phone number in their input, you could pass a regular expression that checks for the presence of digits in the input.\n",
        "\n",
        "For example:"
      ],
      "metadata": {
        "id": "H7anRvFvlau4"
      }
    },
    {
      "cell_type": "code",
      "source": [
        "import re\n",
        "import pyinputplus as pypi\n",
        "\n",
        "phone_number_pattern = re.compile(r'\\d{3}-\\d{3}-\\d{4}')\n",
        "email_pattern = re.compile(r'[A-Za-z0-9._%+-]+@[A-Za-z0-9.-]+\\.[A-Z|a-z]{2,}')\n",
        "\n",
        "user_input = pypi.inputStr(\"Enter your email: \", blockRegexes=[phone_number_pattern], allowRegexes=[email_pattern])\n",
        "\n"
      ],
      "metadata": {
        "id": "RgUCTtl6i5Vb"
      },
      "execution_count": null,
      "outputs": []
    },
    {
      "cell_type": "markdown",
      "source": [
        "#6. If a blank input is entered three times, what does inputStr(limit=3) do?"
      ],
      "metadata": {
        "id": "Pd55qHw4lqu6"
      }
    },
    {
      "cell_type": "markdown",
      "source": [
        "Ans. If a user enters a blank input (i.e an empty string) three times when using the inputStr(limit=3) function from the PyInputPlus library, the function will raise a RetryLimitException error.\n",
        "\n",
        "The limit argument specifies the maximum number of times that the user can enter a blank input before the function raises the exception. When the exception is raised, the program will stop executing, and an error message will be displayed to the user, indicating that the retry limit has been reached.\n",
        "\n",
        "You can catch this exception in a try-except block and handle it accordingly, for example by providing the user with more information or asking them to try again later.\n",
        "\n",
        "For example:\n",
        "\n"
      ],
      "metadata": {
        "id": "H4zDxDVblvfM"
      }
    },
    {
      "cell_type": "code",
      "source": [
        "import pyinputplus as pypi\n",
        "\n",
        "try:\n",
        "    user_input = pypi.inputStr(\"Enter a non-empty string: \", limit=3)\n",
        "except pypi.RetryLimitException as e:\n",
        "    print(f'Error: {e}')\n",
        "    print(\"Too many blank inputs, please try again later.\")\n"
      ],
      "metadata": {
        "id": "QgedaXIQlhbH"
      },
      "execution_count": null,
      "outputs": []
    },
    {
      "cell_type": "markdown",
      "source": [
        "In this example, if the user enters a blank input three times, the RetryLimitException will be raised and the program will execute the code in the except block where a message will be printed to the user.\n",
        "\n",
        "\n",
        "\n",
        "\n"
      ],
      "metadata": {
        "id": "t6NxjnRImDxl"
      }
    },
    {
      "cell_type": "markdown",
      "source": [
        "#7. If blank input is entered three times, what does inputStr(limit=3, default='hello') do?"
      ],
      "metadata": {
        "id": "rDtqyMxfmPAB"
      }
    },
    {
      "cell_type": "markdown",
      "source": [
        "Ans.If a user enters a blank input (i.e an empty string) three times when using the inputStr(limit=3, default='hello') function from the PyInputPlus library, the function will return the default value 'hello' and the program will continue executing.\n",
        "\n",
        "The default argument specifies the default value that the function will return if the user enters a blank input limit number of times. If a default value is specified, the user will not get a RetryLimitException error when they reach the limit of blank input.\n",
        "\n",
        "The limit argument specifies the maximum number of times that the user can enter a blank input before the function returns the default value.\n",
        "\n",
        "For example:"
      ],
      "metadata": {
        "id": "FF7CZxzBmjJm"
      }
    },
    {
      "cell_type": "code",
      "source": [
        "import pyinputplus as pypi\n",
        "\n",
        "user_input = pypi.inputStr(\"Enter a non-empty string: \", limit=3, default='hello')\n",
        "print(user_input)\n"
      ],
      "metadata": {
        "id": "XyLE5-ctmB6M"
      },
      "execution_count": null,
      "outputs": []
    },
    {
      "cell_type": "markdown",
      "source": [
        "In this example, if the user enters a blank input three times, the function will return the default value 'hello' and the program will continue executing, then it will print the user input which is 'hello'\n",
        "\n",
        "we can also use default argument in combination with allowRegexes and blockRegexes to provide a fallback value in case the user enters an invalid input."
      ],
      "metadata": {
        "id": "wT_vIoeBmpw7"
      }
    },
    {
      "cell_type": "code",
      "source": [],
      "metadata": {
        "id": "CvVTiMDWmn3a"
      },
      "execution_count": null,
      "outputs": []
    }
  ]
}