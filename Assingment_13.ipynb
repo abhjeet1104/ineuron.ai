{
  "nbformat": 4,
  "nbformat_minor": 0,
  "metadata": {
    "colab": {
      "provenance": []
    },
    "kernelspec": {
      "name": "python3",
      "display_name": "Python 3"
    },
    "language_info": {
      "name": "python"
    }
  },
  "cells": [
    {
      "cell_type": "markdown",
      "source": [
        "#1. What advantages do Excel spreadsheets have over CSV spreadsheets?"
      ],
      "metadata": {
        "id": "8Jb4Rqr75bI6"
      }
    },
    {
      "cell_type": "markdown",
      "source": [
        " Ans .Greater functionality: Excel spreadsheets have a wide range of built-in tools for data analysis, such as pivot tables, charts, and formulas.\n",
        "\n",
        "Better data visualization: Excel allows for the creation of charts and graphs, making it easier to understand and present data.\n",
        "\n",
        "Support for multiple sheets: Excel spreadsheets can have multiple sheets, making it easier to organize and separate different sets of data.\n",
        "\n",
        "Better data validation: Excel has built-in data validation tools that can be used to ensure data is entered in the correct format and within specific ranges.\n",
        "\n",
        "Greater flexibility: Excel allows for more flexibility in formatting and manipulating data than CSV spreadsheets.\n",
        "\n",
        "Better sharing and collaboration: Excel files can be easily shared and collaborated on with others, thanks to the various supported features such as comments, history, and cloud storage."
      ],
      "metadata": {
        "id": "k2fHw_Kb5eoB"
      }
    },
    {
      "cell_type": "markdown",
      "source": [
        "#2.What do you pass to csv.reader() and csv.writer() to create reader and writer objects?"
      ],
      "metadata": {
        "id": "qbZkHjKo6OU7"
      }
    },
    {
      "cell_type": "markdown",
      "source": [
        "Ans.To create a reader object using the csv module in Python, you pass an open file object to the csv.reader() function. The file object should be opened in text mode, with the appropriate encoding. For example:\n",
        "\n"
      ],
      "metadata": {
        "id": "nUQnbR1J6vE1"
      }
    },
    {
      "cell_type": "code",
      "execution_count": null,
      "metadata": {
        "id": "hvrq1LUX5Xvk"
      },
      "outputs": [],
      "source": [
        "import csv\n",
        "\n",
        "with open('data.csv', 'r', encoding='utf-8') as f:\n",
        "    reader = csv.reader(f)\n"
      ]
    },
    {
      "cell_type": "markdown",
      "source": [
        "To create a writer object using the csv module, you pass an open file object to the csv.writer() function. The file object should be opened in text mode, with the appropriate encoding. For example:"
      ],
      "metadata": {
        "id": "0vKb8lgW6_bY"
      }
    },
    {
      "cell_type": "code",
      "source": [
        "import csv\n",
        "\n",
        "with open('data.csv', 'w', encoding='utf-8') as f:\n",
        "    writer = csv.writer(f)\n"
      ],
      "metadata": {
        "id": "DWQFVX8667sI"
      },
      "execution_count": null,
      "outputs": []
    },
    {
      "cell_type": "markdown",
      "source": [
        "You can also specify the delimiter used in the CSV file by passing the delimiter value as an argument to the csv.reader() and csv.writer() functions. The default delimiter is a comma (,). For example, to use a tab as the delimiter:"
      ],
      "metadata": {
        "id": "JmhT4KrZ7IV0"
      }
    },
    {
      "cell_type": "code",
      "source": [
        "import csv\n",
        "with open('data.csv', 'w', encoding='utf-8',newline='') as f:\n",
        "    writer = csv.writer(f, delimiter='\\t')\n"
      ],
      "metadata": {
        "id": "i2yDHf0B7LXg"
      },
      "execution_count": 3,
      "outputs": []
    },
    {
      "cell_type": "markdown",
      "source": [
        "#3. What modes do File objects for reader and writer objects need to be opened in?"
      ],
      "metadata": {
        "id": "7PVri7RA7cZK"
      }
    },
    {
      "cell_type": "markdown",
      "source": [
        "Ans.File objects for reader objects need to be opened in \"r\" (reading) mode, while file objects for writer objects need to be opened in \"w\" (writing) mode.\n",
        "\n",
        "When you open a file in \"r\" mode, you can read the contents of the file, but you cannot write to it. If the file doesn't exist, you'll get an error.\n",
        "\n",
        "When you open a file in \"w\" mode, you can write to the file, but you cannot read its contents. If the file already exists, its contents will be truncated (i.e. deleted), and a new file will be created. If the file does not exist, a new file will be created with the given name.\n",
        "\n",
        "You can also open the file in \"a\" (appending) mode, which allows you to write to the file, but preserves the existing contents. If the file does not exist, a new file will be created with the given name.\n",
        "\n",
        "It is also a good practice to use 'b' mode with 'w' or 'r' mode for handling binary files to avoid encoding errors."
      ],
      "metadata": {
        "id": "XKNQsk1m7lKA"
      }
    },
    {
      "cell_type": "code",
      "source": [
        "with open('data.csv', 'rb') as f:\n",
        "    reader = csv.reader(f)\n"
      ],
      "metadata": {
        "id": "_fclpJD07O1d"
      },
      "execution_count": 4,
      "outputs": []
    },
    {
      "cell_type": "code",
      "source": [
        "with open('data.csv', 'wb') as f:\n",
        "    writer = csv.writer(f)\n"
      ],
      "metadata": {
        "id": "zmTUf79g7tcY"
      },
      "execution_count": 5,
      "outputs": []
    },
    {
      "cell_type": "markdown",
      "source": [
        "#4. What method takes a list argument and writes it to a CSV file?"
      ],
      "metadata": {
        "id": "-M7Ar9Io737e"
      }
    },
    {
      "cell_type": "markdown",
      "source": [
        "Ans.The writerow() method of the csv.writer object takes a list argument and writes it to a CSV file as a single row. The elements of the list are written as the individual fields of the row, separated by the delimiter specified when the writer object was created.\n",
        "\n",
        "For example, the following code writes a list of values to a CSV file:\n",
        "\n"
      ],
      "metadata": {
        "id": "ZN-rWNil8Hkt"
      }
    },
    {
      "cell_type": "code",
      "source": [
        "import csv\n",
        "\n",
        "data = ['value1', 'value2', 'value3']\n",
        "\n",
        "with open('data.csv', 'w', encoding='utf-8') as f:\n",
        "    writer = csv.writer(f)\n",
        "    writer.writerow(data)\n"
      ],
      "metadata": {
        "id": "L67q054S7v8P"
      },
      "execution_count": 6,
      "outputs": []
    },
    {
      "cell_type": "markdown",
      "source": [
        "Alternatively, you can use the writerows() method, which takes a list of lists and writes each inner list as a separate row in the CSV file."
      ],
      "metadata": {
        "id": "ZKDdj6-C8Q0R"
      }
    },
    {
      "cell_type": "code",
      "source": [
        "import csv\n",
        "\n",
        "data = [['value1', 'value2', 'value3'],['value4', 'value5', 'value6'],['value7', 'value8', 'value9']]\n",
        "\n",
        "with open('data.csv', 'w', encoding='utf-8') as f:\n",
        "    writer = csv.writer(f)\n",
        "    writer.writerows(data)\n"
      ],
      "metadata": {
        "id": "aw1bvICj8L87"
      },
      "execution_count": 7,
      "outputs": []
    },
    {
      "cell_type": "markdown",
      "source": [
        "It is important to note that the file should be opened in the write mode, otherwise the csv.writerow() method will raise an error."
      ],
      "metadata": {
        "id": "f3d7GEc08at5"
      }
    },
    {
      "cell_type": "markdown",
      "source": [
        "#5. What do the keyword arguments delimiter and line terminator do?"
      ],
      "metadata": {
        "id": "dkzQ6Km18f7z"
      }
    },
    {
      "cell_type": "markdown",
      "source": [
        "Ans.The delimiter and line_terminator keyword arguments are used when creating a csv.writer object in Python.\n",
        "\n",
        "The delimiter argument is used to specify the character that separates the fields in a CSV file. The default value is a comma (,), but you can specify a different character if needed. For example, to use a tab as the delimiter:\n",
        "\n"
      ],
      "metadata": {
        "id": "eFPjQMwj8xsg"
      }
    },
    {
      "cell_type": "code",
      "source": [
        "import csv\n",
        "with open('data.csv', 'w', encoding='utf-8',newline='') as f:\n",
        "    writer = csv.writer(f, delimiter='\\t')\n"
      ],
      "metadata": {
        "id": "M6Qloosm8VZw"
      },
      "execution_count": 8,
      "outputs": []
    },
    {
      "cell_type": "markdown",
      "source": [
        "The line_terminator argument is used to specify the character that separates the rows in a CSV file. The default value is the newline character (\\n) but you can specify a different character if needed. For example, to use a semicolon as the line terminator:\n",
        "\n"
      ],
      "metadata": {
        "id": "Eq_HT5DP85WQ"
      }
    },
    {
      "cell_type": "code",
      "source": [
        "import csv\n",
        "with open('data.csv', 'w', encoding='utf-8',newline='') as f:\n",
        "    writer = csv.writer(f, delimiter=',', line_terminator=';')\n"
      ],
      "metadata": {
        "id": "HjryPJ2n81xz"
      },
      "execution_count": null,
      "outputs": []
    },
    {
      "cell_type": "markdown",
      "source": [
        "It is important to note that when writing to a CSV file, it's a good practice to use the newline='' argument to avoid encoding issues when reading the file."
      ],
      "metadata": {
        "id": "CJGZ2acM9BnI"
      }
    },
    {
      "cell_type": "markdown",
      "source": [
        "#6. What function takes a string of JSON data and returns a Python data structure?"
      ],
      "metadata": {
        "id": "tqtrMeR19Guy"
      }
    },
    {
      "cell_type": "markdown",
      "source": [
        "Ans.The json.loads() function takes a string of JSON data and returns a Python data structure.\n",
        "\n",
        "Here is an example:\n",
        "\n"
      ],
      "metadata": {
        "id": "5aZR5xZS9Ov3"
      }
    },
    {
      "cell_type": "code",
      "source": [
        "import json\n",
        "\n",
        "json_data = '{\"name\": \"John Smith\", \"age\": 30}'\n",
        "\n",
        "python_data = json.loads(json_data)\n",
        "\n",
        "print(python_data)\n",
        "# Output: {\"name\": \"John Smith\", \"age\": 30}\n"
      ],
      "metadata": {
        "colab": {
          "base_uri": "https://localhost:8080/"
        },
        "id": "ScRoWwD788K6",
        "outputId": "38ea0b37-41cb-4e5f-f432-af1a740cfbf1"
      },
      "execution_count": 10,
      "outputs": [
        {
          "output_type": "stream",
          "name": "stdout",
          "text": [
            "{'name': 'John Smith', 'age': 30}\n"
          ]
        }
      ]
    },
    {
      "cell_type": "markdown",
      "source": [
        "In this example, the json.loads() function is used to parse the JSON string json_data and convert it into a Python dictionary. The resulting Python data structure can be used like any other Python data structure, with the keys and values accessible via standard dictionary accessors.\n",
        "\n",
        "You can also use json.load() function which is similar to json.loads() but it reads from a file-like object, instead of a string"
      ],
      "metadata": {
        "id": "XFJwZcZI9XL4"
      }
    },
    {
      "cell_type": "code",
      "source": [
        "import json\n",
        "\n",
        "with open('data.json', 'r') as f:\n",
        "    python_data = json.load(f)\n"
      ],
      "metadata": {
        "id": "10s1h9RG9TNU"
      },
      "execution_count": null,
      "outputs": []
    },
    {
      "cell_type": "markdown",
      "source": [
        "It is important to note that the file should be opened in the read mode, otherwise the json.load() method will raise an error."
      ],
      "metadata": {
        "id": "ZgGI71af9eXx"
      }
    },
    {
      "cell_type": "markdown",
      "source": [
        "#7. What function takes a Python data structure and returns a string of JSON data?"
      ],
      "metadata": {
        "id": "VOpq6g4m9lcg"
      }
    },
    {
      "cell_type": "markdown",
      "source": [
        "Ans. The json.dumps() function takes a Python data structure (such as a dictionary or list) and returns a string of JSON data.\n",
        "\n",
        "Here is an example:\n",
        "\n"
      ],
      "metadata": {
        "id": "JoRpnfEX-N2d"
      }
    },
    {
      "cell_type": "code",
      "source": [
        "import json\n",
        "\n",
        "python_data = {\"name\": \"John Smith\", \"age\": 30}\n",
        "\n",
        "json_data = json.dumps(python_data)\n",
        "\n",
        "print(json_data)\n",
        "# Output: {\"name\": \"John Smith\", \"age\": 30}\n"
      ],
      "metadata": {
        "colab": {
          "base_uri": "https://localhost:8080/"
        },
        "id": "xw9wWYkC9bGH",
        "outputId": "3595ec52-7fe6-4af7-de5a-00fea2c794ce"
      },
      "execution_count": 12,
      "outputs": [
        {
          "output_type": "stream",
          "name": "stdout",
          "text": [
            "{\"name\": \"John Smith\", \"age\": 30}\n"
          ]
        }
      ]
    },
    {
      "cell_type": "markdown",
      "source": [
        "In this example, the json.dumps() function is used to convert the Python dictionary python_data into a JSON string. The resulting JSON string can be saved to a file or transmitted over a network, and can be loaded using the json.loads() function.\n",
        "\n",
        "You can also use json.dump() function which is similar to json.dumps() but it writes to a file-like object, instead of a string"
      ],
      "metadata": {
        "id": "M4EHWxd1-V_W"
      }
    },
    {
      "cell_type": "code",
      "source": [
        "import json\n",
        "\n",
        "python_data = {\"name\": \"John Smith\", \"age\": 30}\n",
        "\n",
        "with open('data.json', 'w') as f:\n",
        "    json.dump(python_data, f)\n"
      ],
      "metadata": {
        "id": "1cewpMXd-SMp"
      },
      "execution_count": 13,
      "outputs": []
    },
    {
      "cell_type": "markdown",
      "source": [
        "It is important to note that the file should be opened in the write mode, otherwise the json.dump() method will raise an error.\n",
        "\n",
        "\n",
        "\n"
      ],
      "metadata": {
        "id": "nkwQoGHH-c4c"
      }
    },
    {
      "cell_type": "code",
      "source": [],
      "metadata": {
        "id": "arcOhN99-ZX1"
      },
      "execution_count": null,
      "outputs": []
    }
  ]
}