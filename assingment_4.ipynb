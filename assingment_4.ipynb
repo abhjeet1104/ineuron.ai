{
  "nbformat": 4,
  "nbformat_minor": 0,
  "metadata": {
    "colab": {
      "provenance": []
    },
    "kernelspec": {
      "name": "python3",
      "display_name": "Python 3"
    },
    "language_info": {
      "name": "python"
    }
  },
  "cells": [
    {
      "cell_type": "code",
      "execution_count": null,
      "metadata": {
        "id": "x_ZOLYgDbFwx"
      },
      "outputs": [],
      "source": []
    },
    {
      "cell_type": "markdown",
      "source": [
        "#1. What exactly is []?"
      ],
      "metadata": {
        "id": "E6s4bM-RnxLA"
      }
    },
    {
      "cell_type": "markdown",
      "source": [
        "In programming, [] is used to represent an empty list. A list is a data structure that holds an ordered collection of items. Lists are a very useful data type in programming, as they allow you to store and manipulate multiple values in a single place.\n",
        "\n",
        "Here is an example of how you might create an empty list in Python:"
      ],
      "metadata": {
        "id": "we7uUhZboGO0"
      }
    },
    {
      "cell_type": "code",
      "source": [
        "my_list = []\n"
      ],
      "metadata": {
        "id": "3frVFUS0n2vv"
      },
      "execution_count": 1,
      "outputs": []
    },
    {
      "cell_type": "markdown",
      "source": [
        "You can then add items to the list using the append() method:\n",
        "\n"
      ],
      "metadata": {
        "id": "fb77q322oRtU"
      }
    },
    {
      "cell_type": "code",
      "source": [
        "my_list.append(1)\n",
        "my_list.append(2)\n",
        "my_list.append(3)\n"
      ],
      "metadata": {
        "id": "3jqS_NqgoKF-"
      },
      "execution_count": 2,
      "outputs": []
    },
    {
      "cell_type": "markdown",
      "source": [
        "The resulting list would be [1, 2, 3].\n",
        "\n",
        "You can also create a list with items already in it by enclosing a comma-separated sequence of values in square brackets:"
      ],
      "metadata": {
        "id": "CW4WQzyjoZMI"
      }
    },
    {
      "cell_type": "markdown",
      "source": [
        "#2. In a list of values stored in a variable called spam, how would you assign the value 'hello' as the third value? (Assume [2, 4, 6, 8, 10] are in spam.)"
      ],
      "metadata": {
        "id": "HDYuYQF0ohjx"
      }
    },
    {
      "cell_type": "markdown",
      "source": [
        "To assign the value 'hello' as the third value in a list called spam, you can use the following code:"
      ],
      "metadata": {
        "id": "lmWS7VUTo0y6"
      }
    },
    {
      "cell_type": "code",
      "source": [
        "!pip install spam"
      ],
      "metadata": {
        "colab": {
          "base_uri": "https://localhost:8080/",
          "height": 1000
        },
        "id": "ZfDCJQU9pGIC",
        "outputId": "0a143870-82e5-4eb2-d56f-eaa058aecd2d"
      },
      "execution_count": 5,
      "outputs": [
        {
          "output_type": "stream",
          "name": "stdout",
          "text": [
            "Looking in indexes: https://pypi.org/simple, https://us-python.pkg.dev/colab-wheels/public/simple/\n",
            "Collecting spam\n",
            "  Downloading spam-0.6.1.3-cp38-cp38-manylinux_2_17_x86_64.manylinux2014_x86_64.whl (27.3 MB)\n",
            "\u001b[K     |████████████████████████████████| 27.3 MB 1.7 MB/s \n",
            "\u001b[?25hRequirement already satisfied: numpy>=1.19.5 in /usr/local/lib/python3.8/dist-packages (from spam) (1.21.6)\n",
            "Requirement already satisfied: scikit-image>=0.17.2 in /usr/local/lib/python3.8/dist-packages (from spam) (0.18.3)\n",
            "Requirement already satisfied: h5py>=3.1.0 in /usr/local/lib/python3.8/dist-packages (from spam) (3.1.0)\n",
            "Collecting meshio>=4.3.11\n",
            "  Downloading meshio-5.3.4-py3-none-any.whl (167 kB)\n",
            "\u001b[K     |████████████████████████████████| 167 kB 56.6 MB/s \n",
            "\u001b[?25hCollecting pybind11==2.5.0\n",
            "  Downloading pybind11-2.5.0-py2.py3-none-any.whl (296 kB)\n",
            "\u001b[K     |████████████████████████████████| 296 kB 59.7 MB/s \n",
            "\u001b[?25hCollecting rpy2==3.2.2\n",
            "  Downloading rpy2-3.2.2.tar.gz (162 kB)\n",
            "\u001b[K     |████████████████████████████████| 162 kB 57.3 MB/s \n",
            "\u001b[?25hRequirement already satisfied: tifffile>=2020.8.25 in /usr/local/lib/python3.8/dist-packages (from spam) (2022.10.10)\n",
            "Collecting matplotlib>=3.3.4\n",
            "  Downloading matplotlib-3.6.2-cp38-cp38-manylinux_2_12_x86_64.manylinux2010_x86_64.whl (9.4 MB)\n",
            "\u001b[K     |████████████████████████████████| 9.4 MB 43.0 MB/s \n",
            "\u001b[?25hCollecting SimpleITK>=2.0.2\n",
            "  Downloading SimpleITK-2.2.1-cp38-cp38-manylinux_2_17_x86_64.manylinux2014_x86_64.whl (52.7 MB)\n",
            "\u001b[K     |████████████████████████████████| 52.7 MB 145 kB/s \n",
            "\u001b[?25hCollecting python-decouple>=3.4\n",
            "  Downloading python_decouple-3.6-py3-none-any.whl (9.9 kB)\n",
            "Collecting PyQt5>=5.14.2\n",
            "  Downloading PyQt5-5.15.7-cp37-abi3-manylinux1_x86_64.whl (8.4 MB)\n",
            "\u001b[K     |████████████████████████████████| 8.4 MB 42.1 MB/s \n",
            "\u001b[?25hCollecting pyamg>=4.0.0\n",
            "  Downloading pyamg-4.2.3-cp38-cp38-manylinux_2_12_x86_64.manylinux2010_x86_64.whl (1.7 MB)\n",
            "\u001b[K     |████████████████████████████████| 1.7 MB 69.2 MB/s \n",
            "\u001b[?25hCollecting qimage2ndarray>=1.8.3\n",
            "  Downloading qimage2ndarray-1.9.0-py3-none-any.whl (12 kB)\n",
            "Collecting gmsh>=4.9.3\n",
            "  Downloading gmsh-4.11.1-py2.py3-none-manylinux1_x86_64.whl (38.8 MB)\n",
            "\u001b[K     |████████████████████████████████| 38.8 MB 1.2 MB/s \n",
            "\u001b[?25hRequirement already satisfied: scipy>=1.5.4 in /usr/local/lib/python3.8/dist-packages (from spam) (1.7.3)\n",
            "Collecting progressbar>=2.5\n",
            "  Downloading progressbar-2.5.tar.gz (10 kB)\n",
            "Requirement already satisfied: pytest in /usr/local/lib/python3.8/dist-packages (from rpy2==3.2.2->spam) (3.6.4)\n",
            "Requirement already satisfied: jinja2 in /usr/local/lib/python3.8/dist-packages (from rpy2==3.2.2->spam) (2.11.3)\n",
            "Requirement already satisfied: pytz in /usr/local/lib/python3.8/dist-packages (from rpy2==3.2.2->spam) (2022.6)\n",
            "Collecting simplegeneric\n",
            "  Downloading simplegeneric-0.8.1.zip (12 kB)\n",
            "Requirement already satisfied: tzlocal in /usr/local/lib/python3.8/dist-packages (from rpy2==3.2.2->spam) (1.5.1)\n",
            "Requirement already satisfied: cffi>=1.13.1 in /usr/local/lib/python3.8/dist-packages (from rpy2==3.2.2->spam) (1.15.1)\n",
            "Requirement already satisfied: pycparser in /usr/local/lib/python3.8/dist-packages (from cffi>=1.13.1->rpy2==3.2.2->spam) (2.21)\n",
            "Requirement already satisfied: packaging>=20.0 in /usr/local/lib/python3.8/dist-packages (from matplotlib>=3.3.4->spam) (21.3)\n",
            "Requirement already satisfied: pyparsing>=2.2.1 in /usr/local/lib/python3.8/dist-packages (from matplotlib>=3.3.4->spam) (3.0.9)\n",
            "Collecting contourpy>=1.0.1\n",
            "  Downloading contourpy-1.0.6-cp38-cp38-manylinux_2_17_x86_64.manylinux2014_x86_64.whl (295 kB)\n",
            "\u001b[K     |████████████████████████████████| 295 kB 54.6 MB/s \n",
            "\u001b[?25hRequirement already satisfied: python-dateutil>=2.7 in /usr/local/lib/python3.8/dist-packages (from matplotlib>=3.3.4->spam) (2.8.2)\n",
            "Requirement already satisfied: pillow>=6.2.0 in /usr/local/lib/python3.8/dist-packages (from matplotlib>=3.3.4->spam) (7.1.2)\n",
            "Requirement already satisfied: kiwisolver>=1.0.1 in /usr/local/lib/python3.8/dist-packages (from matplotlib>=3.3.4->spam) (1.4.4)\n",
            "Collecting fonttools>=4.22.0\n",
            "  Downloading fonttools-4.38.0-py3-none-any.whl (965 kB)\n",
            "\u001b[K     |████████████████████████████████| 965 kB 64.4 MB/s \n",
            "\u001b[?25hRequirement already satisfied: cycler>=0.10 in /usr/local/lib/python3.8/dist-packages (from matplotlib>=3.3.4->spam) (0.11.0)\n",
            "Collecting rich\n",
            "  Downloading rich-12.6.0-py3-none-any.whl (237 kB)\n",
            "\u001b[K     |████████████████████████████████| 237 kB 53.4 MB/s \n",
            "\u001b[?25hCollecting PyQt5-sip<13,>=12.11\n",
            "  Downloading PyQt5_sip-12.11.0-cp38-cp38-manylinux1_x86_64.whl (361 kB)\n",
            "\u001b[K     |████████████████████████████████| 361 kB 51.5 MB/s \n",
            "\u001b[?25hCollecting PyQt5-Qt5>=5.15.0\n",
            "  Downloading PyQt5_Qt5-5.15.2-py3-none-manylinux2014_x86_64.whl (59.9 MB)\n",
            "\u001b[K     |████████████████████████████████| 59.9 MB 1.2 MB/s \n",
            "\u001b[?25hRequirement already satisfied: six>=1.5 in /usr/local/lib/python3.8/dist-packages (from python-dateutil>=2.7->matplotlib>=3.3.4->spam) (1.15.0)\n",
            "Requirement already satisfied: networkx>=2.0 in /usr/local/lib/python3.8/dist-packages (from scikit-image>=0.17.2->spam) (2.8.8)\n",
            "Requirement already satisfied: PyWavelets>=1.1.1 in /usr/local/lib/python3.8/dist-packages (from scikit-image>=0.17.2->spam) (1.4.1)\n",
            "Requirement already satisfied: imageio>=2.3.0 in /usr/local/lib/python3.8/dist-packages (from scikit-image>=0.17.2->spam) (2.9.0)\n",
            "Requirement already satisfied: MarkupSafe>=0.23 in /usr/local/lib/python3.8/dist-packages (from jinja2->rpy2==3.2.2->spam) (2.0.1)\n",
            "Requirement already satisfied: more-itertools>=4.0.0 in /usr/local/lib/python3.8/dist-packages (from pytest->rpy2==3.2.2->spam) (9.0.0)\n",
            "Requirement already satisfied: atomicwrites>=1.0 in /usr/local/lib/python3.8/dist-packages (from pytest->rpy2==3.2.2->spam) (1.4.1)\n",
            "Requirement already satisfied: setuptools in /usr/local/lib/python3.8/dist-packages (from pytest->rpy2==3.2.2->spam) (57.4.0)\n",
            "Requirement already satisfied: pluggy<0.8,>=0.5 in /usr/local/lib/python3.8/dist-packages (from pytest->rpy2==3.2.2->spam) (0.7.1)\n",
            "Requirement already satisfied: py>=1.5.0 in /usr/local/lib/python3.8/dist-packages (from pytest->rpy2==3.2.2->spam) (1.11.0)\n",
            "Requirement already satisfied: attrs>=17.4.0 in /usr/local/lib/python3.8/dist-packages (from pytest->rpy2==3.2.2->spam) (22.1.0)\n",
            "Collecting commonmark<0.10.0,>=0.9.0\n",
            "  Downloading commonmark-0.9.1-py2.py3-none-any.whl (51 kB)\n",
            "\u001b[K     |████████████████████████████████| 51 kB 6.0 MB/s \n",
            "\u001b[?25hRequirement already satisfied: typing-extensions<5.0,>=4.0.0 in /usr/local/lib/python3.8/dist-packages (from rich->meshio>=4.3.11->spam) (4.4.0)\n",
            "Requirement already satisfied: pygments<3.0.0,>=2.6.0 in /usr/local/lib/python3.8/dist-packages (from rich->meshio>=4.3.11->spam) (2.6.1)\n",
            "Building wheels for collected packages: rpy2, progressbar, simplegeneric\n",
            "  Building wheel for rpy2 (setup.py) ... \u001b[?25l\u001b[?25hdone\n",
            "  Created wheel for rpy2: filename=rpy2-3.2.2-cp38-cp38-linux_x86_64.whl size=260287 sha256=ae867469135b844f663a969d6c2cfbc22e4faf2209a6f21d6354766bd1b18279\n",
            "  Stored in directory: /root/.cache/pip/wheels/fa/61/bb/64eede39a440528c0a4d6819cf985af4a3fceb2f8dada9a63f\n",
            "  Building wheel for progressbar (setup.py) ... \u001b[?25l\u001b[?25hdone\n",
            "  Created wheel for progressbar: filename=progressbar-2.5-py3-none-any.whl size=12081 sha256=9b1990210305d2b7114c574052067f4a36f0bac007010608169e5814fcdab942\n",
            "  Stored in directory: /root/.cache/pip/wheels/2c/67/ed/d84123843c937d7e7f5ba88a270d11036473144143355e2747\n",
            "  Building wheel for simplegeneric (setup.py) ... \u001b[?25l\u001b[?25hdone\n",
            "  Created wheel for simplegeneric: filename=simplegeneric-0.8.1-py3-none-any.whl size=5078 sha256=2b819372c6510745d0ba4095ea8f78da7a2bb5908eb983e0144b8a7d8e119e33\n",
            "  Stored in directory: /root/.cache/pip/wheels/0b/32/6b/5f5447909a062da20dfe432fa945d8f98636692637deccaa8a\n",
            "Successfully built rpy2 progressbar simplegeneric\n",
            "Installing collected packages: fonttools, contourpy, commonmark, simplegeneric, rich, PyQt5-sip, PyQt5-Qt5, matplotlib, SimpleITK, rpy2, qimage2ndarray, python-decouple, PyQt5, pybind11, pyamg, progressbar, meshio, gmsh, spam\n",
            "  Attempting uninstall: matplotlib\n",
            "    Found existing installation: matplotlib 3.2.2\n",
            "    Uninstalling matplotlib-3.2.2:\n",
            "      Successfully uninstalled matplotlib-3.2.2\n",
            "  Attempting uninstall: rpy2\n",
            "    Found existing installation: rpy2 3.5.5\n",
            "    Uninstalling rpy2-3.5.5:\n",
            "      Successfully uninstalled rpy2-3.5.5\n",
            "Successfully installed PyQt5-5.15.7 PyQt5-Qt5-5.15.2 PyQt5-sip-12.11.0 SimpleITK-2.2.1 commonmark-0.9.1 contourpy-1.0.6 fonttools-4.38.0 gmsh-4.11.1 matplotlib-3.6.2 meshio-5.3.4 progressbar-2.5 pyamg-4.2.3 pybind11-2.5.0 python-decouple-3.6 qimage2ndarray-1.9.0 rich-12.6.0 rpy2-3.2.2 simplegeneric-0.8.1 spam-0.6.1.3\n"
          ]
        },
        {
          "output_type": "display_data",
          "data": {
            "application/vnd.colab-display-data+json": {
              "pip_warning": {
                "packages": [
                  "matplotlib",
                  "mpl_toolkits"
                ]
              }
            }
          },
          "metadata": {}
        }
      ]
    },
    {
      "cell_type": "code",
      "source": [
        "spam[2] = 'hello'\n"
      ],
      "metadata": {
        "id": "l7L5L8xeoUwk"
      },
      "execution_count": null,
      "outputs": []
    },
    {
      "cell_type": "markdown",
      "source": [
        "This will replace the value at index 2 in the list (which is 6 in this case) with the value 'hello'.\n",
        "\n",
        "The resulting list would be: [2, 4, 'hello', 8, 10]\n",
        "\n",
        "Keep in mind that list indices are zero-based, so the first item in the list is at index 0, the second item is at index 1, and so on.\n",
        "\n",
        "You can also use the insert() method to insert a new value at a specific index in the list:"
      ],
      "metadata": {
        "id": "eKuI0xMZo6Vh"
      }
    },
    {
      "cell_type": "code",
      "source": [
        "spam.insert(2, 'hello')\n"
      ],
      "metadata": {
        "id": "do3MM1-io3v5"
      },
      "execution_count": null,
      "outputs": []
    },
    {
      "cell_type": "markdown",
      "source": [
        "This will insert the value 'hello' at index 2 in the list, shifting the other values to the right. The resulting list would be: [2, 4, 'hello', 6, 8, 10]"
      ],
      "metadata": {
        "id": "-ril2TXApwID"
      }
    },
    {
      "cell_type": "markdown",
      "source": [
        "#3. What is the value of spam[int(int('3' * 2) / 11)]?"
      ],
      "metadata": {
        "id": "_djrKYDRp1sR"
      }
    },
    {
      "cell_type": "markdown",
      "source": [
        "The value of spam[int(int('3' * 2) / 11)] is spam[1].\n",
        "\n",
        "Here's how the expression is evaluated:\n",
        "\n",
        "'3' * 2 is equal to '33', which is a string.\n",
        "int('33') is equal to 33, which is an integer.\n",
        "int(33) / 11 is equal to 3, which is also an integer.\n",
        "int(3) is equal to 3, which is the index of the second element in the list (since list indices are zero-based).\n",
        "Therefore, the value of spam[int(int('3' * 2) / 11)] is spam[1]."
      ],
      "metadata": {
        "id": "0yqdcljcqIE8"
      }
    },
    {
      "cell_type": "markdown",
      "source": [
        "#4. What is the value of spam[-1]?"
      ],
      "metadata": {
        "id": "WkYOhKDIqTTD"
      }
    },
    {
      "cell_type": "markdown",
      "source": [
        "The value of spam[-1] is the last item in the list.\n",
        "\n",
        "In Python, you can use negative indices to access elements of a list starting from the end of the list. For example, spam[-1] is the last item in the list, spam[-2] is the second-to-last item, and so on.\n",
        "\n",
        "Here's an example of how you might use negative indices to access items in a list:"
      ],
      "metadata": {
        "id": "yjrSZZVNq7SI"
      }
    },
    {
      "cell_type": "code",
      "source": [
        "spam = [2, 4, 6, 8, 10]\n",
        "\n",
        "# The value of spam[-1] is 10\n",
        "print(spam[-1])\n",
        "\n",
        "# The value of spam[-2] is 8\n",
        "print(spam[-2])\n",
        "\n",
        "# The value of spam[-5] is 2\n",
        "print(spam[-5])\n"
      ],
      "metadata": {
        "colab": {
          "base_uri": "https://localhost:8080/"
        },
        "id": "mnHjJqmYpDC2",
        "outputId": "0fbab66d-23df-434b-f661-cddf588d7ac5"
      },
      "execution_count": 7,
      "outputs": [
        {
          "output_type": "stream",
          "name": "stdout",
          "text": [
            "10\n",
            "8\n",
            "2\n"
          ]
        }
      ]
    },
    {
      "cell_type": "markdown",
      "source": [
        "#5. What is the value of spam[:2]?"
      ],
      "metadata": {
        "id": "IvIAOL25rLsY"
      }
    },
    {
      "cell_type": "markdown",
      "source": [
        "The value of spam[:2] is a sublist of spam that contains the first two items in the list.\n",
        "\n",
        "In Python, you can use slice notation to extract a sublist from a larger list. The slice notation consists of two indices separated by a colon (:). The first index is the starting position of the slice, and the second index is the ending position (exclusive). If you omit the starting index, the slice starts at the beginning of the list. If you omit the ending index, the slice ends at the end of the list.\n",
        "\n",
        "Here's an example of how you might use slice notation to extract a sublist from a list:\n"
      ],
      "metadata": {
        "id": "RneWSxGFrchR"
      }
    },
    {
      "cell_type": "code",
      "source": [
        "spam = [2, 4, 6, 8, 10]\n",
        "\n",
        "# The value of spam[:2] is [2, 4]\n",
        "print(spam[:2])\n",
        "\n",
        "# The value of spam[1:3] is [4, 6]\n",
        "print(spam[1:3])\n",
        "\n",
        "# The value of spam[2:] is [6, 8, 10]\n",
        "print(spam[2:])\n"
      ],
      "metadata": {
        "colab": {
          "base_uri": "https://localhost:8080/"
        },
        "id": "-m_Nb80drdRj",
        "outputId": "6ca1aebf-4b99-4c3e-edaf-83652560bc52"
      },
      "execution_count": 8,
      "outputs": [
        {
          "output_type": "stream",
          "name": "stdout",
          "text": [
            "[2, 4]\n",
            "[4, 6]\n",
            "[6, 8, 10]\n"
          ]
        }
      ]
    },
    {
      "cell_type": "markdown",
      "source": [
        "Let's pretend bacon has the list [3.14, 'cat,' 11, 'cat,' True] for the next three questions.\n",
        "#6. What is the value of bacon.index('cat')?\n"
      ],
      "metadata": {
        "id": "u4L2385_rkUu"
      }
    },
    {
      "cell_type": "markdown",
      "source": [
        "The value of bacon.index('cat') would be 1. The index() method returns the index of the first occurrence of the specified value in the list. In this case, the first occurrence of the string 'cat' in the list bacon is at index 1.\n",
        "\n",
        "\n",
        "\n"
      ],
      "metadata": {
        "id": "7eE6FHotsdaG"
      }
    },
    {
      "cell_type": "markdown",
      "source": [
        "#7. How does bacon.append(99) change the look of the list value in bacon?"
      ],
      "metadata": {
        "id": "Dihey-btsjkY"
      }
    },
    {
      "cell_type": "markdown",
      "source": [
        "After running bacon.append(99), the list value in bacon would become [3.14, 'cat', 11, 'cat', True, 99]."
      ],
      "metadata": {
        "id": "3zmrAEVVs21M"
      }
    },
    {
      "cell_type": "markdown",
      "source": [
        "#8. How does bacon.remove('cat') change the look of the list in bacon?"
      ],
      "metadata": {
        "id": "bGBRsrKAs_I2"
      }
    },
    {
      "cell_type": "markdown",
      "source": [
        "The list in bacon would change from [3.14, 'cat,' 11, 'cat,' True] to [3.14, 11, 'cat,' True]. The first occurrence of the string 'cat' would be removed from the list."
      ],
      "metadata": {
        "id": "2TSaeFZ6tK_L"
      }
    },
    {
      "cell_type": "markdown",
      "source": [
        "#9. What are the list concatenation and list replication operators?"
      ],
      "metadata": {
        "id": "5phBc1GLtTTA"
      }
    },
    {
      "cell_type": "markdown",
      "source": [
        "The list concatenation operator is the \"+\" symbol, which combines two lists into a single list. The list replication operator is the \"*\" symbol, which creates a new list by repeating a given list a specified number of times. For example:\n",
        "\n",
        "list1 = [1, 2, 3]\n",
        "list2 = [4, 5, 6]"
      ],
      "metadata": {
        "id": "RoX0dqJltly5"
      }
    },
    {
      "cell_type": "markdown",
      "source": [
        "#Concatenation"
      ],
      "metadata": {
        "id": "t5shsd1jtm_c"
      }
    },
    {
      "cell_type": "markdown",
      "source": [
        "list3 = list1 + list2 # [1, 2, 3, 4, 5, 6]"
      ],
      "metadata": {
        "id": "lRQ77KKstus9"
      }
    },
    {
      "cell_type": "markdown",
      "source": [
        "#Replication"
      ],
      "metadata": {
        "id": "lhpKHd9dtxyC"
      }
    },
    {
      "cell_type": "markdown",
      "source": [
        "list4 = list1 * 3 # [1, 2, 3, 1, 2, 3, 1, 2, 3]"
      ],
      "metadata": {
        "id": "5T9P89eut6DZ"
      }
    },
    {
      "cell_type": "markdown",
      "source": [
        "#10. What is difference between the list methods append() and insert()?"
      ],
      "metadata": {
        "id": "n_hT3z3-zVxV"
      }
    },
    {
      "cell_type": "markdown",
      "source": [
        "The append() method adds an element to the end of a list. It takes a single argument, which is the element to be added. For example:"
      ],
      "metadata": {
        "id": "aVhcuCkmzqs0"
      }
    },
    {
      "cell_type": "code",
      "source": [
        "numbers = [1, 2, 3]\n",
        "numbers.append(4)\n",
        "print(numbers)  # [1, 2, 3, 4]\n"
      ],
      "metadata": {
        "colab": {
          "base_uri": "https://localhost:8080/"
        },
        "id": "tle3CmgEtBAo",
        "outputId": "0d3dc4f5-b56a-4ae7-e7e6-e97d2440baf5"
      },
      "execution_count": 9,
      "outputs": [
        {
          "output_type": "stream",
          "name": "stdout",
          "text": [
            "[1, 2, 3, 4]\n"
          ]
        }
      ]
    },
    {
      "cell_type": "markdown",
      "source": [
        "On the other hand, the insert() method inserts an element at a specific position in a list. It takes two arguments: the index at which the element should be inserted, and the element to be inserted. For example:\n",
        "\n"
      ],
      "metadata": {
        "id": "2oVb0MZszyEC"
      }
    },
    {
      "cell_type": "code",
      "source": [
        "numbers = [1, 2, 4]\n",
        "numbers.insert(2, 3)\n",
        "print(numbers)  # [1, 2, 3, 4]\n"
      ],
      "metadata": {
        "colab": {
          "base_uri": "https://localhost:8080/"
        },
        "id": "pVCrGMxkzuw4",
        "outputId": "5b840244-f712-4311-b571-6114b9d35fbe"
      },
      "execution_count": 10,
      "outputs": [
        {
          "output_type": "stream",
          "name": "stdout",
          "text": [
            "[1, 2, 3, 4]\n"
          ]
        }
      ]
    },
    {
      "cell_type": "markdown",
      "source": [
        "In this example, the element 3 is inserted at index 2, shifting the rest of the elements to the right."
      ],
      "metadata": {
        "id": "OWNuJ92tz45o"
      }
    },
    {
      "cell_type": "markdown",
      "source": [
        "#11. What are the two methods for removing items from a list?"
      ],
      "metadata": {
        "id": "n-i4r60O0C9P"
      }
    },
    {
      "cell_type": "markdown",
      "source": [
        "There are two methods for removing items from a list in Python: remove() and pop().\n",
        "\n",
        "The remove() method removes the first occurrence of a specific element from a list. It takes a single argument, which is the element to be removed. If the element is not present in the list, it raises a ValueError exception. For example:"
      ],
      "metadata": {
        "id": "TVwD0zPt0R15"
      }
    },
    {
      "cell_type": "code",
      "source": [
        "numbers = [1, 2, 3, 4, 5, 6, 7]\n",
        "numbers.remove(5)\n",
        "print(numbers)  # [1, 2, 3, 4, 6, 7]\n"
      ],
      "metadata": {
        "colab": {
          "base_uri": "https://localhost:8080/"
        },
        "id": "nJP8py9Dz1cV",
        "outputId": "c4dcc301-eeea-4f75-a06c-d3fb738260c0"
      },
      "execution_count": 11,
      "outputs": [
        {
          "output_type": "stream",
          "name": "stdout",
          "text": [
            "[1, 2, 3, 4, 6, 7]\n"
          ]
        }
      ]
    },
    {
      "cell_type": "markdown",
      "source": [
        "The pop() method removes and returns the element at a specific index in a list. If no index is specified, it removes and returns the last element of the list. The pop() method is commonly used to implement a last-in, first-out (LIFO) stack. For example:\n",
        "\n"
      ],
      "metadata": {
        "id": "hEP2Neb-0ZLb"
      }
    },
    {
      "cell_type": "code",
      "source": [
        "numbers = [1, 2, 3, 4, 5, 6, 7]\n",
        "last_number = numbers.pop()\n",
        "print(numbers)  # [1, 2, 3, 4, 5, 6]\n",
        "print(last_number)  # 7\n"
      ],
      "metadata": {
        "colab": {
          "base_uri": "https://localhost:8080/"
        },
        "id": "yP3CAYL40Uou",
        "outputId": "ba489a0c-d1c6-470d-f45a-4012e23614ef"
      },
      "execution_count": 12,
      "outputs": [
        {
          "output_type": "stream",
          "name": "stdout",
          "text": [
            "[1, 2, 3, 4, 5, 6]\n",
            "7\n"
          ]
        }
      ]
    },
    {
      "cell_type": "code",
      "source": [
        "numbers = [1, 2, 3, 4, 5, 6, 7]\n",
        "second_last_number = numbers.pop(-2)\n",
        "print(numbers)  # [1, 2, 3, 4, 6, 7]\n",
        "print(second_last_number)  # 5\n"
      ],
      "metadata": {
        "colab": {
          "base_uri": "https://localhost:8080/"
        },
        "id": "FT6BfS9A0cDT",
        "outputId": "dc2b7bb6-14c9-4bb1-de4d-82be425f50b5"
      },
      "execution_count": 13,
      "outputs": [
        {
          "output_type": "stream",
          "name": "stdout",
          "text": [
            "[1, 2, 3, 4, 5, 7]\n",
            "6\n"
          ]
        }
      ]
    },
    {
      "cell_type": "markdown",
      "source": [
        "#12. Describe how list values and string values are identical."
      ],
      "metadata": {
        "id": "r6798Vsp0kOz"
      }
    },
    {
      "cell_type": "markdown",
      "source": [
        "In Python, lists and strings are similar in many ways. Both lists and strings are sequences, which means that they are ordered collections of elements. Both lists and strings can contain elements of any data type, including other lists or strings.\n",
        "\n",
        "One major difference between lists and strings is that lists are mutable, while strings are immutable. This means that you can change the elements of a list, but you cannot change the characters of a string.\n",
        "\n",
        "For example, you can change the value of an element in a list using indexing and assignment:"
      ],
      "metadata": {
        "id": "42nCUxNT0xyD"
      }
    },
    {
      "cell_type": "code",
      "source": [
        "numbers = [1, 2, 3]\n",
        "numbers[1] = 4\n",
        "print(numbers)  # [1, 4, 3]\n"
      ],
      "metadata": {
        "colab": {
          "base_uri": "https://localhost:8080/"
        },
        "id": "Z7GmwE_P0ecR",
        "outputId": "fc14376e-209a-4887-d769-c173c87af170"
      },
      "execution_count": 14,
      "outputs": [
        {
          "output_type": "stream",
          "name": "stdout",
          "text": [
            "[1, 4, 3]\n"
          ]
        }
      ]
    },
    {
      "cell_type": "markdown",
      "source": [
        "However, if you try to do the same thing with a string, you will get a TypeError:"
      ],
      "metadata": {
        "id": "GySNoBWr0639"
      }
    },
    {
      "cell_type": "code",
      "source": [
        "string = \"abc\"\n",
        "string[1] = \"d\"  # TypeError: 'str' object does not support item assignment"
      ],
      "metadata": {
        "colab": {
          "base_uri": "https://localhost:8080/",
          "height": 182
        },
        "id": "Yp2J1TDo02qk",
        "outputId": "ea95db71-8436-4ab2-9ed1-048ca1c07169"
      },
      "execution_count": 15,
      "outputs": [
        {
          "output_type": "error",
          "ename": "TypeError",
          "evalue": "ignored",
          "traceback": [
            "\u001b[0;31m---------------------------------------------------------------------------\u001b[0m",
            "\u001b[0;31mTypeError\u001b[0m                                 Traceback (most recent call last)",
            "\u001b[0;32m<ipython-input-15-16738af53362>\u001b[0m in \u001b[0;36m<module>\u001b[0;34m\u001b[0m\n\u001b[1;32m      1\u001b[0m \u001b[0mstring\u001b[0m \u001b[0;34m=\u001b[0m \u001b[0;34m\"abc\"\u001b[0m\u001b[0;34m\u001b[0m\u001b[0;34m\u001b[0m\u001b[0m\n\u001b[0;32m----> 2\u001b[0;31m \u001b[0mstring\u001b[0m\u001b[0;34m[\u001b[0m\u001b[0;36m1\u001b[0m\u001b[0;34m]\u001b[0m \u001b[0;34m=\u001b[0m \u001b[0;34m\"d\"\u001b[0m  \u001b[0;31m# TypeError: 'str' object does not support item assignment\u001b[0m\u001b[0;34m\u001b[0m\u001b[0;34m\u001b[0m\u001b[0m\n\u001b[0m",
            "\u001b[0;31mTypeError\u001b[0m: 'str' object does not support item assignment"
          ]
        }
      ]
    },
    {
      "cell_type": "markdown",
      "source": [
        "Despite these differences, lists and strings can often be used interchangeably in Python code. For example, you can loop over the elements of a list or string using a for loop:"
      ],
      "metadata": {
        "id": "WtjRrXnM1E0p"
      }
    },
    {
      "cell_type": "code",
      "source": [
        "for element in [1, 2, 3]:\n",
        "    print(element)\n",
        "\n",
        "for character in \"abc\":\n",
        "    print(character)\n"
      ],
      "metadata": {
        "colab": {
          "base_uri": "https://localhost:8080/"
        },
        "id": "yGQ-FTuv0-vK",
        "outputId": "42b3629e-22e1-4ec0-acc7-938908988a20"
      },
      "execution_count": 16,
      "outputs": [
        {
          "output_type": "stream",
          "name": "stdout",
          "text": [
            "1\n",
            "2\n",
            "3\n",
            "a\n",
            "b\n",
            "c\n"
          ]
        }
      ]
    },
    {
      "cell_type": "markdown",
      "source": [
        "we can also use many of the same built-in functions with both lists and strings, such as len(), min(), and max()."
      ],
      "metadata": {
        "id": "-r_vS21q1O4s"
      }
    },
    {
      "cell_type": "markdown",
      "source": [
        "#13. What's the difference between tuples and lists?"
      ],
      "metadata": {
        "id": "uThBIQyp1YCS"
      }
    },
    {
      "cell_type": "markdown",
      "source": [
        "Tuples and lists are both sequence types in Python. They are similar in many ways, but there are also some important differences between them.\n",
        "\n",
        "The main difference between tuples and lists is that tuples are immutable, while lists are mutable. This means that you cannot change the elements of a tuple once it has been created, but you can change the elements of a list.\n",
        "\n",
        "For example, you can change the value of an element in a list using indexing and assignment:"
      ],
      "metadata": {
        "id": "HpRSjYB819Sy"
      }
    },
    {
      "cell_type": "code",
      "source": [
        "numbers = [1, 2, 3]\n",
        "numbers[1] = 4\n",
        "print(numbers)  # [1, 4, 3]\n"
      ],
      "metadata": {
        "colab": {
          "base_uri": "https://localhost:8080/"
        },
        "id": "qIHKqg_O1Ilb",
        "outputId": "237a61db-7fd1-4ada-bc4a-47a7564234e5"
      },
      "execution_count": 17,
      "outputs": [
        {
          "output_type": "stream",
          "name": "stdout",
          "text": [
            "[1, 4, 3]\n"
          ]
        }
      ]
    },
    {
      "cell_type": "markdown",
      "source": [
        "However, if you try to do the same thing with a tuple, you will get a TypeError:\n",
        "\n"
      ],
      "metadata": {
        "id": "fs-Lxiv32F32"
      }
    },
    {
      "cell_type": "code",
      "source": [
        "numbers = (1, 2, 3)\n",
        "numbers[1] = 4  # TypeError: 'tuple' object does not support item assignment\n"
      ],
      "metadata": {
        "colab": {
          "base_uri": "https://localhost:8080/",
          "height": 182
        },
        "id": "cv1fHphI2CgB",
        "outputId": "f2ea6c5f-74ce-4c43-e288-450ec93cf697"
      },
      "execution_count": 18,
      "outputs": [
        {
          "output_type": "error",
          "ename": "TypeError",
          "evalue": "ignored",
          "traceback": [
            "\u001b[0;31m---------------------------------------------------------------------------\u001b[0m",
            "\u001b[0;31mTypeError\u001b[0m                                 Traceback (most recent call last)",
            "\u001b[0;32m<ipython-input-18-aaaaabee0bc7>\u001b[0m in \u001b[0;36m<module>\u001b[0;34m\u001b[0m\n\u001b[1;32m      1\u001b[0m \u001b[0mnumbers\u001b[0m \u001b[0;34m=\u001b[0m \u001b[0;34m(\u001b[0m\u001b[0;36m1\u001b[0m\u001b[0;34m,\u001b[0m \u001b[0;36m2\u001b[0m\u001b[0;34m,\u001b[0m \u001b[0;36m3\u001b[0m\u001b[0;34m)\u001b[0m\u001b[0;34m\u001b[0m\u001b[0;34m\u001b[0m\u001b[0m\n\u001b[0;32m----> 2\u001b[0;31m \u001b[0mnumbers\u001b[0m\u001b[0;34m[\u001b[0m\u001b[0;36m1\u001b[0m\u001b[0;34m]\u001b[0m \u001b[0;34m=\u001b[0m \u001b[0;36m4\u001b[0m  \u001b[0;31m# TypeError: 'tuple' object does not support item assignment\u001b[0m\u001b[0;34m\u001b[0m\u001b[0;34m\u001b[0m\u001b[0m\n\u001b[0m",
            "\u001b[0;31mTypeError\u001b[0m: 'tuple' object does not support item assignment"
          ]
        }
      ]
    },
    {
      "cell_type": "markdown",
      "source": [
        "Despite these differences, tuples and lists can often be used interchangeably in Python code. For example, you can loop over the elements of a tuple or list using a for loop:\n"
      ],
      "metadata": {
        "id": "4YtvxUWR2Sw9"
      }
    },
    {
      "cell_type": "code",
      "source": [
        "for element in (1, 2, 3):\n",
        "    print(element)\n",
        "\n",
        "for element in [1, 2, 3]:\n",
        "    print(element)\n"
      ],
      "metadata": {
        "colab": {
          "base_uri": "https://localhost:8080/"
        },
        "id": "onEa9Rjh2Mxb",
        "outputId": "53dca335-3a85-4655-d3bc-c8aab29c01f1"
      },
      "execution_count": 19,
      "outputs": [
        {
          "output_type": "stream",
          "name": "stdout",
          "text": [
            "1\n",
            "2\n",
            "3\n",
            "1\n",
            "2\n",
            "3\n"
          ]
        }
      ]
    },
    {
      "cell_type": "markdown",
      "source": [
        "#14. How do you type a tuple value that only contains the integer 42?"
      ],
      "metadata": {
        "id": "4Y_jh9xM2frr"
      }
    },
    {
      "cell_type": "markdown",
      "source": [
        "To create a tuple that only contains the integer value 42, you can simply use parentheses to enclose the value:"
      ],
      "metadata": {
        "id": "dG82HCAX2vT-"
      }
    },
    {
      "cell_type": "code",
      "source": [
        "my_tuple = (42,)\n"
      ],
      "metadata": {
        "id": "aHLrjeRf2WoI"
      },
      "execution_count": 20,
      "outputs": []
    },
    {
      "cell_type": "markdown",
      "source": [
        "The comma after the 42 is important, because it indicates that the value inside the parentheses is a tuple, rather than a simple expression enclosed in parentheses. Without the comma, Python will treat the parentheses as grouping symbols and the value inside them as a single element, rather than a tuple.\n",
        "\n",
        "For example:"
      ],
      "metadata": {
        "id": "nEW74loX22el"
      }
    },
    {
      "cell_type": "code",
      "source": [
        "my_tuple = (42)  # This is not a tuple, it's an integer\n",
        "print(type(my_tuple))  # <class 'int'>\n",
        "\n",
        "my_tuple = (42,)  # This is a tuple with a single element\n",
        "print(type(my_tuple))  # <class 'tuple'>\n"
      ],
      "metadata": {
        "colab": {
          "base_uri": "https://localhost:8080/"
        },
        "id": "QKkd22II2yVk",
        "outputId": "300d11d7-b21e-44c9-d7e3-e0202045454e"
      },
      "execution_count": 21,
      "outputs": [
        {
          "output_type": "stream",
          "name": "stdout",
          "text": [
            "<class 'int'>\n",
            "<class 'tuple'>\n"
          ]
        }
      ]
    },
    {
      "cell_type": "code",
      "source": [
        "my_tuple = tuple([42])  # This is a tuple with a single element\n",
        "print(type(my_tuple))  # <class 'tuple'>\n"
      ],
      "metadata": {
        "colab": {
          "base_uri": "https://localhost:8080/"
        },
        "id": "qcAm33TK271K",
        "outputId": "21f78e5c-855d-43fa-cb07-04c64ac018c6"
      },
      "execution_count": 22,
      "outputs": [
        {
          "output_type": "stream",
          "name": "stdout",
          "text": [
            "<class 'tuple'>\n"
          ]
        }
      ]
    },
    {
      "cell_type": "code",
      "source": [
        "my_tuple = tuple(\"42\")  # This is a tuple with two elements: '4' and '2'\n",
        "print(my_tuple)  # ('4', '2')\n"
      ],
      "metadata": {
        "colab": {
          "base_uri": "https://localhost:8080/"
        },
        "id": "mFnBG8EA3Bdn",
        "outputId": "f07a7cde-8ae7-4983-d885-293b449bbb5f"
      },
      "execution_count": 23,
      "outputs": [
        {
          "output_type": "stream",
          "name": "stdout",
          "text": [
            "('4', '2')\n"
          ]
        }
      ]
    },
    {
      "cell_type": "markdown",
      "source": [
        "#15. How do you get a list value's tuple form? How do you get a tuple value's list form?"
      ],
      "metadata": {
        "id": "tPhIDbgF3LrQ"
      }
    },
    {
      "cell_type": "markdown",
      "source": [
        "To get the tuple form of a list value, you can use the tuple() function. For example:"
      ],
      "metadata": {
        "id": "jY-NYPHE3Ts4"
      }
    },
    {
      "cell_type": "code",
      "source": [
        "my_list = [1, 2, 3]\n",
        "my_tuple = tuple(my_list)\n",
        "print(my_tuple)  # (1, 2, 3)\n"
      ],
      "metadata": {
        "colab": {
          "base_uri": "https://localhost:8080/"
        },
        "id": "yb-gySeu3ELt",
        "outputId": "30376208-a416-4f0b-c172-28035aa91eb6"
      },
      "execution_count": 24,
      "outputs": [
        {
          "output_type": "stream",
          "name": "stdout",
          "text": [
            "(1, 2, 3)\n"
          ]
        }
      ]
    },
    {
      "cell_type": "markdown",
      "source": [
        "To get the list form of a tuple value, you can use the list() function. For example:"
      ],
      "metadata": {
        "id": "zA1ZUGNp3n5Z"
      }
    },
    {
      "cell_type": "code",
      "source": [
        "my_tuple = (1, 2, 3)\n",
        "my_list = list(my_tuple)\n",
        "print(my_list)  # [1, 2, 3]\n"
      ],
      "metadata": {
        "colab": {
          "base_uri": "https://localhost:8080/"
        },
        "id": "G2VSWUQK3Wyv",
        "outputId": "5ed850bb-b8c2-4237-859b-f24e9767c100"
      },
      "execution_count": 25,
      "outputs": [
        {
          "output_type": "stream",
          "name": "stdout",
          "text": [
            "[1, 2, 3]\n"
          ]
        }
      ]
    },
    {
      "cell_type": "markdown",
      "source": [
        "Both the tuple() and list() functions create a new object, rather than modifying the original value in place."
      ],
      "metadata": {
        "id": "ixoqERXW3t0y"
      }
    },
    {
      "cell_type": "code",
      "source": [
        "my_list = list(\"123\")\n",
        "print(my_list)  # ['1', '2', '3']\n"
      ],
      "metadata": {
        "colab": {
          "base_uri": "https://localhost:8080/"
        },
        "id": "j5zONA393qV4",
        "outputId": "994f09e9-c35e-437f-d4f5-eb354b861f7b"
      },
      "execution_count": 26,
      "outputs": [
        {
          "output_type": "stream",
          "name": "stdout",
          "text": [
            "['1', '2', '3']\n"
          ]
        }
      ]
    },
    {
      "cell_type": "code",
      "source": [
        "my_tuple = (1, 2, 3)\n",
        "my_list = [element for element in my_tuple]\n",
        "print(my_list)  # [1, 2, 3]\n"
      ],
      "metadata": {
        "colab": {
          "base_uri": "https://localhost:8080/"
        },
        "id": "BOhrfAVV3xZd",
        "outputId": "825c021a-4113-4372-863e-87f8ba8fddc1"
      },
      "execution_count": 27,
      "outputs": [
        {
          "output_type": "stream",
          "name": "stdout",
          "text": [
            "[1, 2, 3]\n"
          ]
        }
      ]
    },
    {
      "cell_type": "markdown",
      "source": [
        "#16. Variables that \"contain\" list values are not necessarily lists themselves. Instead, what do they contain?"
      ],
      "metadata": {
        "id": "aTIwp0Ns366u"
      }
    },
    {
      "cell_type": "markdown",
      "source": [
        "Variables that \"contain\" list values actually contain references to lists. In Python, when you assign a list to a variable, you are not creating a new copy of the list. Instead, you are creating a new reference to the same list.\n",
        "\n",
        "For example:"
      ],
      "metadata": {
        "id": "0c4VItPL5EUc"
      }
    },
    {
      "cell_type": "code",
      "source": [
        "numbers = [1, 2, 3]\n",
        "more_numbers = numbers\n",
        "\n",
        "print(more_numbers)  # [1, 2, 3]\n"
      ],
      "metadata": {
        "colab": {
          "base_uri": "https://localhost:8080/"
        },
        "id": "FJ7C44U230P6",
        "outputId": "c4dabdde-eae6-402f-d5e1-ca48bf5952ca"
      },
      "execution_count": 28,
      "outputs": [
        {
          "output_type": "stream",
          "name": "stdout",
          "text": [
            "[1, 2, 3]\n"
          ]
        }
      ]
    },
    {
      "cell_type": "markdown",
      "source": [
        "In this example, the more_numbers variable is not a copy of the numbers list. It is a reference to the same list object. This means that if you modify the list through one of the variables, the other variable will also reflect the change, because they both refer to the same list object.\n",
        "\n"
      ],
      "metadata": {
        "id": "EAWtEyzt5KZG"
      }
    },
    {
      "cell_type": "code",
      "source": [
        "numbers = [1, 2, 3]\n",
        "more_numbers = numbers\n",
        "more_numbers.append(4)\n",
        "\n",
        "print(numbers)  # [1, 2, 3, 4]\n",
        "print(more_numbers)  # [1, 2, 3, 4]\n"
      ],
      "metadata": {
        "colab": {
          "base_uri": "https://localhost:8080/"
        },
        "id": "r14eYpZH5HMR",
        "outputId": "e6434992-83a4-42af-b677-f6eb48ea69f8"
      },
      "execution_count": 29,
      "outputs": [
        {
          "output_type": "stream",
          "name": "stdout",
          "text": [
            "[1, 2, 3, 4]\n",
            "[1, 2, 3, 4]\n"
          ]
        }
      ]
    },
    {
      "cell_type": "code",
      "source": [
        "numbers = [1, 2, 3]\n",
        "more_numbers = list(numbers)  # creates a new copy of the list\n",
        "more_numbers = numbers[:]  # also creates a new copy of the list\n",
        "\n",
        "more_numbers.append(4)\n",
        "\n",
        "print(numbers)  # [1, 2, 3]\n",
        "print(more_numbers)  # [1, 2, 3, 4]\n"
      ],
      "metadata": {
        "colab": {
          "base_uri": "https://localhost:8080/"
        },
        "id": "4Um1zNdl5NO0",
        "outputId": "a653e649-a465-42d9-9e18-078dd26dd8e8"
      },
      "execution_count": 30,
      "outputs": [
        {
          "output_type": "stream",
          "name": "stdout",
          "text": [
            "[1, 2, 3]\n",
            "[1, 2, 3, 4]\n"
          ]
        }
      ]
    },
    {
      "cell_type": "markdown",
      "source": [
        "#17. How do you distinguish between copy.copy() and copy.deepcopy()?\n",
        "\n"
      ],
      "metadata": {
        "id": "gm4RdyfZ5UfY"
      }
    },
    {
      "cell_type": "markdown",
      "source": [
        "In Python, the copy module provides two functions for creating copies of objects: copy() and deepcopy().\n",
        "\n",
        "The copy() function creates a shallow copy of an object. A shallow copy is a new object with a new reference to the data, but the data itself is not copied. This means that if the original object contains references to other objects, the copy will still contain references to the same objects as the original.\n",
        "\n",
        "For example:"
      ],
      "metadata": {
        "id": "QQf_ERXv5i8N"
      }
    },
    {
      "cell_type": "code",
      "source": [
        "import copy\n",
        "\n",
        "numbers = [1, 2, 3]\n",
        "more_numbers = [numbers, 4, 5]\n",
        "\n",
        "shallow_copy = copy.copy(more_numbers)\n",
        "\n",
        "# Modify the original list\n",
        "numbers.append(4)\n",
        "\n",
        "print(more_numbers)  # [[1, 2, 3, 4], 4, 5]\n",
        "print(shallow_copy)  # [[1, 2, 3, 4], 4, 5]\n"
      ],
      "metadata": {
        "colab": {
          "base_uri": "https://localhost:8080/"
        },
        "id": "Zz7oQ7e35ReO",
        "outputId": "4a223e7e-076b-431e-c279-f82d7be92730"
      },
      "execution_count": 31,
      "outputs": [
        {
          "output_type": "stream",
          "name": "stdout",
          "text": [
            "[[1, 2, 3, 4], 4, 5]\n",
            "[[1, 2, 3, 4], 4, 5]\n"
          ]
        }
      ]
    },
    {
      "cell_type": "markdown",
      "source": [
        "n this example, the shallow_copy variable contains a new reference to the same numbers list as the original more_numbers variable, so when the numbers list is modified, the change is also reflected in the shallow_copy variable.\n",
        "\n",
        "On the other hand, the deepcopy() function creates a deep copy of an object. A deep copy is a new object with new copies of the data, rather than just new references to the data. This means that if the original object contains references to other objects, the deep copy will contain new copies of those objects, rather than references to the original objects.\n",
        "\n",
        "For example:"
      ],
      "metadata": {
        "id": "tAWVfS6R5qAn"
      }
    },
    {
      "cell_type": "code",
      "source": [
        "import copy\n",
        "\n",
        "numbers = [1, 2, 3]\n",
        "more_numbers = [numbers, 4, 5]\n",
        "\n",
        "deep_copy = copy.deepcopy(more_numbers)\n",
        "\n",
        "# Modify the original list\n",
        "numbers.append(4)\n",
        "\n",
        "print(more_numbers)  # [[1, 2, 3, 4], 4, 5]\n",
        "print(deep_copy)  # [[1, 2, 3], 4, 5]\n"
      ],
      "metadata": {
        "colab": {
          "base_uri": "https://localhost:8080/"
        },
        "id": "e1c3oB4V5mTF",
        "outputId": "3399c755-628b-4510-b42d-f034e293c2a9"
      },
      "execution_count": 32,
      "outputs": [
        {
          "output_type": "stream",
          "name": "stdout",
          "text": [
            "[[1, 2, 3, 4], 4, 5]\n",
            "[[1, 2, 3], 4, 5]\n"
          ]
        }
      ]
    },
    {
      "cell_type": "markdown",
      "source": [
        "In this example, the deep_copy variable contains a new copy of the numbers list, rather than just a reference to the original list. This means that when the numbers list is modified, the change is not reflected in the deep_copy variable.\n",
        "\n",
        "\n",
        "\n"
      ],
      "metadata": {
        "id": "5t5NZaOi5wPP"
      }
    }
  ]
}