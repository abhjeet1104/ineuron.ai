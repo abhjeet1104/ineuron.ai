{
  "nbformat": 4,
  "nbformat_minor": 0,
  "metadata": {
    "colab": {
      "provenance": []
    },
    "kernelspec": {
      "name": "python3",
      "display_name": "Python 3"
    },
    "language_info": {
      "name": "python"
    }
  },
  "cells": [
    {
      "cell_type": "markdown",
      "source": [
        "#1. What is the name of the feature responsible for generating Regex objects?"
      ],
      "metadata": {
        "id": "s9u00H7NkoEN"
      }
    },
    {
      "cell_type": "markdown",
      "source": [
        "### Ans. The feature responsible for generating regular expression (Regex) objects in Python is the re module."
      ],
      "metadata": {
        "id": "SL-xNyqOllt8"
      }
    },
    {
      "cell_type": "markdown",
      "source": [
        "#2.The feature responsible for generating regular expression (Regex) objects in Python is the re module."
      ],
      "metadata": {
        "id": "snQm9tQEmEHk"
      }
    },
    {
      "cell_type": "markdown",
      "source": [
        " Ans. Yes, that is correct. The re module in Python provides several functions and classes for working with regular expressions, including the re.compile() function, which can be used to create a Regex object."
      ],
      "metadata": {
        "id": "sjhfX1-HmPf1"
      }
    },
    {
      "cell_type": "markdown",
      "source": [
        "#3. What is the return value of the search() method?"
      ],
      "metadata": {
        "id": "cbXEKKComQZX"
      }
    },
    {
      "cell_type": "markdown",
      "source": [
        "Ans .The search() method of a Regex object in Python returns a match object if there is a match anywhere in the string. If there is no match, it returns None. The match object contains information about the match, such as the position of the match in the string, the groups of the match, etc."
      ],
      "metadata": {
        "id": "vM6MdT5enA_4"
      }
    },
    {
      "cell_type": "markdown",
      "source": [
        "#4. From a Match item, how do you get the actual strings that match the pattern?#"
      ],
      "metadata": {
        "id": "Uh8T2-wVnNkj"
      }
    },
    {
      "cell_type": "markdown",
      "source": [
        "Ans. From a Match object, you can use the .group() method to get the actual string that matches the pattern. You can also use the .groups() method to get a tuple containing all the subgroups of the match, if the pattern has any capturing groups.\n",
        "\n",
        "For example, if you have a match object m and you want to get the entire matched string, you can do:\n",
        "\n",
        "\n",
        "\n",
        "\n",
        "\n"
      ],
      "metadata": {
        "id": "27eP1-W7nf4f"
      }
    },
    {
      "cell_type": "code",
      "execution_count": null,
      "metadata": {
        "id": "ty0ZOvzmkTsu"
      },
      "outputs": [],
      "source": [
        "m.group()\n"
      ]
    },
    {
      "cell_type": "markdown",
      "source": [
        "If you have a match object m and you want to get the string matched by the first capture group, you can do:\n",
        "\n"
      ],
      "metadata": {
        "id": "gjSd_L23oJpC"
      }
    },
    {
      "cell_type": "code",
      "source": [
        "m.group(1)\n"
      ],
      "metadata": {
        "id": "iGyH9h2Un_8F"
      },
      "execution_count": null,
      "outputs": []
    },
    {
      "cell_type": "markdown",
      "source": [
        "You can also use the .start(), .end(), .span() method of match object to get the position of matched string."
      ],
      "metadata": {
        "id": "C27zBinHoaIQ"
      }
    },
    {
      "cell_type": "markdown",
      "source": [
        "#5. In the regex which created from the r'(\\d\\d\\d)-(\\d\\d\\d-\\d\\d\\d\\d)', what does group zero cover? Group 2? Group 1?"
      ],
      "metadata": {
        "id": "F5tWyxyzocOC"
      }
    },
    {
      "cell_type": "markdown",
      "source": [
        "Ans. In the regular expression r'(\\d\\d\\d)-(\\d\\d\\d-\\d\\d\\d\\d)', group 0 refers to the entire match, i.e. the entire string that matches the pattern, including the first and the second capture groups.\n",
        "\n",
        "Group 1 refers to the first capture group, which is the sequence of three digits followed by a dash.\n",
        "\n",
        "Group 2 refers to the second capture group, which is the sequence of three digits followed by another dash and four more digits.\n",
        "\n",
        "You can use the .group() method on a match object to access the specific capture group. For example, m.group(1) will give the matched string of the first capture group and m.group(2) will give the matched string of the second capture group."
      ],
      "metadata": {
        "id": "TBq3U_0FpGMj"
      }
    },
    {
      "cell_type": "markdown",
      "source": [
        "#6. In standard expression syntax, parentheses and intervals have distinct meanings. How can you tell a regex that you want it to fit real parentheses and periods?"
      ],
      "metadata": {
        "id": "DRNIiNoLpUTo"
      }
    },
    {
      "cell_type": "markdown",
      "source": [
        "Ans. In regular expression syntax, parentheses and periods have special meanings and are used to create capture groups and match any character respectively. To match a literal parenthesis or period, you need to escape them with a backslash ().\n",
        "\n",
        "For example, to match the string \"(hello)\" you would use the regular expression \\(hello\\), the backslash before the parenthesis tell the regex engine to match a real parenthesis.\n",
        "\n",
        "Similarly, to match the string \"file.txt\" you would use the regular expression file\\.txt the backslash before the period tells the regex engine to match a real period.\n",
        "\n",
        "You can also use the [] character set to match any specific character. For example [()] will match only the parenthesis.\n",
        "\n",
        "In python you can use the raw string (prefix with r) to avoid the need of escaping the backslash r'\\(hello\\)'\n",
        "\n",
        "\n",
        "\n"
      ],
      "metadata": {
        "id": "guJNzQ0LpbL2"
      }
    },
    {
      "cell_type": "markdown",
      "source": [
        "#7. The findall() method returns a string list or a list of string tuples. What causes it to return one of the two options?"
      ],
      "metadata": {
        "id": "RB3HVicRspiu"
      }
    },
    {
      "cell_type": "markdown",
      "source": [
        " Ans. The findall() method returns a list of all non-overlapping matches of the regular expression pattern in the string, as either a list of strings or a list of tuples of strings. The specific return type (list of strings or list of tuples) is determined by the structure of the regular expression pattern. If the pattern contains no groups, it returns a list of strings. If the pattern contains one or more groups, it returns a list of tuples of strings, where each tuple contains the text of the corresponding group."
      ],
      "metadata": {
        "id": "rswKLG0Zs5Qm"
      }
    },
    {
      "cell_type": "markdown",
      "source": [
        "#8. In standard expressions, what does the | character mean?"
      ],
      "metadata": {
        "id": "aHgQBZ7StIEd"
      }
    },
    {
      "cell_type": "markdown",
      "source": [
        "Ans. In standard expressions, the \"|\" character is a logical operator that represents \"OR.\" It is used to test whether one or more of the specified conditions are true. For example, in the expression \"x > 10 | x < 5\", the expression would evaluate to true if the value of x is greater than 10 or less than 5"
      ],
      "metadata": {
        "id": "0oFN9FtLtVgr"
      }
    },
    {
      "cell_type": "markdown",
      "source": [
        "#9. In regular expressions, what does the character stand for?"
      ],
      "metadata": {
        "id": "UaQ4rBzntand"
      }
    },
    {
      "cell_type": "markdown",
      "source": [
        "Ans In regular expressions, the \"|\" character is a special character that represents alternation or \"OR\" operation. It is used to match one of several possible patterns. For example, the regular expression \"cat|dog\" will match the string \"cat\" or the string \"dog\". It's allowing us to match multiple options in a single pattern."
      ],
      "metadata": {
        "id": "fac5HHwwuLHB"
      }
    },
    {
      "cell_type": "markdown",
      "source": [
        "#10.In regular expressions, what is the difference between the + and * characters?"
      ],
      "metadata": {
        "id": "eMPM_-Lguhq3"
      }
    },
    {
      "cell_type": "markdown",
      "source": [
        "Ans. In regular expressions, the \"+\" and \"*\" characters are both used to indicate repetition of the preceding character or group.\n",
        "\n",
        "The \"+\" character indicates that the preceding character or group should be matched one or more times. For example, the regular expression \"a+\" will match \"a\", \"aa\", \"aaa\", and so on, but will not match an empty string.\n",
        "\n",
        "The \"\" character indicates that the preceding character or group can be matched zero or more times. For example, the regular expression \"a\" will match \"\", \"a\", \"aa\", \"aaa\", and so on.\n",
        "\n",
        "In short \"+\" is used to match one or more occurrences of the preceding regular expression and \"*\" is used to match zero or more occurrences of the preceding regular expression."
      ],
      "metadata": {
        "id": "yrjEsXZLukcE"
      }
    },
    {
      "cell_type": "markdown",
      "source": [
        "#11. What is the difference between {4} and {4,5} in regular expression?"
      ],
      "metadata": {
        "id": "wxvq6StYv4Bj"
      }
    },
    {
      "cell_type": "markdown",
      "source": [
        "In regular expressions, the curly braces \"{}\" are used to specify a specific number of repetitions for the preceding character or group.\n",
        "\n",
        "The notation \"{4}\" indicates that the preceding character or group should be matched exactly 4 times. For example, the regular expression \"a{4}\" will match \"aaaa\" but not \"aaa\" or \"aaaaa\".\n",
        "\n",
        "The notation \"{4,5}\" indicates that the preceding character or group should be matched between 4 and 5 times. For example, the regular expression \"a{4,5}\" will match \"aaaa\" or \"aaaaa\" but not \"aaa\" or \"aaaaaa\".\n",
        "\n",
        "So the difference between {4} and {4,5} is that the first one indicates exactly 4 occurrences and the second one indicates between 4 and 5 occurrences of the preceding regular expression."
      ],
      "metadata": {
        "id": "7PaSwM4DwAqy"
      }
    },
    {
      "cell_type": "markdown",
      "source": [
        "#12. What do you mean by the \\d, \\w, and \\s shorthand character classes signify in regular expressions?"
      ],
      "metadata": {
        "id": "nt4jFSVLHWnm"
      }
    },
    {
      "cell_type": "markdown",
      "source": [
        "Ans .In regular expressions, the shorthand character classes \\d, \\w, and \\s are used to match specific sets of characters.\n",
        "\n",
        "\\d is a shorthand character class that matches any digit (0-9).\n",
        "\\w is a shorthand character class that matches any word character (a-z, A-Z, 0-9, and _).\n",
        "\\s is a shorthand character class that matches any whitespace character (space, tab, newline, etc.)."
      ],
      "metadata": {
        "id": "wT2TWfbOHp16"
      }
    },
    {
      "cell_type": "markdown",
      "source": [
        "#13. What do means by \\D, \\W, and \\S shorthand character classes signify in regular expressions?"
      ],
      "metadata": {
        "id": "43wdbphnH1yX"
      }
    },
    {
      "cell_type": "markdown",
      "source": [
        " Ans In regular expressions, the shorthand character classes \\D, \\W, and \\S are used to match the opposite of specific sets of characters compare to \\d, \\w, and \\s.\n",
        "\n",
        "\\D is a shorthand character class that matches any character that is not a digit (0-9).\n",
        "\\W is a shorthand character class that matches any non-word character (a-z, A-Z, 0-9, and _).\n",
        "\\S is a shorthand character class that matches any non-whitespace character (space, tab, newline, etc.)."
      ],
      "metadata": {
        "id": "ImGYkfMfIGek"
      }
    },
    {
      "cell_type": "markdown",
      "source": [
        "#14. What is the difference between .*? and .*?"
      ],
      "metadata": {
        "id": "LxKhPsLRIWFi"
      }
    },
    {
      "cell_type": "markdown",
      "source": [
        "Ans The difference between .? and . in regular expressions is in how they match patterns in the input text.\n",
        "\n",
        ".* matches any characters (including newlines) in the input text, and will match as much as possible. This is known as greedy matching.\n",
        ".*? matches any characters (including newlines) in the input text, but will match as little as possible. This is known as lazy or non-greedy matching.\n",
        "For example, if the input text is \"123abc456\", the pattern \".\" will match the entire string \"123abc456\", while the pattern \".?\" will match only \"1\".\n",
        "\n",
        "It is important to note that the question mark (?) is used to switch between greedy and non-greedy matching, it does not create a new pattern.\n",
        "\n",
        "\n",
        "\n"
      ],
      "metadata": {
        "id": "hV74JRsYIYqb"
      }
    },
    {
      "cell_type": "markdown",
      "source": [
        "#15. What is the syntax for matching both numbers and lowercase letters with a character class?"
      ],
      "metadata": {
        "id": "8ND3omA-JtDY"
      }
    },
    {
      "cell_type": "markdown",
      "source": [
        "Ans In regular expressions, you can use a character class to match both numbers and lowercase letters. The syntax for this is to use the square brackets [] to define the character class, and include all the characters you want to match within the brackets. To match both numbers and lowercase letters, you can use the following syntax:\n",
        "\n",
        "[a-z0-9]\n",
        "\n",
        "This will match any character that is a lowercase letter between \"a\" and \"z\" or a digit between 0-9.\n",
        "\n",
        "Another way of matching numbers and lowercase letters is by using predefined character classes such as \\d for digits and \\w for word character, and combine them in a character class.\n",
        "\n",
        "[\\da-z]\n",
        "\n",
        "This will match any digit or lowercase letter between \"a\" and \"z\".\n",
        "\n",
        "Please note that the order of the characters inside the square brackets doesn't matter, the above patterns will match the same set of characters.\n",
        "\n",
        "\n",
        "\n",
        "\n"
      ],
      "metadata": {
        "id": "s9QJmgkbJvuh"
      }
    },
    {
      "cell_type": "markdown",
      "source": [
        "#16. What is the procedure for making a normal expression in regax case insensitive?"
      ],
      "metadata": {
        "id": "EvtcwqyYKBPu"
      }
    },
    {
      "cell_type": "markdown",
      "source": [
        "Ans To make a regular expression case-insensitive, you can use the \"i\" flag. The \"i\" flag stands for \"insensitive\" and can be added to the end of the regular expression pattern.\n",
        "\n",
        "In python, you can use the re.compile() function to create a regular expression object and pass the \"i\" flag as the second argument. For example:"
      ],
      "metadata": {
        "id": "OFIYPxFTKNxu"
      }
    },
    {
      "cell_type": "code",
      "source": [
        "import re\n",
        "\n",
        "pattern = re.compile(\"[a-z]+\", re.IGNORECASE)\n"
      ],
      "metadata": {
        "id": "F8PD8sbLoPQN"
      },
      "execution_count": 1,
      "outputs": []
    },
    {
      "cell_type": "markdown",
      "source": [
        "In other languages, you may use the different syntax but the idea is the same, you can add the \"i\" flag to the regex pattern.\n",
        "\n"
      ],
      "metadata": {
        "id": "ORnVcYW-KWMn"
      }
    },
    {
      "cell_type": "code",
      "source": [
        "/[a-z]+/i\n"
      ],
      "metadata": {
        "id": "d-px-ZkQKTNt"
      },
      "execution_count": null,
      "outputs": []
    },
    {
      "cell_type": "markdown",
      "source": [
        "With this flag, the regular expression will match the same pattern regardless of the case of the characters in the input text.\n",
        "\n",
        "Please note that, some languages have the option of compiling the pattern with the \"i\" flag as default, you don't need to explicitly pass the flag in that case."
      ],
      "metadata": {
        "id": "j5f9-L1dKdhZ"
      }
    },
    {
      "cell_type": "markdown",
      "source": [
        "#17. What does the . character normally match? What does it match if re.DOTALL is passed as 2nd argument in re.compile()?"
      ],
      "metadata": {
        "id": "XDVrvFBUKfkd"
      }
    },
    {
      "cell_type": "markdown",
      "source": [
        "Ans In regular expressions, the period \".\" is a special character that represents any single character except a newline. It is used to match any character in the input text.\n",
        "\n",
        "For example, the pattern \"a.b\" will match the following strings: \"aab\", \"acb\", \"axb\", etc.\n",
        "\n",
        "However, when the \".\" character is used in a regular expression, it will not match newline characters.\n",
        "\n",
        "If you want the \".\" character to match newline characters as well, you can pass the re.DOTALL flag as the second argument to the re.compile() function. This flag tells the regular expression engine to treat the \".\" character as matching any character, including newline characters.\n",
        "\n",
        "For example:\n",
        "\n",
        "\n"
      ],
      "metadata": {
        "id": "sXML7WpZK6RJ"
      }
    },
    {
      "cell_type": "code",
      "source": [
        "import re\n",
        "\n",
        "pattern = re.compile(\".*\", re.DOTALL)\n"
      ],
      "metadata": {
        "id": "Nhz8eNASKaNP"
      },
      "execution_count": 3,
      "outputs": []
    },
    {
      "cell_type": "markdown",
      "source": [
        "This will cause the pattern \".*\" to match any character, including newlines, in the input text.\n",
        "\n"
      ],
      "metadata": {
        "id": "sfm1RJQnLKGH"
      }
    },
    {
      "cell_type": "markdown",
      "source": [
        "#18. If numReg = re.compile(r'\\d+'), what will numRegex.sub('X', '11 drummers, 10 pipers, five rings, 4 hen') return?"
      ],
      "metadata": {
        "id": "1j2ImIHMOe9G"
      }
    },
    {
      "cell_type": "markdown",
      "source": [
        "Ans In this example, numReg is a regular expression object that is created by compiling the pattern '\\d+'. This pattern matches one or more consecutive digits.\n",
        "\n",
        "The numReg.sub() method is used to replace all occurrences of the pattern '\\d+' in the input string \"11 drummers, 10 pipers, five rings, 4 hen\" with the string \"X\".\n",
        "\n",
        "The method sub() takes two arguments, first is the replacement string, in this case 'X' and second is the input string on which the replacement is to be done.\n",
        "\n",
        "So the statement numReg.sub('X', '11 drummers, 10 pipers, five rings, 4 hen') will return the following string: \"X drummers, X pipers, five rings, X hen\"\n",
        "\n",
        "It replaced all the digits with 'X' in the input string.\n",
        "\n",
        "\n",
        "\n"
      ],
      "metadata": {
        "id": "k7DacAQcOhC4"
      }
    },
    {
      "cell_type": "markdown",
      "source": [
        "#19. What does passing re.VERBOSE as the 2nd argument to re.compile() allow to do?"
      ],
      "metadata": {
        "id": "0rpbKSq5PH6Z"
      }
    },
    {
      "cell_type": "markdown",
      "source": [
        "Ans When the re.VERBOSE flag is passed as the second argument to the re.compile() function, it allows the use of extra whitespace and comments within the regular expression pattern. This can make the pattern more readable and easier to understand.\n",
        "\n",
        "For example, if you have a complex regular expression pattern, you can use the re.VERBOSE flag to add comments and extra whitespace to make the pattern more readable."
      ],
      "metadata": {
        "id": "Xhg9LJ6VPbID"
      }
    },
    {
      "cell_type": "code",
      "source": [
        "import re\n",
        "\n",
        "pattern = re.compile(r'''\n",
        "    # Matching date in the format yyyy-mm-dd\n",
        "    \\d{4}   # Match the year\n",
        "    -       # Match the separator\n",
        "    \\d{2}   # Match the month\n",
        "    -       # Match the separator\n",
        "    \\d{2}   # Match the day\n",
        "''', re.VERBOSE)\n"
      ],
      "metadata": {
        "id": "G_IuvXeZLDl6"
      },
      "execution_count": 4,
      "outputs": []
    },
    {
      "cell_type": "markdown",
      "source": [
        "With re.VERBOSE flag, the regular expression engine ignores whitespace that appears outside character sets and character classes. Also, it ignores all text after a '#' character, including the '#' character, which allows you to add comments to the pattern.\n",
        "\n",
        "This can make the regular expression patterns more readable, especially for large and complex patterns."
      ],
      "metadata": {
        "id": "2n6G24XBPkTA"
      }
    },
    {
      "cell_type": "markdown",
      "source": [
        "#20. How would you write a regex that match a number with comma for every three digits? It must match the given following:\n",
        "'42'\n",
        "\n",
        "'1,234'\n",
        "\n",
        "'6,368,745'\n",
        "\n",
        "but not the following:\n",
        "\n",
        "'12,34,567' (which has only two digits between the commas)\n",
        "\n",
        "'1234' (which lacks commas)\n",
        "\n",
        "\n"
      ],
      "metadata": {
        "id": "b4QnWBnaPuCw"
      }
    },
    {
      "cell_type": "markdown",
      "source": [
        "Ans. You can write a regular expression to match a number with a comma for every three digits by using the following pattern:\n",
        "\n"
      ],
      "metadata": {
        "id": "wy0XuuA_P1vR"
      }
    },
    {
      "cell_type": "code",
      "source": [
        "^\\d{1,3}(,\\d{3})*$\n"
      ],
      "metadata": {
        "id": "01JQ3NmsPfei"
      },
      "execution_count": null,
      "outputs": []
    },
    {
      "cell_type": "markdown",
      "source": [
        "The ^ character at the beginning of the pattern indicates the start of the string.\n",
        "\n",
        "The \\d{1,3} matches one, two, or three digits.\n",
        "\n",
        "The (,\\d{3})* matches zero or more groups of a comma followed by three digits.\n",
        "\n",
        "The $ at the end of the pattern indicates the end of the string.\n",
        "\n",
        "This pattern will match the following strings:\n",
        "\n",
        "'42'\n",
        "\n",
        "'1,234'\n",
        "\n",
        "'6,368,745'\n",
        "\n",
        "However, it will not match the following:\n",
        "\n",
        "'12,34,567' (which has only two digits between the commas)\n",
        "\n",
        "'1234' (which lacks commas)\n",
        "\n",
        "This pattern ensures that there is always a comma after every three digits, and that there are no commas with less than three digits after it.\n",
        "\n",
        "Here is an example of how to use this pattern in python:"
      ],
      "metadata": {
        "id": "OT6CJgNYQIyH"
      }
    },
    {
      "cell_type": "code",
      "source": [
        "import re\n",
        "\n",
        "number_regex = re.compile(r\"^\\d{1,3}(,\\d{3})*$\")\n",
        "\n",
        "print(number_regex.match(\"42\")) # match\n",
        "print(number_regex.match(\"1,234\")) # match\n",
        "print(number_regex.match(\"6,368,745\")) # match\n",
        "print(number_regex.match(\"12,34,567\")) # no match\n",
        "print(number_regex.match(\"1234\")) # no match\n"
      ],
      "metadata": {
        "colab": {
          "base_uri": "https://localhost:8080/"
        },
        "id": "bEosxLggQANh",
        "outputId": "91e90170-316e-44aa-b237-6b1853c6e965"
      },
      "execution_count": 6,
      "outputs": [
        {
          "output_type": "stream",
          "name": "stdout",
          "text": [
            "<re.Match object; span=(0, 2), match='42'>\n",
            "<re.Match object; span=(0, 5), match='1,234'>\n",
            "<re.Match object; span=(0, 9), match='6,368,745'>\n",
            "None\n",
            "None\n"
          ]
        }
      ]
    },
    {
      "cell_type": "markdown",
      "source": [
        "#21. How would you write a regex that matches the full name of someone whose last name is Watanabe? You can assume that the first name that comes before it will always be one word that begins with a capital letter. The regex must match the following:\n",
        "'Haruto Watanabe'\n",
        "\n",
        "'Alice Watanabe'\n",
        "\n",
        "'RoboCop Watanabe'\n",
        "\n",
        "but not the following:\n",
        "\n",
        "'haruto Watanabe' (where the first name is not capitalized)\n",
        "\n",
        "'Mr. Watanabe' (where the preceding word has a nonletter character)\n",
        "\n",
        "'Watanabe' (which has no first name)\n",
        "\n",
        "'Haruto watanabe' (where Watanabe is not capitalized)\n"
      ],
      "metadata": {
        "id": "TB9vaz-aQbMC"
      }
    },
    {
      "cell_type": "code",
      "source": [
        "^[A-Z][a-z]+\\sWatanabe$\n"
      ],
      "metadata": {
        "id": "0TKEwAt6QTwD"
      },
      "execution_count": null,
      "outputs": []
    },
    {
      "cell_type": "markdown",
      "source": [
        "The ^ character at the beginning of the pattern indicates the start of the string.\n",
        "\n",
        "The [A-Z] matches any uppercase letter\n",
        "\n",
        "The [a-z]+ matches one or more lowercase letters.\n",
        "\n",
        "The \\s matches a space character.\n",
        "\n",
        "The Watanabe is the last name, it must match exactly.\n",
        "\n",
        "The $ at the end of the pattern indicates the end of the string.\n",
        "\n",
        "This pattern will match the following strings:\n",
        "\n",
        "\n",
        "'Haruto Watanabe'\n",
        "\n",
        "'Alice Watanabe'\n",
        "\n",
        "'RoboCop Watanabe'"
      ],
      "metadata": {
        "id": "aC84rLFoVayT"
      }
    },
    {
      "cell_type": "markdown",
      "source": [
        "However, it will not match the following:\n",
        "\n",
        "'haruto Watanabe' (where the first name is not capitalized)\n",
        "\n",
        "'Mr. Watanabe' (where the preceding word has a nonletter character)\n",
        "\n",
        "'Watanabe' (which has no first name)\n",
        "\n",
        "'Haruto watanabe' (where Watanabe is not capitalized)\n",
        "\n",
        "This pattern ensures that the first name always starts with a capital letter, followed by one or more lowercase letters, a space, and the last name Watanabe.\n",
        "\n",
        "Here is an example of how to use this pattern in python:"
      ],
      "metadata": {
        "id": "tamHXRSNVpAo"
      }
    },
    {
      "cell_type": "code",
      "source": [
        "import re\n",
        "\n",
        "name_regex = re.compile(r\"^[A-Z][a-z]+\\sWatanabe$\")\n",
        "\n",
        "print(name_regex.match(\"Haruto Watanabe\")) # match\n",
        "print(name_regex.match(\"Alice Watanabe\")) # match\n",
        "print(name_regex.match(\"RoboCop Watanabe\")) # match\n",
        "print(name_regex.match(\"haruto Watanabe\")) # no match\n",
        "print(name_regex.match(\"Mr. Watanabe\")) # no match\n",
        "print(name_regex.match(\"Watanabe\")) # no match\n",
        "print(name_regex.match(\"Haruto watanabe\")) # no match\n"
      ],
      "metadata": {
        "colab": {
          "base_uri": "https://localhost:8080/"
        },
        "id": "NAIPnbIGQys8",
        "outputId": "73a37a44-bd68-460f-c402-15a75677650d"
      },
      "execution_count": 8,
      "outputs": [
        {
          "output_type": "stream",
          "name": "stdout",
          "text": [
            "<re.Match object; span=(0, 15), match='Haruto Watanabe'>\n",
            "<re.Match object; span=(0, 14), match='Alice Watanabe'>\n",
            "None\n",
            "None\n",
            "None\n",
            "None\n",
            "None\n"
          ]
        }
      ]
    },
    {
      "cell_type": "markdown",
      "source": [
        "#22. How would you write a regex that matches a sentence where the first word is either Alice, Bob, or Carol; the second word is either eats, pets, or throws; the third word is apples, cats, or baseballs; and the sentence ends with a period? This regex should be case-insensitive. It must match the following:\n",
        "'Alice eats apples.'\n",
        "\n",
        "'Bob pets cats.'\n",
        "\n",
        "'Carol throws baseballs.'\n",
        "\n",
        "'Alice throws Apples.'\n",
        "\n",
        "'BOB EATS CATS.'\n",
        "\n",
        "but not the following:\n",
        "\n",
        "'RoboCop eats apples.'\n",
        "\n",
        "'ALICE THROWS FOOTBALLS.'\n",
        "\n",
        "'Carol eats 7 cats.'\n"
      ],
      "metadata": {
        "id": "TCkrDctmV3Rt"
      }
    },
    {
      "cell_type": "markdown",
      "source": [
        "Ans . You can write a regular expression to match a sentence where the first word is either Alice, Bob, or Carol; the second word is either eats, pets, or throws; the third word is apples, cats, or baseballs; and the sentence ends with a period by using the following pattern:\n",
        "\n",
        "\n"
      ],
      "metadata": {
        "id": "izTfGmxBWDgS"
      }
    },
    {
      "cell_type": "code",
      "source": [
        "^(?i)(Alice|Bob|Carol)\\s(eats|pets|throws)\\s(apples|cats|baseballs)\\.$\n"
      ],
      "metadata": {
        "id": "EXsOttT9Vv4I"
      },
      "execution_count": null,
      "outputs": []
    },
    {
      "cell_type": "markdown",
      "source": [
        "The ^ character at the beginning of the pattern indicates the start of the string.\n",
        "\n",
        "The (?i) is a flag that makes the regular expression case-insensitive.\n",
        "\n",
        "The (Alice|Bob|Carol) matches the first word, it can be either Alice, Bob or Carol.\n",
        "\n",
        "The \\s matches a space character.\n",
        "\n",
        "The (eats|pets|throws) matches the second word, it can be either eats, pets or throws.\n",
        "\n",
        "The \\s matches a space character.\n",
        "\n",
        "The (apples|cats|baseballs) matches the third word, it can be either apples, cats, or baseballs.\n",
        "\n",
        "The . matches the period at the end of the sentence.\n",
        "\n",
        "The $ at the end of the pattern indicates the end of the string.\n",
        "\n",
        "This pattern will match the following strings:\n",
        "\n",
        "'Alice eats apples.'\n",
        "\n",
        "'Bob pets cats.'\n",
        "\n",
        "'Carol throws baseballs.'\n",
        "\n",
        "'Alice throws Apples.'\n",
        "\n",
        "'BOB EATS CATS.'"
      ],
      "metadata": {
        "id": "KIx_Rd_TWMyY"
      }
    },
    {
      "cell_type": "markdown",
      "source": [
        "However, it will not match the following:\n",
        "\n",
        "'RoboCop eats apples.'\n",
        "\n",
        "'ALICE THROWS FOOTBALLS.'\n",
        "\n",
        "'Carol eats 7 cats.'\n",
        "\n",
        "This pattern ensures that the sentence starts with either Alice, Bob, or Carol, followed by a space, then either eats, pets, or throws, another space, then either apples, cats, or baseballs and ends with a period.\n",
        "\n",
        "Here is an example of how to use this pattern in python:"
      ],
      "metadata": {
        "id": "nkxz5AufWchr"
      }
    },
    {
      "cell_type": "code",
      "source": [
        "import re\n",
        "\n",
        "sentence_regex = re.compile(r\"^(?i)(Alice|Bob|Carol)\\s(eats|pets|throws)\\s(apples|cats|baseballs)\\.\")\n",
        "\n",
        "print(sentence_regex.match(\"Alice eats apples.\")) # match\n",
        "print(sentence_regex.match(\"Bob pets cats.\")) # match\n",
        "print(sentence_regex.match(\"Carol throws baseballs.\")) # match\n",
        "print(sentence_regex.match(\"Alice throws Apples.\")) # match\n",
        "print(sentence_regex.match(\"BOB EATS CATS.\")) # match\n",
        "print(sentence_regex.match(\"RoboCop eats apples.\")) # no match\n",
        "print(sentence_regex.match(\"ALICE THROWS FOOTBALLS.\")) # no match\n",
        "print(sentence_regex.match(\"Carol eats 7 cats.\")) # no match\n"
      ],
      "metadata": {
        "colab": {
          "base_uri": "https://localhost:8080/"
        },
        "id": "qqXMIbaUWIpv",
        "outputId": "fbbe4c64-82e0-43db-eef4-2c0779a83188"
      },
      "execution_count": 10,
      "outputs": [
        {
          "output_type": "stream",
          "name": "stdout",
          "text": [
            "<re.Match object; span=(0, 18), match='Alice eats apples.'>\n",
            "<re.Match object; span=(0, 14), match='Bob pets cats.'>\n",
            "<re.Match object; span=(0, 23), match='Carol throws baseballs.'>\n",
            "<re.Match object; span=(0, 20), match='Alice throws Apples.'>\n",
            "<re.Match object; span=(0, 14), match='BOB EATS CATS.'>\n",
            "None\n",
            "None\n",
            "None\n"
          ]
        },
        {
          "output_type": "stream",
          "name": "stderr",
          "text": [
            "<ipython-input-10-c2de730effd4>:3: DeprecationWarning: Flags not at the start of the expression '^(?i)(Alice|Bob|Caro' (truncated)\n",
            "  sentence_regex = re.compile(r\"^(?i)(Alice|Bob|Carol)\\s(eats|pets|throws)\\s(apples|cats|baseballs)\\.\")\n"
          ]
        }
      ]
    },
    {
      "cell_type": "code",
      "source": [],
      "metadata": {
        "id": "JwcV0nZ5WiKh"
      },
      "execution_count": null,
      "outputs": []
    }
  ]
}