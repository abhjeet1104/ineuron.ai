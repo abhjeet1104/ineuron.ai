{
  "nbformat": 4,
  "nbformat_minor": 0,
  "metadata": {
    "colab": {
      "provenance": []
    },
    "kernelspec": {
      "name": "python3",
      "display_name": "Python 3"
    },
    "language_info": {
      "name": "python"
    }
  },
  "cells": [
    {
      "cell_type": "markdown",
      "source": [
        "#1. In what modes should the PdfFileReader() and PdfFileWriter() File objects will be opened?"
      ],
      "metadata": {
        "id": "rCEh4c-zjLpq"
      }
    },
    {
      "cell_type": "markdown",
      "source": [
        "Ans. The PdfFileReader() and PdfFileWriter() File objects should be opened in binary mode, using the \"rb\" and \"wb\" mode respectively.\n",
        "\n",
        "\n",
        "\n"
      ],
      "metadata": {
        "id": "3mjUVSoPjmjr"
      }
    },
    {
      "cell_type": "markdown",
      "source": [
        "#2. From a PdfFileReader object, how do you get a Page object for page 5?"
      ],
      "metadata": {
        "id": "NTiEaNXkjuId"
      }
    },
    {
      "cell_type": "markdown",
      "source": [
        "Ans. You can use the getPage() method of the PdfFileReader object to get a Page object for a specific page. For example, to get the Page object for page 5, you would use the following code:"
      ],
      "metadata": {
        "id": "2RM-Spllj6pV"
      }
    },
    {
      "cell_type": "code",
      "execution_count": null,
      "metadata": {
        "id": "OaKJD4SejAKW"
      },
      "outputs": [],
      "source": [
        "pdf_reader = PdfFileReader(open(\"myfile.pdf\", \"rb\"))\n",
        "page5 = pdf_reader.getPage(4) # The page number is zero-indexed\n"
      ]
    },
    {
      "cell_type": "markdown",
      "source": [
        "#3. What PdfFileReader variable stores the number of pages in the PDF document?"
      ],
      "metadata": {
        "id": "Y4M9bRDLkMBu"
      }
    },
    {
      "cell_type": "markdown",
      "source": [
        "Ans. The numPages variable of the PdfFileReader object stores the number of pages in the PDF document. You can access it by calling pdf_reader.numPages.\n",
        "\n",
        "For example:\n",
        "\n"
      ],
      "metadata": {
        "id": "GWRztEUmkUo-"
      }
    },
    {
      "cell_type": "code",
      "source": [
        "pdf_reader = PdfFileReader(open(\"myfile.pdf\", \"rb\"))\n",
        "num_pages = pdf_reader.numPages\n"
      ],
      "metadata": {
        "id": "W9PQKqUxj-27"
      },
      "execution_count": null,
      "outputs": []
    },
    {
      "cell_type": "markdown",
      "source": [
        "#4. If a PdfFileReader object’s PDF is encrypted with the password swordfish, what must you do before you can obtain Page objects from it?"
      ],
      "metadata": {
        "id": "JTYiOTUQlYsN"
      }
    },
    {
      "cell_type": "markdown",
      "source": [
        "Ans. To obtain Page objects from a PdfFileReader object's PDF that is encrypted with the password \"swordfish\", you must first call the PdfFileReader.decrypt method and pass in the password \"swordfish\" as the argument. This will decrypt the PDF and allow you to access the Page objects."
      ],
      "metadata": {
        "id": "KgYNbFgilgTP"
      }
    },
    {
      "cell_type": "markdown",
      "source": [
        "#5. What methods do you use to rotate a page?"
      ],
      "metadata": {
        "id": "hUvcKBK6lq64"
      }
    },
    {
      "cell_type": "markdown",
      "source": [
        "Ans. To rotate a page using PyPDF2, you can use the PdfFileReader.getPage() method to get the page object, and then use the rotateClockwise() or rotateCounterClockwise() method to rotate the page. You can also use the rotate() method and pass in the angle by which you want to rotate the page (e.g. 90, 180, 270 degrees)\n",
        "\n",
        "For example"
      ],
      "metadata": {
        "id": "RYYLsbNdl_sV"
      }
    },
    {
      "cell_type": "code",
      "source": [
        "from PyPDF2 import PdfFileReader, PdfFileWriter\n",
        "\n",
        "# Open the PDF file\n",
        "with open(\"example.pdf\", \"rb\") as file:\n",
        "    pdf_reader = PdfFileReader(file)\n",
        "    # Get the page to rotate\n",
        "    page = pdf_reader.getPage(0)\n",
        "    # Rotate the page by 90 degrees clockwise\n",
        "    page.rotateClockwise(90)\n",
        "    # or Rotate the page by 180 degrees\n",
        "    page.rotate(180)\n",
        "    # or Rotate the page by 270 degrees counter-clockwise\n",
        "    page.rotateCounterClockwise(270)\n"
      ],
      "metadata": {
        "id": "fgypfpaKkYOo"
      },
      "execution_count": null,
      "outputs": []
    },
    {
      "cell_type": "markdown",
      "source": [
        "#6. What is the difference between a Run object and a Paragraph object?"
      ],
      "metadata": {
        "id": "Z_HDrTpSnY7b"
      }
    },
    {
      "cell_type": "markdown",
      "source": [
        "Ans. In the python-docx library, a Run object represents a sequence of characters with a common set of properties, such as font, size, and style, within a Paragraph object. A Paragraph object, on the other hand, represents a block of text in a document, and can contain one or more Run objects.\n",
        "\n",
        "The difference between them is that a Run is a part of text in a Paragraph and it has the same format as the other text in that Paragraph, while a Paragraph is a separate block of text in the document that can have different format and style.\n",
        "\n",
        "You can create a new run in a paragraph and apply different formatting to it, or create a new paragraph and apply different formatting to that.\n",
        "\n",
        "For example:"
      ],
      "metadata": {
        "id": "HlUVWYiAnhSy"
      }
    },
    {
      "cell_type": "code",
      "source": [
        "from docx import Document\n",
        "\n",
        "document = Document()\n",
        "\n",
        "# Adding a new paragraph\n",
        "paragraph = document.add_paragraph()\n",
        "\n",
        "# Adding a new run in the paragraph\n",
        "run = paragraph.add_run(\"This is a run of text.\")\n",
        "\n",
        "# Applying bold formatting to the run\n",
        "run.bold = True\n",
        "\n",
        "# Adding another run in the paragraph\n",
        "run2 = paragraph.add_run(\"This is another run of text.\")\n",
        "\n",
        "# Applying italic formatting to the second run\n",
        "run2.italic = True\n"
      ],
      "metadata": {
        "id": "9Ev2EtAQmEb0"
      },
      "execution_count": null,
      "outputs": []
    },
    {
      "cell_type": "markdown",
      "source": [
        "#7. How do you obtain a list of Paragraph objects for a Document object that’s stored in a variable named doc?"
      ],
      "metadata": {
        "id": "ikFyNRv9oRzz"
      }
    },
    {
      "cell_type": "markdown",
      "source": [
        "Ans.To obtain a list of Paragraph objects for a Document object stored in a variable named doc, you can use the doc.paragraphs property. This property returns a list of Paragraph objects, each representing a block of text in the document.\n",
        "\n",
        "For example:"
      ],
      "metadata": {
        "id": "eJ35tMp6oUMr"
      }
    },
    {
      "cell_type": "code",
      "source": [
        "from docx import Document\n",
        "\n",
        "# Open the document\n",
        "doc = Document(\"example.docx\")\n",
        "\n",
        "# Get the list of paragraphs\n",
        "paragraphs = doc.paragraphs\n",
        "\n",
        "# Iterate over the paragraphs\n",
        "for paragraph in paragraphs:\n",
        "    print(paragraph.text)\n"
      ],
      "metadata": {
        "id": "zoT2xYycn8SP"
      },
      "execution_count": null,
      "outputs": []
    },
    {
      "cell_type": "markdown",
      "source": [
        "You can also use the iter_paragraphs() method of the Document object to iterate over the paragraphs in the document.\n",
        "\n"
      ],
      "metadata": {
        "id": "v8YhNp60oyhq"
      }
    },
    {
      "cell_type": "code",
      "source": [
        "for para in doc.iter_paragraphs():\n",
        "    print(para.text)\n"
      ],
      "metadata": {
        "id": "rD35Y9CIoqgI"
      },
      "execution_count": null,
      "outputs": []
    },
    {
      "cell_type": "markdown",
      "source": [
        "Both doc.paragraphs and doc.iter_paragraphs() will give you a list of Paragraph objects that you can iterate over, access and manipulate their properties."
      ],
      "metadata": {
        "id": "1P3um7Pyo54m"
      }
    },
    {
      "cell_type": "markdown",
      "source": [
        "#8. What type of object has bold, underline, italic, strike, and outline variables?"
      ],
      "metadata": {
        "id": "f85JAVowrI2Y"
      }
    },
    {
      "cell_type": "markdown",
      "source": [
        "Ans.In the python-docx library, a Run object has the properties such as bold, underline, italic, strike, and outline which are boolean variables. These properties can be used to apply or remove formatting such as bold, underline, italic, strike-through, and outlining to a specific sequence of characters within a Paragraph object.\n",
        "\n",
        "For example:"
      ],
      "metadata": {
        "id": "m-O46rNQreRk"
      }
    },
    {
      "cell_type": "code",
      "source": [
        "from docx import Document\n",
        "\n",
        "document = Document()\n",
        "\n",
        "# Adding a new paragraph\n",
        "paragraph = document.add_paragraph()\n",
        "\n",
        "# Adding a new run in the paragraph\n",
        "run = paragraph.add_run(\"This is a run of text.\")\n",
        "\n",
        "# Applying bold formatting to the run\n",
        "run.bold = True\n",
        "\n",
        "# Applying underline formatting to the run\n",
        "run.underline = True\n",
        "\n",
        "# Applying italic formatting to the run\n",
        "run.italic = True\n",
        "\n",
        "# Applying strike-through formatting to the run\n",
        "run.strike = True\n",
        "\n",
        "# Applying outlining formatting to the run\n",
        "run.outline = True\n"
      ],
      "metadata": {
        "id": "ctefl_vHo1xG"
      },
      "execution_count": null,
      "outputs": []
    },
    {
      "cell_type": "markdown",
      "source": [
        "we can set these properties as True or False to apply or remove the formatting accordingly."
      ],
      "metadata": {
        "id": "pMSdncSorq-G"
      }
    },
    {
      "cell_type": "markdown",
      "source": [
        "#9. What is the difference between False, True, and None for the bold variable?"
      ],
      "metadata": {
        "id": "IJfOPMELrz3h"
      }
    },
    {
      "cell_type": "markdown",
      "source": [
        "Ans.In the python-docx library, the bold variable of a Run object is a boolean property that can have one of three values: True, False, or None.\n",
        "\n",
        "When bold is set to True, the text in the Run object will be displayed in bold.\n",
        "When bold is set to False, the text in the Run object will not be displayed in bold.\n",
        "When bold is set to None, the bold property of the Run object is not defined, and the text in the Run object will inherit its formatting from the parent Paragraph object or the document style.\n",
        "For example:\n",
        "\n"
      ],
      "metadata": {
        "id": "Qy6xCx_dsFbC"
      }
    },
    {
      "cell_type": "code",
      "source": [
        "from docx import Document\n",
        "\n",
        "document = Document()\n",
        "\n",
        "# Adding a new paragraph\n",
        "paragraph = document.add_paragraph()\n",
        "\n",
        "# Adding a new run in the paragraph\n",
        "run = paragraph.add_run(\"This is a run of text.\")\n",
        "\n",
        "# Applying bold formatting to the run\n",
        "run.bold = True\n",
        "\n",
        "# Removing bold formatting to the run\n",
        "run.bold = False\n",
        "\n",
        "# Not defined the bold formatting to the run\n",
        "run.bold = None\n"
      ],
      "metadata": {
        "id": "V0386aMZrkEZ"
      },
      "execution_count": null,
      "outputs": []
    },
    {
      "cell_type": "markdown",
      "source": [
        "#10. How do you create a Document object for a new Word document?"
      ],
      "metadata": {
        "id": "reFHT4fWsdUa"
      }
    },
    {
      "cell_type": "markdown",
      "source": [
        "Ans.To create a new Document object for a Word document using the python-docx library, you can use the Document() constructor. This will create an empty Document object that you can add content to using the various methods provided by the library.\n",
        "\n",
        "For example:"
      ],
      "metadata": {
        "id": "knJ2Y91HssFI"
      }
    },
    {
      "cell_type": "code",
      "source": [
        "from docx import Document\n",
        "\n",
        "# Create a new document\n",
        "document = Document()\n",
        "\n",
        "# Add a new paragraph\n",
        "paragraph = document.add_paragraph(\"This is a new document.\")\n",
        "\n",
        "# Save the document\n",
        "document.save(\"new_document.docx\")\n"
      ],
      "metadata": {
        "id": "K7DjhKjisR6B"
      },
      "execution_count": null,
      "outputs": []
    },
    {
      "cell_type": "markdown",
      "source": [
        "This will create a new empty Document object and save it as \"new_document.docx\" in the current working directory. Then you can add paragraphs, runs, tables, images or any other content to the document using the methods provided by the library.\n",
        "\n",
        "we can also use the Document(filename) constructor to open an existing Word document, and then add or modify its content.\n"
      ],
      "metadata": {
        "id": "o3Xs69kts6Xg"
      }
    },
    {
      "cell_type": "markdown",
      "source": [
        "#11. How do you add a paragraph with the text 'Hello, there!' to a Document object stored in a variable named doc?"
      ],
      "metadata": {
        "id": "wyhdl5VmtHzo"
      }
    },
    {
      "cell_type": "markdown",
      "source": [
        "Ans.To add a paragraph with the text 'Hello, there!' to a Document object stored in a variable named doc, you can use the add_paragraph() method of the Document object.\n",
        "You can either pass the text of the paragraph as a string to the add_paragraph() method,\n",
        "or create a new Paragraph object and add it to the Document.\n",
        "\n",
        "For example:"
      ],
      "metadata": {
        "id": "ng2eWJRAtNtC"
      }
    },
    {
      "cell_type": "code",
      "source": [
        "from docx import Document\n",
        "\n",
        "# Open the document\n",
        "doc = Document(\"example.docx\")\n",
        "\n",
        "# Add a new paragraph with text 'Hello, there!'\n",
        "doc.add_paragraph(\"Hello, there!\")\n",
        "\n",
        "# or \n",
        "paragraph = doc.add_paragraph()\n",
        "paragraph.add_run(\"Hello, there!\")\n"
      ],
      "metadata": {
        "id": "ci2fqwIts0cU"
      },
      "execution_count": null,
      "outputs": []
    },
    {
      "cell_type": "markdown",
      "source": [
        "The first example will create a new Paragraph object with the text 'Hello, there!' and add it to the Document object.\n",
        "The second example will create a new Paragraph object and add it to the Document, then it will create a new Run object with the text 'Hello, there!' and add it to the Paragraph object.\n",
        "After this, you can save the document using the save() method, which will add the new paragraph to the document."
      ],
      "metadata": {
        "id": "NzKdEDmdtjY3"
      }
    },
    {
      "cell_type": "code",
      "source": [
        "doc.save(\"example.docx\")\n"
      ],
      "metadata": {
        "id": "pqnHd7uxtVbW"
      },
      "execution_count": null,
      "outputs": []
    },
    {
      "cell_type": "markdown",
      "source": [
        "It is important to note that the save() method will overwrite the original file if it exists, so make sure to use a different name or to keep a backup of the original file."
      ],
      "metadata": {
        "id": "ULDvF40rtsVL"
      }
    },
    {
      "cell_type": "markdown",
      "source": [
        "#12. What integers represent the levels of headings available in Word documents?"
      ],
      "metadata": {
        "id": "M8Kdi1ZItyIP"
      }
    },
    {
      "cell_type": "markdown",
      "source": [
        "Ans. In Word documents, headings are used to organize and structure the content of the document. They are typically represented by different font sizes and styles, and can be used to create an outline or table of contents for the document.\n",
        "\n",
        "In the python-docx library, headings are represented by integers from 1 to 9, where each integer corresponds to a specific level of heading. These integers are used as arguments when adding a heading to a Document object.\n",
        "\n",
        "For example, to add a heading of level 1 (the highest level) to a Document object stored in a variable named doc, you can use the following code:\n",
        "\n"
      ],
      "metadata": {
        "id": "RBUAJyg7uJG3"
      }
    },
    {
      "cell_type": "code",
      "source": [
        "from docx import Document\n",
        "\n",
        "doc = Document()\n",
        "\n",
        "# Add a heading of level 1\n",
        "doc.add_heading(\"Heading level 1\", level=1)\n"
      ],
      "metadata": {
        "id": "kX_777WEtnQq"
      },
      "execution_count": null,
      "outputs": []
    },
    {
      "cell_type": "markdown",
      "source": [
        "You can use integers from 1 to 9 to create different levels of headings, where:\n",
        "\n",
        "1 is the highest level (e.g. main title of the document),\n",
        "2 is the second level (e.g. sections of the document),\n",
        "3 is the third level (e.g. sub-sections of the document),\n",
        "and so on.\n",
        "The headings will be shown in the document with different formatting and styles, depending on the level of heading you have chosen.\n",
        "\n",
        "Also, you can use the style parameter to set a specific built-in style for the heading, for example:\n",
        "\n"
      ],
      "metadata": {
        "id": "fGdEUOLYuTYn"
      }
    },
    {
      "cell_type": "code",
      "source": [
        "doc.add_heading(\"Heading level 1\", level=1, style='Title')\n"
      ],
      "metadata": {
        "id": "rLwBuWpruOSB"
      },
      "execution_count": null,
      "outputs": []
    },
    {
      "cell_type": "markdown",
      "source": [
        "It will set the built-in style 'Title' to the heading level 1."
      ],
      "metadata": {
        "id": "1FvXxaXvucwo"
      }
    },
    {
      "cell_type": "code",
      "source": [],
      "metadata": {
        "id": "uipM96S0uYfu"
      },
      "execution_count": null,
      "outputs": []
    }
  ]
}