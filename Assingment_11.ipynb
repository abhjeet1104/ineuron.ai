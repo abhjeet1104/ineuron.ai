{
  "nbformat": 4,
  "nbformat_minor": 0,
  "metadata": {
    "colab": {
      "provenance": []
    },
    "kernelspec": {
      "name": "python3",
      "display_name": "Python 3"
    },
    "language_info": {
      "name": "python"
    }
  },
  "cells": [
    {
      "cell_type": "markdown",
      "source": [
        "#1. Create an assert statement that throws an AssertionError if the variable spam is a negative integer"
      ],
      "metadata": {
        "id": "q9d_k8BZKPSv"
      }
    },
    {
      "cell_type": "code",
      "execution_count": null,
      "metadata": {
        "id": "MzGnFMw8KN-s"
      },
      "outputs": [],
      "source": [
        "assert spam >= 0, \"spam should not be a negative integer\"\n"
      ]
    },
    {
      "cell_type": "markdown",
      "source": [
        "Ans This will raise an AssertionError with the message \"spam should not be a negative integer\" if the variable spam is a negative integer (i.e. less than 0). If spam is not a negative integer, the assertion will pass and nothing will happen.\n",
        "\n",
        "\n",
        "\n"
      ],
      "metadata": {
        "id": "G5it2E6oKtSp"
      }
    },
    {
      "cell_type": "markdown",
      "source": [
        "#2. Write an assert statement that triggers an AssertionError if the variables eggs and bacon contain strings that are the same as each other, even if their cases are different (that is, 'hello' and 'hello' are considered the same, and 'goodbye' and 'GOODbye' are also considered the same)."
      ],
      "metadata": {
        "id": "vv6WlTpUK2wr"
      }
    },
    {
      "cell_type": "code",
      "source": [
        "assert eggs.lower() != bacon.lower(), \"eggs and bacon should not have the same value\"\n"
      ],
      "metadata": {
        "id": "rbYH8evMKsEv"
      },
      "execution_count": null,
      "outputs": []
    },
    {
      "cell_type": "markdown",
      "source": [
        "Ans. This will raise an AssertionError with the message \"eggs and bacon should not have the same value\" if the variable eggs and bacon contain strings that are the same when converted to lowercase. If the strings are different, the assertion will pass and nothing will happen.\n",
        "This way, the case of the string does not matter and the comparison is case-insensitive.\n",
        "\n",
        "\n",
        "\n"
      ],
      "metadata": {
        "id": "tHRvSK9ALTPS"
      }
    },
    {
      "cell_type": "markdown",
      "source": [
        "#3. Create an assert statement that throws an AssertionError every time."
      ],
      "metadata": {
        "id": "WlJekn12OjLw"
      }
    },
    {
      "cell_type": "code",
      "source": [
        "assert False, \"This assert statement always triggers an AssertionError\"\n"
      ],
      "metadata": {
        "id": "GKKpGz0kLNfI"
      },
      "execution_count": null,
      "outputs": []
    },
    {
      "cell_type": "markdown",
      "source": [
        "Ans. This will always raise an AssertionError with the message \"This assert statement always triggers an AssertionError\" because the condition False is always false.\n",
        "It is important to note that this is not an ideal use case of assert statement, it is only used for demonstration purposes. In general assert statement should be used to check the assumptions or requirements in the code, it is not recommended to use it to create errors on purpose."
      ],
      "metadata": {
        "id": "zrS65YkJOvjc"
      }
    },
    {
      "cell_type": "markdown",
      "source": [
        "#4. What are the two lines that must be present in your software in order to call logging.debug()?"
      ],
      "metadata": {
        "id": "cW21Ib7vO5Lq"
      }
    },
    {
      "cell_type": "markdown",
      "source": [
        "Ans. In order to call the logging.debug() method, the following two lines must be present in your software:\n",
        "\n",
        "Import the logging module:\n"
      ],
      "metadata": {
        "id": "g2k4ty4RPTPN"
      }
    },
    {
      "cell_type": "code",
      "source": [
        "import logging\n"
      ],
      "metadata": {
        "id": "U6MIueEsOrK6"
      },
      "execution_count": 4,
      "outputs": []
    },
    {
      "cell_type": "markdown",
      "source": [
        "Configure the logging module to specify the desired logging level and output location. This is typically done by calling the basicConfig() function and setting the level and filename or stream parameters. For example:\n"
      ],
      "metadata": {
        "id": "ZWRTw6P7PaS9"
      }
    },
    {
      "cell_type": "code",
      "source": [
        "logging.basicConfig(level=logging.DEBUG, filename=\"debug.log\")\n"
      ],
      "metadata": {
        "id": "wr5UOFs2PXJB"
      },
      "execution_count": 5,
      "outputs": []
    },
    {
      "cell_type": "markdown",
      "source": [
        "This will configure the logging module to output all messages with level DEBUG and above to a file named \"debug.log\" or to the standard output respectively."
      ],
      "metadata": {
        "id": "t66LUfoMPilc"
      }
    },
    {
      "cell_type": "markdown",
      "source": [
        "#5. What are the two lines that your program must have in order to have logging.debug() send a logging message to a file named programLog.txt?"
      ],
      "metadata": {
        "id": "3W9q1rPpPtZL"
      }
    },
    {
      "cell_type": "markdown",
      "source": [
        "Ans. In order to have the logging.debug() method send a logging message to a file named \"programLog.txt\", the following two lines must be present in your program:\n",
        "\n",
        "Import the logging module:"
      ],
      "metadata": {
        "id": "axItCBtRQAGm"
      }
    },
    {
      "cell_type": "code",
      "source": [
        "import logging\n"
      ],
      "metadata": {
        "id": "b0DReN_iPdk3"
      },
      "execution_count": 6,
      "outputs": []
    },
    {
      "cell_type": "markdown",
      "source": [
        "Configure the logging module to specify the desired logging level and output location, by calling the basicConfig() function and setting the level and filename parameters, for example:\n"
      ],
      "metadata": {
        "id": "6sT-OCw4QLMW"
      }
    },
    {
      "cell_type": "code",
      "source": [
        "logging.basicConfig(level=logging.DEBUG, filename=\"programLog.txt\")\n"
      ],
      "metadata": {
        "id": "z9ICyF2MQGhc"
      },
      "execution_count": 7,
      "outputs": []
    },
    {
      "cell_type": "markdown",
      "source": [
        "This will configure the logging module to output all messages with level DEBUG and above to a file named \"programLog.txt\""
      ],
      "metadata": {
        "id": "jNqBsZfZQSlr"
      }
    },
    {
      "cell_type": "markdown",
      "source": [
        "#6. What are the five levels of logging?"
      ],
      "metadata": {
        "id": "cS1nRRYTReS5"
      }
    },
    {
      "cell_type": "markdown",
      "source": [
        "Ans. The five levels of logging, in increasing order of severity, are:\n",
        "\n",
        "DEBUG: Detailed information, typically of interest only when diagnosing problems.\n",
        "2.INFO: Confirmation that things are working as expected.\n",
        "\n",
        "3.WARNING: An indication that something unexpected happened or indicative of some problem in the near future (e.g. ‘disk space low’). The software is still working as expected.\n",
        "\n",
        "4.ERROR: Due to a more serious problem, the software has not been able to perform some function.\n",
        "\n",
        "5.CRITICAL: A serious error, indicating that the program itself may be unable to continue running.\n",
        "\n",
        "These levels are part of the standard library of Python logging module, it allows to filter and redirect the log messages based on their level, you can choose to show or hide messages based on their level of importance.\n",
        "\n",
        "\n",
        "\n",
        "\n"
      ],
      "metadata": {
        "id": "LhUsEzX7Rktj"
      }
    },
    {
      "cell_type": "markdown",
      "source": [
        "#7. What line of code would you add to your software to disable all logging messages?"
      ],
      "metadata": {
        "id": "EVQ8pxRZRsrM"
      }
    },
    {
      "cell_type": "markdown",
      "source": [
        "Ans. It depends on the programming language and logging library being used. Here is an example of how you might disable all logging messages in Python using the logging module:"
      ],
      "metadata": {
        "id": "5cJuIc0LSODw"
      }
    },
    {
      "cell_type": "code",
      "source": [
        "import logging\n",
        "logging.disable(logging.CRITICAL)\n"
      ],
      "metadata": {
        "id": "zf4U3EMhQPX4"
      },
      "execution_count": null,
      "outputs": []
    },
    {
      "cell_type": "markdown",
      "source": [
        "This disables all logging messages by setting the logging level to CRITICAL, which only logs messages that are critical in nature. If you want to disable all logging messages in some other language or library, you may need to consult the documentation for that specific library."
      ],
      "metadata": {
        "id": "JSVqryYmSVnz"
      }
    },
    {
      "cell_type": "markdown",
      "source": [
        "#8.Why is using logging messages better than using print() to display the same message?"
      ],
      "metadata": {
        "id": "sW21WBS5SfvA"
      }
    },
    {
      "cell_type": "markdown",
      "source": [
        "Ans. Using logging messages is generally considered to be better than using print() for a few reasons:\n",
        "\n",
        "Logging messages can be more easily filtered and directed to different outputs. For example, you can configure your logging system to send all error messages to a file, while sending all debug messages to the console. With print() statements, you would need to manually add code to redirect output to different locations.\n",
        "\n",
        "Logging messages can include additional information, such as a timestamp, the log level, and the name of the logger that generated the message. This can make it easier to understand the context of a message and troubleshoot issues.\n",
        "\n",
        "Logging messages can be more easily disabled or turned off in a production environment, whereas print() statements would need to be manually removed from the code.\n",
        "\n",
        "Logging allows you to store the messages in a file which can be analysed later on, this is useful for debugging and monitoring purposes.\n",
        "\n",
        "Logging libraries often have built-in support for handling different levels of logging, such as DEBUG, INFO, WARNING, ERROR, and CRITICAL. This allows you to control the verbosity of your logs, making it easy to see only the information that is relevant to your needs.\n",
        "\n",
        "In summary, using logging is more flexible, informative, maintainable and scalable than using print statement.\n"
      ],
      "metadata": {
        "id": "A7uVcl87URMQ"
      }
    },
    {
      "cell_type": "markdown",
      "source": [
        "#9. What are the differences between the Step Over, Step In, and Step Out buttons in the debugger?"
      ],
      "metadata": {
        "id": "Tp021vtxVY6H"
      }
    },
    {
      "cell_type": "markdown",
      "source": [
        "Ans. The \"Step Over\" button allows the developer to step over a function or method call, meaning the debugger will execute the function or method and move to the next line of code, without entering the function or method.\n",
        "\n",
        "The \"Step In\" button allows the developer to step into a function or method call, meaning the debugger will enter the function or method and begin executing the code line by line.\n",
        "\n",
        "The \"Step Out\" button allows the developer to step out of the current function or method, meaning the debugger will continue execution until the function or method returns, then stop at the next line of code."
      ],
      "metadata": {
        "id": "ZdMkE0OkVdPF"
      }
    },
    {
      "cell_type": "markdown",
      "source": [
        "#10.After you click Continue, when will the debugger stop ?"
      ],
      "metadata": {
        "id": "7FtFjclFVn4p"
      }
    },
    {
      "cell_type": "markdown",
      "source": [
        "Ans. After clicking the \"Continue\" button, the debugger will stop execution when it reaches a breakpoint or an exception is thrown. A breakpoint is a point in the code where the developer has set the debugger to pause execution, allowing them to examine the state of the program at that point. An exception is an error or unexpected event that occurs during the execution of a program. If an exception is thrown and not caught, the debugger will stop execution and allow the developer to examine the error and its cause."
      ],
      "metadata": {
        "id": "h9sql81fVz0c"
      }
    },
    {
      "cell_type": "markdown",
      "source": [
        "#11. What is the concept of a breakpoint?"
      ],
      "metadata": {
        "id": "nbWArYcQWFIS"
      }
    },
    {
      "cell_type": "markdown",
      "source": [
        "Ans.A breakpoint is a point in the code where the developer has set the debugger to pause the execution of the program. This allows the developer to examine the state of the program at that point and understand how the program is behaving. Breakpoints can be set in various ways, such as by clicking on the left margin of the code editor, using a keyboard shortcut, or through the debugger's user interface. Once a breakpoint is set, the program will pause execution when it reaches that point, allowing the developer to inspect variables, step through the code, and make any necessary changes."
      ],
      "metadata": {
        "id": "U2bPcilrWE2Y"
      }
    },
    {
      "cell_type": "code",
      "source": [],
      "metadata": {
        "id": "GHrWDBe7SRmW"
      },
      "execution_count": null,
      "outputs": []
    }
  ]
}