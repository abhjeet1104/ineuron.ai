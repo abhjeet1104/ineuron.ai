{
  "nbformat": 4,
  "nbformat_minor": 0,
  "metadata": {
    "colab": {
      "provenance": []
    },
    "kernelspec": {
      "name": "python3",
      "display_name": "Python 3"
    },
    "language_info": {
      "name": "python"
    }
  },
  "cells": [
    {
      "cell_type": "markdown",
      "source": [
        "#1. What are escape characters, and how do you use them?"
      ],
      "metadata": {
        "id": "30JwQJ2kQLc9"
      }
    },
    {
      "cell_type": "markdown",
      "source": [
        "Escape characters are characters that are used to represent certain characters or character sequences that are not printable, or that have special meaning in certain contexts. They are used in programming languages and text-based protocols to represent characters that are not part of the standard ASCII character set, or to represent characters that have special meaning in the context in which they are being used.\n",
        "\n",
        "To use an escape character, you typically place a backslash () before the character or character sequence that you want to represent. For example, in many programming languages, the newline character is represented using the escape sequence \\n, and in HTML, the ampersand character is represented using the escape sequence &amp;.\n",
        "\n",
        "Here are some common escape characters and their meanings:"
      ],
      "metadata": {
        "id": "QvJtnY3tQlgW"
      }
    },
    {
      "cell_type": "markdown",
      "source": [
        "\\n: newline\n",
        "\n",
        "\\r: carriage return\n",
        "\n",
        "\\t: tab\n",
        "\n",
        "\\\\: backslash\n",
        "\n",
        "\\': single quote\n",
        "\n",
        "\\\": double quote\n",
        "\n",
        "\\b: backspace\n",
        "\n",
        "\\f: form feed"
      ],
      "metadata": {
        "id": "19Rf4q-pQnmd"
      }
    },
    {
      "cell_type": "markdown",
      "source": [
        "Escape characters are often used to allow characters that have special meaning in a particular context to be used as literal characters. For example, in a string literal in a programming language, the double quote character is used to denote the start and end of the string. To include a double quote character as part of the string, you can use the \\\" escape sequence to represent it.\n",
        "\n",
        "Here is an example of how you might use escape characters in a Python program:\n",
        "\n"
      ],
      "metadata": {
        "id": "rH4zit1MQ05P"
      }
    },
    {
      "cell_type": "code",
      "execution_count": 1,
      "metadata": {
        "id": "7beOLfBZQF_W"
      },
      "outputs": [],
      "source": [
        "# This string contains a newline character\n",
        "string = \"This is the first line.\\nThis is the second line.\"\n",
        "\n",
        "# This string contains a tab character\n",
        "string = \"First\\tSecond\\tThird\"\n",
        "\n",
        "# This string contains a backslash character\n",
        "string = \"C:\\\\Users\\\\Username\\\\Documents\"\n"
      ]
    },
    {
      "cell_type": "markdown",
      "source": [
        "#2. What do the escape characters n and t stand for?"
      ],
      "metadata": {
        "id": "pLsWGQulRDLO"
      }
    },
    {
      "cell_type": "markdown",
      "source": [
        "In many programming languages, the \\n escape character represents a newline, and the \\t escape character represents a tab.\n",
        "\n",
        "Here's what these escape characters do:"
      ],
      "metadata": {
        "id": "iuLpwUuaRWSs"
      }
    },
    {
      "cell_type": "markdown",
      "source": [
        "**\\n:** This escape sequence is used to represent a newline character. When a string containing this escape sequence is printed, the output will move to the next line after the escape sequence. For example, if you have a string \"Hello\\nWorld\", it will be printed as \"Hello\" on one line and \"World\" on the next line.\n",
        "\n",
        "\n",
        "\\t: This escape sequence is used to represent a tab character. When a string containing this escape sequence is printed, the output will move to the next tab stop. Tab stops are usually set at intervals of 8 characters, so if you have a string \"Hello\\tWorld\", it will be printed as \"Hello World\", with 5 spaces between the two words."
      ],
      "metadata": {
        "id": "K16pXWgqRX07"
      }
    },
    {
      "cell_type": "markdown",
      "source": [
        "Here's an example of how you might use these escape characters in a Python program:"
      ],
      "metadata": {
        "id": "NKC0MAU0RkhI"
      }
    },
    {
      "cell_type": "code",
      "source": [
        "# This string contains a newline character and a tab character\n",
        "string = \"Hello\\n\\tWorld\"\n",
        "\n",
        "# When printed, the string will be displayed as:\n",
        "# Hello\n",
        "#      World\n",
        "print(string)\n"
      ],
      "metadata": {
        "colab": {
          "base_uri": "https://localhost:8080/"
        },
        "id": "NYiZ1UPTQ4Sf",
        "outputId": "dfca0b75-ff2a-496c-d31f-ee2cb7ad0a8a"
      },
      "execution_count": 2,
      "outputs": [
        {
          "output_type": "stream",
          "name": "stdout",
          "text": [
            "Hello\n",
            "\tWorld\n"
          ]
        }
      ]
    },
    {
      "cell_type": "markdown",
      "source": [
        "#3. What is the way to include backslash characters in a string?"
      ],
      "metadata": {
        "id": "l9btIZvfR0Fc"
      }
    },
    {
      "cell_type": "markdown",
      "source": [
        "To include a backslash character () in a string, you can use the \\\\ escape sequence. This escape sequence represents a single backslash character, and is used to escape the backslash character so that it is treated as a literal character rather than as an escape character.\n",
        "\n",
        "For example, in a Python program, you can create a string containing a backslash character like this:"
      ],
      "metadata": {
        "id": "JTWpuDthSGEf"
      }
    },
    {
      "cell_type": "code",
      "source": [
        "string = \"This string contains a backslash: \\\\\"\n"
      ],
      "metadata": {
        "id": "WPqq2GxFRnon"
      },
      "execution_count": 3,
      "outputs": []
    },
    {
      "cell_type": "markdown",
      "source": [
        "Alternatively, you can also use raw string literals to include backslash characters in a string. A raw string literal is a string that is prefixed with the r character, and in a raw string, backslashes are treated as literal characters and are not treated as escape characters.\n",
        "\n",
        "Here's an example of how you might use raw string literals to include backslash characters in a string in Python:"
      ],
      "metadata": {
        "id": "P14NVoxSSO4X"
      }
    },
    {
      "cell_type": "code",
      "source": [
        "string = r\"This string contains a backslash: \\ \"\n"
      ],
      "metadata": {
        "id": "IeMB77W4SKy2"
      },
      "execution_count": 4,
      "outputs": []
    },
    {
      "cell_type": "markdown",
      "source": [
        "In both of these examples, the string will contain a single backslash character. When the string is printed, it will be displayed as: \"This string contains a backslash: \\\""
      ],
      "metadata": {
        "id": "EJiHcJeNSWw7"
      }
    },
    {
      "cell_type": "markdown",
      "source": [
        "#4. The string \"Howl's Moving Castle\" is a correct value. Why isn't the single quote character in the word Howl's not escaped a problem?"
      ],
      "metadata": {
        "id": "sTokm4lCSe-A"
      }
    },
    {
      "cell_type": "markdown",
      "source": [
        "In many programming languages, including Python, single quote characters (') can be used to denote the start and end of a string literal, just like double quote characters (\"). This means that you can use either single quotes or double quotes to create a string, depending on which type of quotes you prefer to use.\n",
        "\n",
        "For example, both of the following Python statements create strings with the same value:"
      ],
      "metadata": {
        "id": "YEu7K1eMSeoY"
      }
    },
    {
      "cell_type": "code",
      "source": [
        "string1 = \"Howl's Moving Castle\"\n",
        "string2 = 'Howl\\'s Moving Castle'\n"
      ],
      "metadata": {
        "id": "3gwthUV_SS07"
      },
      "execution_count": 5,
      "outputs": []
    },
    {
      "cell_type": "markdown",
      "source": [
        "In the second example, the single quote character in the word \"Howl's\" is escaped using the \\' escape sequence, which represents a single quote character. This allows the single quote character to be used as a literal character within the string, rather than being interpreted as the end of the string.\n",
        "\n",
        "So, in this case, the single quote character in the word \"Howl's\" is not a problem because it is properly escaped using the \\' escape sequence, and the string is correctly denoted using double quotes."
      ],
      "metadata": {
        "id": "fBDKtu_oTETN"
      }
    },
    {
      "cell_type": "markdown",
      "source": [
        "#5. How do you write a string of newlines if you don't want to use the n character?"
      ],
      "metadata": {
        "id": "TS4XO9XuTOjj"
      }
    },
    {
      "cell_type": "markdown",
      "source": [
        "To create a string containing multiple newline characters in a programming language like Python, you can use a combination of the \\n escape sequence and the string concatenation operator (+).\n",
        "\n",
        "Here's an example of how you might create a string containing three newline characters in Python:"
      ],
      "metadata": {
        "id": "3XwAgRKTTiX9"
      }
    },
    {
      "cell_type": "code",
      "source": [
        "string = \"\\n\\n\\n\"\n"
      ],
      "metadata": {
        "id": "XLGqdwEPS_PB"
      },
      "execution_count": 6,
      "outputs": []
    },
    {
      "cell_type": "markdown",
      "source": [
        "Alternatively, you can also use triple quotes (\"\"\" or ''') to create a multi-line string, which allows you to include newline characters directly in the string literal without using the \\n escape sequence. Here's an example of how you might create a multi-line string in Python:\n",
        "\n"
      ],
      "metadata": {
        "id": "es6om6q5Tpja"
      }
    },
    {
      "cell_type": "code",
      "source": [
        "string = \"\"\"\n",
        "\n",
        "\"\"\"\n"
      ],
      "metadata": {
        "id": "b3Z5EhIiTmG7"
      },
      "execution_count": 7,
      "outputs": []
    },
    {
      "cell_type": "markdown",
      "source": [
        "In both of these examples, the resulting string will contain three newline characters, which will be interpreted as three separate lines when the string is printed."
      ],
      "metadata": {
        "id": "jFoQK9NQTwS1"
      }
    },
    {
      "cell_type": "markdown",
      "source": [
        "#6. What are the values of the given expressions?\n",
        "'**Hello, world!'[1]**\n",
        "****\n",
        "'Hello, world!'[0:5]\n",
        "****\n",
        "'Hello, world!'[:5]\n",
        "****\n",
        "'Hello, world!'[3:]\n"
      ],
      "metadata": {
        "id": "Y46VqvBxXNze"
      }
    },
    {
      "cell_type": "markdown",
      "source": [
        "In Python (and many other programming languages), strings are indexed collections of characters, and you can use square brackets ([]) to access individual characters or substrings within a string.\n",
        "\n",
        "Here are the values of the given expressions:"
      ],
      "metadata": {
        "id": "Jc8uhTRsXnmh"
      }
    },
    {
      "cell_type": "markdown",
      "source": [
        "'Hello, world!'[1]: This expression retrieves the character at index 1 of the string 'Hello, world!', which is the character 'e'.\n",
        "\n",
        "****\n",
        "'Hello, world!'[0:5]: This expression retrieves the substring of the string 'Hello, world!' starting at index 0 and ending at index 4 (the character at index 5 is not included). The resulting substring is 'Hello'.\n",
        "\n",
        "*****\n",
        "'Hello, world!'[:5]: This expression is equivalent to 'Hello, world!'[0:5], and it retrieves the same substring of the string 'Hello, world!', which is 'Hello'.\n",
        "*******\n",
        "\n",
        "'Hello, world!'[3:]: This expression retrieves the substring of the string 'Hello, world!' starting at index 3 and continuing to the end of the string. The resulting substring is 'lo, world!'."
      ],
      "metadata": {
        "id": "0uyhsIRDXsij"
      }
    },
    {
      "cell_type": "markdown",
      "source": [
        "#7. What are the values of the following expressions?\n",
        "'Hello'.upper()\n",
        "\n",
        "'Hello'.upper().isupper()\n",
        "\n",
        "'Hello'.upper().lower()\n"
      ],
      "metadata": {
        "id": "oVWWEUTIZMc-"
      }
    },
    {
      "cell_type": "markdown",
      "source": [
        "In Python, strings have a number of built-in methods that allow you to manipulate the string in various ways. Here are the values of the given expressions:"
      ],
      "metadata": {
        "id": "HwD2lasDZovB"
      }
    },
    {
      "cell_type": "markdown",
      "source": [
        "'Hello'.upper(): This expression calls the upper() method on the string 'Hello', which returns a new string that is the uppercase version of the original string. The value of this expression is 'HELLO'.\n",
        "*************\n",
        "'Hello'.upper().isupper(): This expression calls the upper() method on the string 'Hello' to create a new string 'HELLO', and then calls the isupper() method on this new string. The isupper() method returns True if the string consists entirely of uppercase characters, and False otherwise. In this case, the value of this expression is True.\n",
        "*************************************\n",
        "'Hello'.upper().lower(): This expression calls the upper() method on the string 'Hello' to create a new string 'HELLO', and then calls the lower() method on this new string. The lower() method returns a new string that is the lowercase version of the original string. The value of this expression is 'hello'."
      ],
      "metadata": {
        "id": "DOLhP7fPZqfp"
      }
    },
    {
      "cell_type": "markdown",
      "source": [
        "#8. What are the values of the following expressions?\n",
        "'Remember, remember, the fifth of July.'.split()\n",
        "'-'.join('There can only one.'.split())\n"
      ],
      "metadata": {
        "id": "b6OFG6DGZ6Mj"
      }
    },
    {
      "cell_type": "markdown",
      "source": [
        "In Python, the split() method is used to split a string into a list of substrings based on a specified delimiter. The join() method is used to join a list of strings into a single string, using a specified separator.\n",
        "***************\n",
        "Here are the values of the given expressions:\n",
        "*************\n",
        "'Remember, remember, the fifth of July.'.split(): This expression calls the split() method on the string 'Remember, remember, the fifth of July.', which splits the string into a list of substrings using a default delimiter of any whitespace character (space, tab, newline, etc.). The resulting list contains the following substrings: ['Remember,', 'remember,', 'the', 'fifth', 'of', 'July.'].\n",
        "**************\n",
        "'-'.join('There can only one.'.split()): This expression first calls the split() method on the string 'There can only one.', which splits the string into a list of substrings using a default delimiter of any whitespace character. The resulting list contains the following substrings: ['There', 'can', 'only', 'one.']. Then, it calls the join() method on this list, using the string '-' as the separator. The join() method joins the substrings in the list into a single string, with '-' characters inserted between them. The value of this expression is 'There-can-only-one.'."
      ],
      "metadata": {
        "id": "z48fSZuzaL8M"
      }
    },
    {
      "cell_type": "markdown",
      "source": [
        "#9. What are the methods for right-justifying, left-justifying, and centering a string?"
      ],
      "metadata": {
        "id": "CtklBGW0adH7"
      }
    },
    {
      "cell_type": "markdown",
      "source": [
        "In Python, you can use the following methods to right-justify, left-justify, and center a string:\n",
        "\n",
        "rjust(): This method returns a new string that is right-justified within a specified minimum width by padding the string with spaces on the left. For example:"
      ],
      "metadata": {
        "id": "OcfV_0IfadEc"
      }
    },
    {
      "cell_type": "code",
      "source": [
        "string = \"Hello\"\n",
        "right_justified_string = string.rjust(10)\n",
        "print(right_justified_string)  # Output: \"     Hello\"\n"
      ],
      "metadata": {
        "colab": {
          "base_uri": "https://localhost:8080/"
        },
        "id": "RAWi_EFtY0aa",
        "outputId": "3b4ff99c-2d5c-41bd-bb4d-b4e74571959b"
      },
      "execution_count": 8,
      "outputs": [
        {
          "output_type": "stream",
          "name": "stdout",
          "text": [
            "     Hello\n"
          ]
        }
      ]
    },
    {
      "cell_type": "markdown",
      "source": [
        "ljust(): This method returns a new string that is left-justified within a specified minimum width by padding the string with spaces on the right. For example:\n"
      ],
      "metadata": {
        "id": "Mlbcz7jTazyr"
      }
    },
    {
      "cell_type": "code",
      "source": [
        "string = \"Hello\"\n",
        "left_justified_string = string.ljust(10)\n",
        "print(left_justified_string)  # Output: \"Hello     \"\n"
      ],
      "metadata": {
        "colab": {
          "base_uri": "https://localhost:8080/"
        },
        "id": "cHgmY_W0av6N",
        "outputId": "74aa2c2b-814e-44f9-affe-0b66ae04b936"
      },
      "execution_count": 9,
      "outputs": [
        {
          "output_type": "stream",
          "name": "stdout",
          "text": [
            "Hello     \n"
          ]
        }
      ]
    },
    {
      "cell_type": "markdown",
      "source": [
        "center(): This method returns a new string that is centered within a specified minimum width by padding the string with spaces on both sides. For example:\n"
      ],
      "metadata": {
        "id": "iCfOOykka74d"
      }
    },
    {
      "cell_type": "code",
      "source": [
        "string = \"Hello\"\n",
        "centered_string = string.center(10)\n",
        "print(centered_string)  # Output: \"   Hello   \"\n"
      ],
      "metadata": {
        "colab": {
          "base_uri": "https://localhost:8080/"
        },
        "id": "Dcbp1A1sa3qC",
        "outputId": "da8a7f7c-c33a-46b5-b0c6-77d2eae2f7ef"
      },
      "execution_count": 10,
      "outputs": [
        {
          "output_type": "stream",
          "name": "stdout",
          "text": [
            "  Hello   \n"
          ]
        }
      ]
    },
    {
      "cell_type": "markdown",
      "source": [
        "#10. What is the best way to remove whitespace characters from the start or end?"
      ],
      "metadata": {
        "id": "yDx5o0pabLzz"
      }
    },
    {
      "cell_type": "markdown",
      "source": [
        "In Python, you can use the strip() method to remove whitespace characters from the start and end of a string. The strip() method returns a new string with all leading and trailing whitespace characters removed.\n",
        "\n",
        "Here's an example of how you might use the strip() method to remove whitespace characters from the start and end of a string:"
      ],
      "metadata": {
        "id": "FX5RFfQ4bclR"
      }
    },
    {
      "cell_type": "code",
      "source": [
        "string = \"   Hello, world!   \"\n",
        "stripped_string = string.strip()\n",
        "print(stripped_string)  # Output: \"Hello, world!\"\n"
      ],
      "metadata": {
        "colab": {
          "base_uri": "https://localhost:8080/"
        },
        "id": "RM1JrJiya_pq",
        "outputId": "56071912-9760-4ed0-8d12-f0dbbf421a3d"
      },
      "execution_count": 11,
      "outputs": [
        {
          "output_type": "stream",
          "name": "stdout",
          "text": [
            "Hello, world!\n"
          ]
        }
      ]
    },
    {
      "cell_type": "markdown",
      "source": [
        "The strip() method removes any leading or trailing spaces, tabs, newlines, and other whitespace characters from the string.\n",
        "\n",
        "If you only want to remove leading or trailing whitespace characters, you can use the lstrip() or rstrip() methods, respectively. The lstrip() method removes leading whitespace characters, and the rstrip() method removes trailing whitespace characters.\n",
        "\n",
        "Here's an example of how you might use the lstrip() and rstrip() methods to remove leading and trailing whitespace characters from a string:"
      ],
      "metadata": {
        "id": "vaJN_SMYbkcM"
      }
    },
    {
      "cell_type": "code",
      "source": [
        "string = \"   Hello, world!   \"\n",
        "stripped_string = string.lstrip().rstrip()\n",
        "print(stripped_string)  # Output: \"Hello, world!\"\n"
      ],
      "metadata": {
        "colab": {
          "base_uri": "https://localhost:8080/"
        },
        "id": "QSOJK3AWbgRg",
        "outputId": "ebc241ca-507d-4064-ed5d-a3aaadd3c700"
      },
      "execution_count": 12,
      "outputs": [
        {
          "output_type": "stream",
          "name": "stdout",
          "text": [
            "Hello, world!\n"
          ]
        }
      ]
    },
    {
      "cell_type": "code",
      "source": [],
      "metadata": {
        "id": "GxOKEnNvbnwC"
      },
      "execution_count": null,
      "outputs": []
    }
  ]
}