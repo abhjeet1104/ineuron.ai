{
  "nbformat": 4,
  "nbformat_minor": 0,
  "metadata": {
    "colab": {
      "provenance": []
    },
    "kernelspec": {
      "name": "python3",
      "display_name": "Python 3"
    },
    "language_info": {
      "name": "python"
    }
  },
  "cells": [
    {
      "cell_type": "markdown",
      "source": [
        "#1.What are the two values of the Boolean data type? How do you write them?\n",
        "\n"
      ],
      "metadata": {
        "id": "Zdp61mG4H-oQ"
      }
    },
    {
      "cell_type": "markdown",
      "source": [
        "The Boolean data type has two possible values: true and false. These values are written in all lowercase and without quotation marks, like this:\n",
        "\n",
        "true\n",
        "false\n",
        "\n",
        "In most programming languages, the Boolean data type is used to represent a logical value. It is often used in control statements (such as if statements) to determine the flow of a program based on whether a condition is true or false.\n",
        "\n",
        "For example, consider the following code snippet in Python:\n",
        "\n"
      ],
      "metadata": {
        "id": "ZnPC3d6SIXGp"
      }
    },
    {
      "cell_type": "code",
      "source": [
        "x = 10\n",
        "if x > 5:\n",
        "    print(\"x is greater than 5\")\n",
        "else:\n",
        "    print(\"x is not greater than 5\")\n"
      ],
      "metadata": {
        "colab": {
          "base_uri": "https://localhost:8080/"
        },
        "id": "InBceTx1IEu4",
        "outputId": "900809a4-e0b5-4e3f-a244-9327cf4dfa23"
      },
      "execution_count": 1,
      "outputs": [
        {
          "output_type": "stream",
          "name": "stdout",
          "text": [
            "x is greater than 5\n"
          ]
        }
      ]
    },
    {
      "cell_type": "markdown",
      "source": [
        "In this example, the value of the variable x is 10, which is greater than 5. Therefore, the condition x > 5 evaluates to true, and the statement print(\"x is greater than 5\") is executed. If the value of x were 5 or less, the condition would evaluate to false and the statement print(\"x is not greater than 5\") would be executed instead."
      ],
      "metadata": {
        "id": "egBAA8nGIgRA"
      }
    },
    {
      "cell_type": "markdown",
      "source": [
        "#2. What are the three different types of Boolean operators?"
      ],
      "metadata": {
        "id": "-m9mzD8VIwn-"
      }
    },
    {
      "cell_type": "markdown",
      "source": [
        "There are three Boolean operators that are commonly used in programming:\n",
        "\n",
        "\n",
        "AND (&&): The AND operator returns true if both operands are true, and false if either operand is false.\n",
        "\n",
        "\n",
        "\n",
        "OR (||): The OR operator returns true if either operand is true, and false if both operands are false.\n",
        "\n",
        "\n",
        "\n",
        "NOT (): The NOT operator negates the value of a single operand. If the operand is true, the NOT operator returns false. If the operand is false, the NOT operator returns true.\n",
        "\n",
        "\n",
        "\n",
        "Here are some examples of how these operators can be used in Python:"
      ],
      "metadata": {
        "id": "wubea9DjJLWV"
      }
    },
    {
      "cell_type": "code",
      "source": [
        "x = True\n",
        "y = False\n",
        "\n",
        "# AND operator\n",
        "print(x and y)  # Output: False\n",
        "print(x and x)  # Output: True\n",
        "print(y and y)  # Output: False\n",
        "\n",
        "# OR operator\n",
        "print(x or y)   # Output: True\n",
        "print(x or x)   # Output: True\n",
        "print(y or y)   # Output: False\n",
        "\n",
        "# NOT operator\n",
        "print(not x)    # Output: False\n",
        "print(not y)    # Output: True\n"
      ],
      "metadata": {
        "colab": {
          "base_uri": "https://localhost:8080/"
        },
        "id": "usIT9zkcIT24",
        "outputId": "0905c000-46c5-4243-ff8c-3f2178ea6dba"
      },
      "execution_count": 2,
      "outputs": [
        {
          "output_type": "stream",
          "name": "stdout",
          "text": [
            "False\n",
            "True\n",
            "False\n",
            "True\n",
            "True\n",
            "False\n",
            "False\n",
            "True\n"
          ]
        }
      ]
    },
    {
      "cell_type": "markdown",
      "source": [
        "Boolean operators are often used in control statements (such as if statements) to test multiple conditions at once. For example, the following code checks if the variable x is greater than 5 and the variable y is less than 10:"
      ],
      "metadata": {
        "id": "kua3e0jbJZro"
      }
    },
    {
      "cell_type": "code",
      "source": [
        "if x > 5 and y < 10:\n",
        "    print(\"x is greater than 5 and y is less than 10\")\n"
      ],
      "metadata": {
        "id": "qzdGvPeHJe8r"
      },
      "execution_count": 3,
      "outputs": []
    },
    {
      "cell_type": "markdown",
      "source": [
        "Boolean operators can also be used to combine multiple conditions using parentheses, just like mathematical expressions. For example:"
      ],
      "metadata": {
        "id": "427fGHF8JmdJ"
      }
    },
    {
      "cell_type": "code",
      "source": [
        "if (x > 5 and y < 10) or z == 0:\n",
        "    print(\"x is greater than 5 and y is less than 10, or z is equal to 0\")\n"
      ],
      "metadata": {
        "id": "R4zJRRZlJhz0"
      },
      "execution_count": null,
      "outputs": []
    },
    {
      "cell_type": "markdown",
      "source": [
        "#3. Make a list of each Boolean operator's truth tables (i.e. every possible combination of Boolean values for the operator and what it evaluate )."
      ],
      "metadata": {
        "id": "L0ZUIgbqJ_ll"
      }
    },
    {
      "cell_type": "markdown",
      "source": [
        "Here are the truth tables for each Boolean operator:\n",
        "\n",
        "AND (&&) operator:"
      ],
      "metadata": {
        "id": "fZIcL7qTKaU7"
      }
    },
    {
      "cell_type": "markdown",
      "source": [
        "![Screenshot 2022-12-22 102057.jpg](data:image/jpeg;base64,/9j/4AAQSkZJRgABAQEAeAB4AAD/2wBDAAMCAgMCAgMDAwMEAwMEBQgFBQQEBQoHBwYIDAoMDAsKCwsNDhIQDQ4RDgsLEBYQERMUFRUVDA8XGBYUGBIUFRT/2wBDAQMEBAUEBQkFBQkUDQsNFBQUFBQUFBQUFBQUFBQUFBQUFBQUFBQUFBQUFBQUFBQUFBQUFBQUFBQUFBQUFBQUFBT/wAARCADyA2QDASIAAhEBAxEB/8QAHwAAAQUBAQEBAQEAAAAAAAAAAAECAwQFBgcICQoL/8QAtRAAAgEDAwIEAwUFBAQAAAF9AQIDAAQRBRIhMUEGE1FhByJxFDKBkaEII0KxwRVS0fAkM2JyggkKFhcYGRolJicoKSo0NTY3ODk6Q0RFRkdISUpTVFVWV1hZWmNkZWZnaGlqc3R1dnd4eXqDhIWGh4iJipKTlJWWl5iZmqKjpKWmp6ipqrKztLW2t7i5usLDxMXGx8jJytLT1NXW19jZ2uHi4+Tl5ufo6erx8vP09fb3+Pn6/8QAHwEAAwEBAQEBAQEBAQAAAAAAAAECAwQFBgcICQoL/8QAtREAAgECBAQDBAcFBAQAAQJ3AAECAxEEBSExBhJBUQdhcRMiMoEIFEKRobHBCSMzUvAVYnLRChYkNOEl8RcYGRomJygpKjU2Nzg5OkNERUZHSElKU1RVVldYWVpjZGVmZ2hpanN0dXZ3eHl6goOEhYaHiImKkpOUlZaXmJmaoqOkpaanqKmqsrO0tba3uLm6wsPExcbHyMnK0tPU1dbX2Nna4uPk5ebn6Onq8vP09fb3+Pn6/9oADAMBAAIRAxEAPwD5nooor0zIKKKKACiiigAooooAKKKKACiiigAooooAKKKKACiiigAooooAKKKKACiiigAooooAKKKKACiiigAooooAKKKKACiiigAooooAKKKKACiiigAooooAKKKKACiiigAooooAKKKKACiiigAooooAKKKKACiiigAooooAKKKKACiiigAooooAKKKKACiiigAooooAKKKKACiiigAooooAKKKKACiiigAooooAKKKKACiiigAooooAKKKKACiiigAooooAKKKKACiiigAooooAKKMHGccUUAFFFFABRRRQAUUUUAFeo/DPS7TRfC8/iie0gvb+e8aw08XMYkjt2jSOSWbYeGcCWILuBAyxxkAjy6vXfC//ACR/R/8AsO6l/wCk9hSYHQ/8LO8YDhfFWtRr2WO/lVR7ABsAfSj/AIWf4y/6G3XP/BlN/wDFVzNFSB03/Cz/ABl/0Nuuf+DKb/4qj/hZ/jL/AKG3XP8AwZTf/FVzNFAHTf8ACz/GX/Q265/4Mpv/AIqj/hZ/jL/obdc/8GU3/wAVXM0UAdN/ws/xl/0Nuuf+DKb/AOKo/wCFn+Mv+ht1z/wZTf8AxVczRQB03/Cz/GX/AENuuf8Agym/+Ko/4Wf4y/6G3XP/AAZTf/FVzNFAHTf8LP8AGX/Q265/4Mpv/iqP+Fn+Mv8Aobdc/wDBlN/8VXM0UAdN/wALP8Zf9Dbrn/gym/8AiqP+Fn+Mv+ht1z/wZTf/ABVczRQB03/Cz/GX/Q265/4Mpv8A4qj/AIWf4y/6G3XP/BlN/wDFVzNFAHTf8LP8Zf8AQ265/wCDKb/4qj/hZ/jL/obdc/8ABlN/8VXM0UAdN/ws/wAZf9Dbrn/gym/+Ko/4Wf4y/wCht1z/AMGU3/xVczRQB03/AAs/xl/0Nuuf+DKb/wCKo/4Wf4y/6G3XP/BlN/8AFVzNFAHTf8LP8Zf9Dbrn/gym/wDiqP8AhZ/jL/obdc/8GU3/AMVXM0UAej+J/iN4rt9E8IyReJ9ZjefS5JJWTUJQZG+23S7mO7k7VUZPZQO1c9/ws/xl/wBDbrn/AIMpv/iqPFv/ACAPBX/YIk/9L7uuZoA6b/hZ/jL/AKG3XP8AwZTf/FUf8LP8Zf8AQ265/wCDKb/4quZooA6b/hZ/jL/obdc/8GU3/wAVR/ws/wAZf9Dbrn/gym/+KrmaKAOm/wCFn+Mv+ht1z/wZTf8AxVH/AAs/xl/0Nuuf+DKb/wCKrmaKAOm/4Wf4y/6G3XP/AAZTf/FUf8LP8Zf9Dbrn/gym/wDiq5migDpv+Fn+Mv8Aobdc/wDBlN/8VR/ws/xl/wBDbrn/AIMpv/iq5migDpv+Fn+Mv+ht1z/wZTf/ABVH/Cz/ABl/0Nuuf+DKb/4quZooA6b/AIWf4y/6G3XP/BlN/wDFUf8ACz/GX/Q265/4Mpv/AIquZooA6b/hZ/jL/obdc/8ABlN/8VR/ws/xl/0Nuuf+DKb/AOKrmaKAOm/4Wf4y/wCht1z/AMGU3/xVH/Cz/GX/AENuuf8Agym/+KrmaKAOm/4Wf4y/6G3XP/BlN/8AFUf8LP8AGX/Q265/4Mpv/iq5migDpv8AhZ/jL/obdc/8GU3/AMVR/wALP8Zf9Dbrn/gym/8Aiq5migDpv+Fn+Mv+ht1z/wAGU3/xVdB44+IXiqw1q2itfEusW0baZp8pSG/lUF3soXdsBurMzMT3JJPJrzmum+If/Iftf+wRpf8A6QW9AB/ws/xl/wBDbrn/AIMpv/iqP+Fn+Mv+ht1z/wAGU3/xVczRQB03/Cz/ABl/0Nuuf+DKb/4qj/hZ/jL/AKG3XP8AwZTf/FVzNbtr4D8S3uhvrVv4d1afR41Zn1CKxla3VR1JkC7QB35o8w8iz/ws/wAZf9Dbrn/gym/+Ko/4Wf4y/wCht1z/AMGU3/xVc/Z2dxqN1Da2kEl1czMEjhhQu7seAFUckn0FaPiDwhr3hKSGPXNE1HRZJgWjXULSSAuB1KhwM/hQBf8A+Fn+Mv8Aobdc/wDBlN/8VR/ws/xl/wBDbrn/AIMpv/iq5migDpv+Fn+Mv+ht1z/wZTf/ABVH/Cz/ABl/0Nuuf+DKb/4quZooA6b/AIWf4y/6G3XP/BlN/wDFUf8ACz/GX/Q265/4Mpv/AIquZooA6b/hZ/jL/obdc/8ABlN/8VR/ws/xl/0Nuuf+DKb/AOKrmaKAOm/4Wf4y/wCht1z/AMGU3/xVH/Cz/GX/AENuuf8Agym/+KrmaKAOm/4Wf4y/6G3XP/BlN/8AFUf8LP8AGX/Q265/4Mpv/iq5migDpv8AhZ/jL/obdc/8GU3/AMVR/wALP8Zf9Dbrn/gym/8Aiq5migDpv+Fn+Mv+ht1z/wAGU3/xVH/Cz/GX/Q265/4Mpv8A4quZooA6b/hZ/jL/AKG3XP8AwZTf/FUf8LP8Zf8AQ265/wCDKb/4quZooA6b/hZ/jL/obdc/8GU3/wAVR/ws/wAZf9Dbrn/gym/+KrmaKAOm/wCFn+Mv+ht1z/wZTf8AxVH/AAs/xl/0Nuuf+DKb/wCKrmaKAOm/4Wf4y/6G3XP/AAZTf/FUf8LP8Zf9Dbrn/gym/wDiq5migDpv+Fn+Mv8Aobdc/wDBlN/8VR/ws/xl/wBDbrn/AIMpv/iq5migDpv+Fn+Mv+ht1z/wZTf/ABVH/Cz/ABl/0Nuuf+DKb/4quZooA6b/AIWf4y/6G3XP/BlN/wDFUf8ACz/GX/Q265/4Mpv/AIquZooA6b/hZ/jL/obdc/8ABlN/8VR/ws/xl/0Nuuf+DKb/AOKrmaKAOm/4Wf4y/wCht1z/AMGU3/xVH/Cz/GX/AENuuf8Agym/+KrmaKAOm/4Wf4y/6G3XP/BlN/8AFUf8LP8AGX/Q265/4Mpv/iq5migDpv8AhZ/jL/obdc/8GU3/AMVR/wALP8Zf9Dbrn/gym/8Aiq5migDpv+Fn+Mv+ht1z/wAGU3/xVH/Cz/GX/Q265/4Mpv8A4quZooA6b/hZ/jL/AKG3XP8AwZTf/FUf8LP8Zf8AQ265/wCDKb/4quZooA6b/hZ/jL/obdc/8GU3/wAVR/ws/wAZf9Dbrn/gym/+KrmaKAOkf4j+JrpfLvtavNWtm4e01SZrqCQdw0chKn8q8z+KGiadpOv29zpKLBp+p2q3sdorFvszFnR4sk5wHjfbnnaV69T1FZ3xk/49fAv/AGAn/wDTje00B5xRRRVAFFFFABRRRQAV674X/wCSP6P/ANh3Uv8A0nsK8ir13wv/AMkf0f8A7Dupf+k9hSYEVepfBn4Y6L8WrPxBoq3d3a+NY7c3Wjxeagtbvby8TArkPjoQwHOcfKc+W16J8Mvi7/wqvQvEA0nSv+Kn1OIW0GutcYNlDkFhHHs+8397d2XjjlaWdxa3Vu5H8aPB3hv4feKI/DuhX91ql5YQrHqt3M6GE3eBvSFVUEKpyOSxzx258/ru/jB8SrT4reIoNeXQl0XVZLdI9QeK48yO7lUAeaF2LsJHUZboOfXhKzjzW97f+vw7FSt0CiiirEFFFFABRRRQAUUUUAFFFFABRRRQAUUUUAFFFFABRRRQAUUUUAdN4t/5AHgr/sESf+l93XM103i3/kAeCv8AsESf+l93XM0Aeq6X8J9M8UfA6TxVok19P4msNVjsdQsHdGi8uU7YnjULuBLMg5YjIas/46+AdE+GPjSPw3pF3dXtzaWcJ1KS5dWUXTLuZYwqjCgFeuTz1r1j9ky21L4f6X4h8ca9Fb23gCSxYvLcSp/pFzDKDEiJndvDBgMjnPfivnXxN4gu/FniLUtZvm33l/cSXMpySNzMSQM9hnA9hUSvz2W2/wCFrfm/uHH4W36frf5bGZRRRViCiiigAooooAKKKKACiiigAooooAKKKKACiiigAooooAKKKKACum+If/Iftf8AsEaX/wCkFvXM103xD/5D9r/2CNL/APSC3oA5mvfPhZ8A/Dfxb8H6Xq2m6xdafc6feGPxRDdzRlbe22s4nh+QEAhCMNu5J7Kc+B17R4D/AGkpvhn4d8OaR4d0FLWK0vGvNYklut7auWUoUb5B5aBSQB82CFPODkfwu2/T/g+XcXVdtfy/PseZeIrPSrnxZd2nhVL640t7jybAXhV7iUZ2qTtVRljyABxkDmvuSyW98I+ELG/hmudU8YeEfDCafe+CNLv1eEFlws0qDqQvzMFBPTGcDPxBqnia3XxxJ4g8P6f/AGHEl4t7aWTSicWzBg4UNtXKhhxx0wOete0f8NWaTb+K5vGdp8O4LfxxND5cmqf2zP8AZ3bYE3NbgAEYA+Ut2HORms2nKkoP599rfq7/AIF3tUbW3/Bv69Fb8S/8E/hVr3wj+PFrLqp0ya00fTTqGrXqzssWnwTRuoLM6jEo67QDnnnqR1/xk+Hes+LPCOheEtE1CXWtBsra68THxlrt2ZIriPvEjoHIwJOjYzjNeZv+0/ZyeNPFGrSeDVn0jxTZpbazpE+qOwmdQQHjlEYaPg424PsRxiza/tR6Lpvgq/8ABWneAGsfCN7byxyWa69PJcLI5HzpM6EKvB+TZgk5PcHOopzir7pfjdv8Ha3frboQ5Yy8v+AtfzX5efC/AT4e6F8UvGc/hvWby7sLq6s5m02W2dFVrlRuVXDKcqQGPBB4681Nqvwr0/wx8E4vFOtSXkHiPUNWksdPsVdBF5UR2zPIpXcSHVl4Yc4rP+B/hXxP4o+JGlv4St1l1LTZo79nklVFhjSRAXYkjKjcMgckE8V2H7XHxEsvG3xOaw0iSKTRNFRraFrcgxPM7F53XHq5xnvszWtS6cUuv5J3v8/hFDeV9l+ulv1PEKKKKsQUUUUAFFFFABRRRQAUUUUAFFFFABRRRQAUUUUAFFFFABRRRQAUUUUAFFFFABRRRQAUUUUAFFFFABRRRQAUUUUAFFFFABRRRQAUUUUAFFFFABWd8ZP+PXwL/wBgJ/8A043taNZ3xk/49fAv/YCf/wBON7TQHnFFFFUAUUUUAFFFFABXrvhf/kj+j/8AYd1L/wBJ7CvIq9V0PxknhH4P6Jv0LTda+0a7qeP7Ra4Hlbbew+75M0fXdzuz0GMc5TAfRWd/wuSH/oRfDX/fzUf/AJLo/wCFyQ/9CL4a/wC/mo//ACXSsBo0Vnf8Lkh/6EXw1/381H/5Lo/4XJD/ANCL4a/7+aj/APJdFgNGis7/AIXJD/0Ivhr/AL+aj/8AJdH/AAuSH/oRfDX/AH81H/5LosBo0Vnf8Lkh/wChF8Nf9/NR/wDkuj/hckP/AEIvhr/v5qP/AMl0WA0aKzv+FyQ/9CL4a/7+aj/8l0f8Lkh/6EXw1/381H/5LosBo0Vnf8Lkh/6EXw1/381H/wCS6P8AhckP/Qi+Gv8Av5qP/wAl0WA0aKzv+FyQ/wDQi+Gv+/mo/wDyXR/wuSH/AKEXw1/381H/AOS6LAaNFZ3/AAuSH/oRfDX/AH81H/5Lo/4XJD/0Ivhr/v5qP/yXRYDRorO/4XJD/wBCL4a/7+aj/wDJdH/C5If+hF8Nf9/NR/8AkuiwGjRWd/wuSH/oRfDX/fzUf/kuj/hckP8A0Ivhr/v5qP8A8l0WA0aKzv8AhckP/Qi+Gv8Av5qP/wAl0f8AC5If+hF8Nf8AfzUf/kuiwGjRWd/wuSH/AKEXw1/381H/AOS6P+FyQ/8AQi+Gv+/mo/8AyXRYDt/Fv/IA8Ff9giT/ANL7uuZrX8YfFiK18P8AgeU+DPD832nR5JQkkl/iLGoXibVxdA4+Td8xJyx5xgDl/wDhckP/AEIvhr/v5qP/AMl0AaNFZ3/C5If+hF8Nf9/NR/8Akuj/AIXJD/0Ivhr/AL+aj/8AJdFgNGis7/hckP8A0Ivhr/v5qP8A8l0f8Lkh/wChF8Nf9/NR/wDkuiwGjRWd/wALkh/6EXw1/wB/NR/+S6P+FyQ/9CL4a/7+aj/8l0WA0aKzv+FyQ/8AQi+Gv+/mo/8AyXR/wuSH/oRfDX/fzUf/AJLosBo0Vnf8Lkh/6EXw1/381H/5Lo/4XJD/ANCL4a/7+aj/APJdFgNGis7/AIXJD/0Ivhr/AL+aj/8AJdH/AAuSH/oRfDX/AH81H/5LosBo0Vnf8Lkh/wChF8Nf9/NR/wDkuj/hckP/AEIvhr/v5qP/AMl0WA0aKzv+FyQ/9CL4a/7+aj/8l0f8Lkh/6EXw1/381H/5LosBo0Vnf8Lkh/6EXw1/381H/wCS6P8AhckP/Qi+Gv8Av5qP/wAl0WA0aKzv+FyQ/wDQi+Gv+/mo/wDyXR/wuSH/AKEXw1/381H/AOS6LAaNFZ3/AAuSH/oRfDX/AH81H/5Lo/4XJD/0Ivhr/v5qP/yXRYDRrpviH/yH7X/sEaX/AOkFvXEf8Lkh/wChF8Nf9/NR/wDkuun+InxWi0/xBaRN4O0C7LaRpc3mTvfBgHsLdwg23Kjau7aOM4UbixyxVgMmis7/AIXJD/0Ivhr/AL+aj/8AJdH/AAuSH/oRfDX/AH81H/5Lp2A0aKzv+FyQ/wDQi+Gv+/mo/wDyXR/wuSH/AKEXw1/381H/AOS6LAaNFZ3/AAuSH/oRfDX/AH81H/5Lo/4XJD/0Ivhr/v5qP/yXRYDRorO/4XJD/wBCL4a/7+aj/wDJdH/C5If+hF8Nf9/NR/8AkuiwGjRWd/wuSH/oRfDX/fzUf/kuj/hckP8A0Ivhr/v5qP8A8l0WA0aKzv8AhckP/Qi+Gv8Av5qP/wAl0f8AC5If+hF8Nf8AfzUf/kuiwGjRWd/wuSH/AKEXw1/381H/AOS6P+FyQ/8AQi+Gv+/mo/8AyXRYDRorO/4XJD/0Ivhr/v5qP/yXR/wuSH/oRfDX/fzUf/kuiwGjRWd/wuSH/oRfDX/fzUf/AJLo/wCFyQ/9CL4a/wC/mo//ACXRYDRorO/4XJD/ANCL4a/7+aj/APJdH/C5If8AoRfDX/fzUf8A5LosBo0Vnf8AC5If+hF8Nf8AfzUf/kuj/hckP/Qi+Gv+/mo//JdFgNGis7/hckP/AEIvhr/v5qP/AMl0f8Lkh/6EXw1/381H/wCS6LAaNFZ3/C5If+hF8Nf9/NR/+S6P+FyQ/wDQi+Gv+/mo/wDyXRYDRorO/wCFyQ/9CL4a/wC/mo//ACXR/wALkh/6EXw1/wB/NR/+S6LAaNFZ3/C5If8AoRfDX/fzUf8A5Lo/4XJD/wBCL4a/7+aj/wDJdFgNGis7/hckP/Qi+Gv+/mo//JdH/C5If+hF8Nf9/NR/+S6LAaNFZ3/C5If+hF8Nf9/NR/8Akuj/AIXJD/0Ivhr/AL+aj/8AJdFgNGis7/hckP8A0Ivhr/v5qP8A8l0f8Lkh/wChF8Nf9/NR/wDkuiwGjRWd/wALkh/6EXw1/wB/NR/+S6P+FyQ/9CL4a/7+aj/8l0WA0aKzv+FyQ/8AQi+Gv+/mo/8AyXR/wuSH/oRfDX/fzUf/AJLosBo0Vnf8Lkh/6EXw1/381H/5Lo/4XJD/ANCL4a/7+aj/APJdFgNGis7/AIXJD/0Ivhr/AL+aj/8AJdH/AAuSH/oRfDX/AH81H/5LosBo0Vnf8Lkh/wChF8Nf9/NR/wDkuj/hckP/AEIvhr/v5qP/AMl0WA0aKzv+FyQ/9CL4a/7+aj/8l0f8Lkh/6EXw1/381H/5LosBo0Vnf8Lkh/6EXw1/381H/wCS6P8AhckP/Qi+Gv8Av5qP/wAl0WA0azvjJ/x6+Bf+wE//AKcb2j/hckP/AEIvhr/v5qP/AMl1D8WtYGvWPgXUBZW+nLPoTkWloZDFFjUb1cL5jO/O3cdzHljjAwAAefUUUVQBRRRQAUUUUAFdjqn/ACR/wz/2HdW/9J9Orjq7HVP+SP8Ahn/sO6t/6T6dSA46iivSvgPqzSfELw5oNxYaTfaZf6lGlxHf6Va3LsrEAqJJI2dRgdFYdz3q4x5morqRKXLFyfQ81orrPiVrs+p+KNRs3tdNtbexvJ4oE0/Tba0wocgBjDGpfAUfezjn1NcnWMJe0iprqaSXK7BRRRWggooooAKKKKACiiigAooooAKKKKACiiigAooooAKKKKACiiigDsfHX/Ir/Dv/ALAUv/pzvq46ux8df8iv8O/+wFL/AOnO+rjqQBRXr/7OeqDVPHuk+Hb/AEzRtQ0p4rt2jvNHtJpGKwSyLmV4jIcMoON3bHTivM9e8QXXiO6S4u4rGJ0TYBYWEFmmMk8rCiKTz1Iz+VN6NLyv+a/QDMooooAKKKKACiiigAooooAKKKKACiiigAooooAKKKKACiiigAooooAK7H4rf8jRY/8AYC0X/wBNlrXHV2PxW/5Gix/7AWi/+my1pAcdRRXsvwb199U0nxhBeaXoN2mkeGri8s2n0KyeRJkaMK7OYdzkBj98nOec0+jfZN/cri6pHjVFXdY1afXNQkvLiO1jmkABWztIraPgY4jiVVHTsOetUqQwooopgFFFFABRRRQAUUUUAFFFFABRRRQAUUUUAFFFFABRRRQAUUUUAFFFFABRRRQAUUUUAFFFFABRRRQAUUUUAFFFFABRRRQAUUUUAFFFFABRRRQAUUUUAFFFFABXY+Ov+RX+Hf8A2Apf/TnfVx1dj46/5Ff4d/8AYCl/9Od9SA46iiimAUUUUAFFFFABXY6p/wAkf8M/9h3Vv/SfTq46ux1T/kj/AIZ/7Durf+k+nUgOOrrfhLrtj4Z+JnhnVtTn+zafZ38U082xn2IGyThQSfwFclRVxk4tSXQmUVKLi+pqeKr2HUvFGsXds/mW9xeTSxvgjcrOSDg8jg96y6KKyhFQioLoXJ8zbCiiirEFFFFABRRRQAUUUUAFFFFABRRRQAUUUUAFFFFABRRRQAUUUUAdj46/5Ff4d/8AYCl/9Od9XHV2Pjr/AJFf4d/9gKX/ANOd9XHUgO9+BnijTPB3xM0zVtYufsenww3KvN5bPgvbyIvCgnlmA6d64Kiim9Wn5W/Fv9QCiiigAooooAKKKKACiiigAooooAKKKKACiiigAooooAKKKKACiiigArsfit/yNFj/ANgLRf8A02WtcdXY/Fb/AJGix/7AWi/+my1pAcdXe/CnxRpnhu18bpqVz9mbUvDtzYWo8tm8yd3jKp8oOMhTycDjrXBUU+jXdNferB1TCiiigAooooAKKKKACiiigAooooAKKKKACiiigAooooAKKKKACiiigAooooAKKKKACiiigAooooAKKKKACiiigAooooAKKKKACiiigAooooAKKKKACiiigAooooAKKKKACux8df8AIr/Dv/sBS/8Apzvq46ux8df8iv8ADv8A7AUv/pzvqQHHUUUUwCiiigAooooAK9Ksrrw/bfB/QP7d0zUtR3a7qnk/2dqMdps/0fT927fBLuz8uMbcYPXPHmtdjqn/ACR/wz/2HdW/9J9OpAH9qfD/AP6FjxL/AOFHb/8AyBR/anw//wChY8S/+FHb/wDyBXHUUAdj/anw/wD+hY8S/wDhR2//AMgUf2p8P/8AoWPEv/hR2/8A8gVx1FAHY/2p8P8A/oWPEv8A4Udv/wDIFH9qfD//AKFjxL/4Udv/APIFcdRQB2P9qfD/AP6FjxL/AOFHb/8AyBR/anw//wChY8S/+FHb/wDyBXHUUAdj/anw/wD+hY8S/wDhR2//AMgUf2p8P/8AoWPEv/hR2/8A8gVx1FAHY/2p8P8A/oWPEv8A4Udv/wDIFH9qfD//AKFjxL/4Udv/APIFcdRQB2P9qfD/AP6FjxL/AOFHb/8AyBR/anw//wChY8S/+FHb/wDyBXHUUAdj/anw/wD+hY8S/wDhR2//AMgUf2p8P/8AoWPEv/hR2/8A8gVx1FAHY/2p8P8A/oWPEv8A4Udv/wDIFH9qfD//AKFjxL/4Udv/APIFcdRQB2P9qfD/AP6FjxL/AOFHb/8AyBR/anw//wChY8S/+FHb/wDyBXHUUAdj/anw/wD+hY8S/wDhR2//AMgUf2p8P/8AoWPEv/hR2/8A8gVx1FAHY/2p8P8A/oWPEv8A4Udv/wDIFH9qfD//AKFjxL/4Udv/APIFcdRQB654y1LwOvhzwIZvDviCSNtFkMCx69ApRP7RvQQxNkdx3BzkBeCBjILHlP7U+H//AELHiX/wo7f/AOQKPHX/ACK/w7/7AUv/AKc76uOoA7H+1Ph//wBCx4l/8KO3/wDkCj+1Ph//ANCx4l/8KO3/APkCuOooA7H+1Ph//wBCx4l/8KO3/wDkCj+1Ph//ANCx4l/8KO3/APkCuOooA7H+1Ph//wBCx4l/8KO3/wDkCj+1Ph//ANCx4l/8KO3/APkCuOooA7H+1Ph//wBCx4l/8KO3/wDkCj+1Ph//ANCx4l/8KO3/APkCuOooA7H+1Ph//wBCx4l/8KO3/wDkCj+1Ph//ANCx4l/8KO3/APkCuOooA7H+1Ph//wBCx4l/8KO3/wDkCj+1Ph//ANCx4l/8KO3/APkCuOooA7H+1Ph//wBCx4l/8KO3/wDkCj+1Ph//ANCx4l/8KO3/APkCuOooA7H+1Ph//wBCx4l/8KO3/wDkCj+1Ph//ANCx4l/8KO3/APkCuOooA7H+1Ph//wBCx4l/8KO3/wDkCj+1Ph//ANCx4l/8KO3/APkCuOooA7H+1Ph//wBCx4l/8KO3/wDkCj+1Ph//ANCx4l/8KO3/APkCuOooA7H+1Ph//wBCx4l/8KO3/wDkCj+1Ph//ANCx4l/8KO3/APkCuOooA7H+1Ph//wBCx4l/8KO3/wDkCur+JmpeB08R2YufDviCaT+xdJIaHXoIwEOnW5QYNk3IXaCc8kEgKDtHkddj8Vv+Rosf+wFov/pstaAD+1Ph/wD9Cx4l/wDCjt//AJAo/tT4f/8AQseJf/Cjt/8A5ArjqKAOx/tT4f8A/QseJf8Awo7f/wCQKP7U+H//AELHiX/wo7f/AOQK46igDsf7U+H/AP0LHiX/AMKO3/8AkCj+1Ph//wBCx4l/8KO3/wDkCuOooA7H+1Ph/wD9Cx4l/wDCjt//AJAo/tT4f/8AQseJf/Cjt/8A5ArjqKAOx/tT4f8A/QseJf8Awo7f/wCQKP7U+H//AELHiX/wo7f/AOQK46igDsf7U+H/AP0LHiX/AMKO3/8AkCj+1Ph//wBCx4l/8KO3/wDkCuOooA7H+1Ph/wD9Cx4l/wDCjt//AJAo/tT4f/8AQseJf/Cjt/8A5ArjqKAOx/tT4f8A/QseJf8Awo7f/wCQKP7U+H//AELHiX/wo7f/AOQK46igDsf7U+H/AP0LHiX/AMKO3/8AkCj+1Ph//wBCx4l/8KO3/wDkCuOooA7H+1Ph/wD9Cx4l/wDCjt//AJAo/tT4f/8AQseJf/Cjt/8A5ArjqKAOx/tT4f8A/QseJf8Awo7f/wCQKP7U+H//AELHiX/wo7f/AOQK46igDsf7U+H/AP0LHiX/AMKO3/8AkCj+1Ph//wBCx4l/8KO3/wDkCuOooA7H+1Ph/wD9Cx4l/wDCjt//AJAo/tT4f/8AQseJf/Cjt/8A5ArjqKAOx/tT4f8A/QseJf8Awo7f/wCQKP7U+H//AELHiX/wo7f/AOQK46igDsf7U+H/AP0LHiX/AMKO3/8AkCj+1Ph//wBCx4l/8KO3/wDkCuOooA7H+1Ph/wD9Cx4l/wDCjt//AJAo/tT4f/8AQseJf/Cjt/8A5ArjqKAOx/tT4f8A/QseJf8Awo7f/wCQKP7U+H//AELHiX/wo7f/AOQK46igDsf7U+H/AP0LHiX/AMKO3/8AkCj+1Ph//wBCx4l/8KO3/wDkCuOooA7H+1Ph/wD9Cx4l/wDCjt//AJAo/tT4f/8AQseJf/Cjt/8A5ArjqKAOx/tT4f8A/QseJf8Awo7f/wCQKP7U+H//AELHiX/wo7f/AOQK46igDsf7U+H/AP0LHiX/AMKO3/8AkCj+1Ph//wBCx4l/8KO3/wDkCuOooA7H+1Ph/wD9Cx4l/wDCjt//AJAo/tT4f/8AQseJf/Cjt/8A5ArjqKAOx/tT4f8A/QseJf8Awo7f/wCQKP7U+H//AELHiX/wo7f/AOQK46igDsf7U+H/AP0LHiX/AMKO3/8AkCj+1Ph//wBCx4l/8KO3/wDkCuOooA7H+1Ph/wD9Cx4l/wDCjt//AJAo/tT4f/8AQseJf/Cjt/8A5ArjqKAOx/tT4f8A/QseJf8Awo7f/wCQKufFKXT5tI8AvpVrc2dgdCk8uC8uVuJV/wCJlfZ3SLHGDk5PCjAIHOMngq7Hx1/yK/w7/wCwFL/6c76gDjqKKKYBRRRQAUUUUAFdjqn/ACR/wz/2HdW/9J9Orjq7HVP+SP8Ahn/sO6t/6T6dSA46vQvgtHo2t+NtC8O6x4b0/VoNSv44ZLqea6jnjRiAQnlTIvvypPP4V57Xa/BXULXSviz4TvL25hs7SHUYXluLiQJHGobksx4A9zWtOzmk9jKpdQk1vYp/EK704+IL2w07QLDRIbG6mgDWcty7SqrlRv8AOmk5AH8IXqfbHLVseMZ47rxdrk0MizQyX07pJGwZWUyMQQR1BFY9ctG7pRct7I6J/E0gooorYgKKKKACiiigAooooAKKKKACiiigAooooAKKKKACiiigAooooA7Hx1/yK/w7/wCwFL/6c76uOrsfHX/Ir/Dv/sBS/wDpzvq46kB6h4L0fQ7X4P8AiTxNf6Baa3qVnqdrawC9muEjVJFYtxDLHk5A6mvPNYv4NS1CS4ttNtdJhYDFpZtK0aYGODK7tz15Y9e3SvTvA3jabwp8DfFUema8+j65Nq1o0SWl4YLl4wjhyoVgxXpnHHSvL9V1a+13UJr7Ur241C+mIMlzdStLI+AANzMSTwAOfSl9uXy/9JRNO/Ir+f8A6U/69CpRRRVFBRRRQAUUUUAFFFFABRRRQAUUUUAFFFFABRRRQAUUUUAFFFFABXY/Fb/kaLH/ALAWi/8Apsta46ux+K3/ACNFj/2AtF/9NlrSA46vVotP0Dw58FtA8RTeGNP1rVb/AFS6tZZdQnu1AjRVKgLDPGM8nmvKa9hHxCvfDXwD8NWegeJbjStU/te7e5t9Nv2hn8sqm0uqMG2k5xnilL4X8vzRGvPH5/8ApLPJb64ju7yeaK2iso5HLLbwFykYJ+6pdmbA/wBpifUmoKlurqe+uprm5mkuLiZ2klmlYs7sTksxPJJJySaiplhRRRTAKKKKACiiigAooooAKKKKACiiigAooooAKKKKACiiigAooooAKKKKACiiigAooooAKKKKACiiigAooooAKKKKACiiigAooooAKKKKACiiigAooooAKKKKACux8df8iv8ADv8A7AUv/pzvq46ux8df8iv8O/8AsBS/+nO+pAcdRRRTAKKKKACiiigArsdU/wCSP+Gf+w7q3/pPp1cdXpVla+H7n4P6B/bup6lp23XdU8n+ztOju9/+j6fu3b54tuPlxjdnJ6Y5QHmtFdj/AGX8P/8AoZvEv/hOW/8A8n0f2X8P/wDoZvEv/hOW/wD8n0AcdRXY/wBl/D//AKGbxL/4Tlv/APJ9H9l/D/8A6GbxL/4Tlv8A/J9AHHUV2P8AZfw//wChm8S/+E5b/wDyfR/Zfw//AOhm8S/+E5b/APyfQBx1Fdj/AGX8P/8AoZvEv/hOW/8A8n0f2X8P/wDoZvEv/hOW/wD8n0AcdRXY/wBl/D//AKGbxL/4Tlv/APJ9H9l/D/8A6GbxL/4Tlv8A/J9AHHUV2P8AZfw//wChm8S/+E5b/wDyfR/Zfw//AOhm8S/+E5b/APyfQBx1Fdj/AGX8P/8AoZvEv/hOW/8A8n0f2X8P/wDoZvEv/hOW/wD8n0AcdRXY/wBl/D//AKGbxL/4Tlv/APJ9H9l/D/8A6GbxL/4Tlv8A/J9AHHUV2P8AZfw//wChm8S/+E5b/wDyfR/Zfw//AOhm8S/+E5b/APyfQBx1Fdj/AGX8P/8AoZvEv/hOW/8A8n0f2X8P/wDoZvEv/hOW/wD8n0AcdRXY/wBl/D//AKGbxL/4Tlv/APJ9H9l/D/8A6GbxL/4Tlv8A/J9AHHUV2P8AZfw//wChm8S/+E5b/wDyfR/Zfw//AOhm8S/+E5b/APyfQAeOv+RX+Hf/AGApf/TnfVx1eueMtN8Dt4c8CCbxF4gjjXRZBA0egwMXT+0b0ksDejadxcYBbgA5ySo5T+y/h/8A9DN4l/8ACct//k+gDjqK7H+y/h//ANDN4l/8Jy3/APk+j+y/h/8A9DN4l/8ACct//k+gDjqK7H+y/h//ANDN4l/8Jy3/APk+j+y/h/8A9DN4l/8ACct//k+gDjqK7H+y/h//ANDN4l/8Jy3/APk+j+y/h/8A9DN4l/8ACct//k+gDjqK7H+y/h//ANDN4l/8Jy3/APk+j+y/h/8A9DN4l/8ACct//k+gDjqK7H+y/h//ANDN4l/8Jy3/APk+j+y/h/8A9DN4l/8ACct//k+gDjqK7H+y/h//ANDN4l/8Jy3/APk+j+y/h/8A9DN4l/8ACct//k+gDjqK7H+y/h//ANDN4l/8Jy3/APk+j+y/h/8A9DN4l/8ACct//k+gDjqK7H+y/h//ANDN4l/8Jy3/APk+j+y/h/8A9DN4l/8ACct//k+gDjqK7H+y/h//ANDN4l/8Jy3/APk+j+y/h/8A9DN4l/8ACct//k+gDjqK7H+y/h//ANDN4l/8Jy3/APk+j+y/h/8A9DN4l/8ACct//k+gDjqK7H+y/h//ANDN4l/8Jy3/APk+j+y/h/8A9DN4l/8ACct//k+gDjq7H4rf8jRY/wDYC0X/ANNlrR/Zfw//AOhm8S/+E5b/APyfXV/EzTfA7+I7M3PiLxBDJ/YukgLDoMEgKDTrcIcm9XkrtJGOCSAWA3EA8jorsf7L+H//AEM3iX/wnLf/AOT6P7L+H/8A0M3iX/wnLf8A+T6AOOorsf7L+H//AEM3iX/wnLf/AOT6P7L+H/8A0M3iX/wnLf8A+T6AOOorsf7L+H//AEM3iX/wnLf/AOT6P7L+H/8A0M3iX/wnLf8A+T6AOOorsf7L+H//AEM3iX/wnLf/AOT6P7L+H/8A0M3iX/wnLf8A+T6AOOorsf7L+H//AEM3iX/wnLf/AOT6P7L+H/8A0M3iX/wnLf8A+T6AOOorsf7L+H//AEM3iX/wnLf/AOT6P7L+H/8A0M3iX/wnLf8A+T6AOOorsf7L+H//AEM3iX/wnLf/AOT6P7L+H/8A0M3iX/wnLf8A+T6AOOorsf7L+H//AEM3iX/wnLf/AOT6P7L+H/8A0M3iX/wnLf8A+T6AOOorsf7L+H//AEM3iX/wnLf/AOT6P7L+H/8A0M3iX/wnLf8A+T6AOOorsf7L+H//AEM3iX/wnLf/AOT6P7L+H/8A0M3iX/wnLf8A+T6AOOorsf7L+H//AEM3iX/wnLf/AOT6P7L+H/8A0M3iX/wnLf8A+T6AOOorsf7L+H//AEM3iX/wnLf/AOT6P7L+H/8A0M3iX/wnLf8A+T6AOOorsf7L+H//AEM3iX/wnLf/AOT6P7L+H/8A0M3iX/wnLf8A+T6AOOorsf7L+H//AEM3iX/wnLf/AOT6P7L+H/8A0M3iX/wnLf8A+T6AOOorsf7L+H//AEM3iX/wnLf/AOT6P7L+H/8A0M3iX/wnLf8A+T6AOOorsf7L+H//AEM3iX/wnLf/AOT6P7L+H/8A0M3iX/wnLf8A+T6AOOorsf7L+H//AEM3iX/wnLf/AOT6P7L+H/8A0M3iX/wnLf8A+T6AOOorsf7L+H//AEM3iX/wnLf/AOT6P7L+H/8A0M3iX/wnLf8A+T6AOOorsf7L+H//AEM3iX/wnLf/AOT6P7L+H/8A0M3iX/wnLf8A+T6AOOorsf7L+H//AEM3iX/wnLf/AOT6P7L+H/8A0M3iX/wnLf8A+T6AOOorsf7L+H//AEM3iX/wnLf/AOT6P7L+H/8A0M3iX/wnLf8A+T6AOOorsf7L+H//AEM3iX/wnLf/AOT6P7L+H/8A0M3iX/wnLf8A+T6AOOorsf7L+H//AEM3iX/wnLf/AOT6P7L+H/8A0M3iX/wnLf8A+T6AOOorsf7L+H//AEM3iX/wnLf/AOT6P7L+H/8A0M3iX/wnLf8A+T6AOOorsf7L+H//AEM3iX/wnLf/AOT6P7L+H/8A0M3iX/wnLf8A+T6AOOrsfHX/ACK/w7/7AUv/AKc76j+y/h//ANDN4l/8Jy3/APk+rnxSi0+HSPAKaVdXN5YDQpPLnvLZbeVv+JlfZ3RrJIBg5HDHIAPGcAA4KiiimAUUUUAFFFFABXY6p/yR/wAM/wDYd1b/ANJ9Orjq7HVP+SP+Gf8AsO6t/wCk+nUgOOoorv8A4ceD9D1zwv4y1zW01C4j0K2t5orbT7pLcymSYRkM7xSYAzngdqYbtJddPvOAorS1240i4ukbRrG9sLbZho769S6ctk8hlijAGMcbT0PNZtIAooopgFFFFABRRRQAUUUUAFFFFABRRRQAUUUUAFFFFABRRRQAUUUUAdj46/5Ff4d/9gKX/wBOd9XHV2Pjr/kV/h3/ANgKX/0531cdSAKK9L+DXhXwn4/8Saf4d1Wx1qO9uEuJHvrPU4UjAjieQARNbMeQmM7++fauH1640e4ukbRbC+0+3CYeO/vUunLZPIZYYgBjHGD069qb0dv66/5AZlFFFABRRRQAUUUUAFFFFABRRRQAUUUUAFFFFABRRRQAUUUUAFFFFABXY/Fb/kaLH/sBaL/6bLWuOrsfit/yNFj/ANgLRf8A02WtIDjqKK9LtfCPhXSPhRo3irV7TWNSvNQ1C4s/JstRitY41jVSD81vISTu9RQ9Fd/10FfVLv8A5X/Q80oqe+e2kvJ2s4pYLQuTFFPKJXVc8BnCqGOO4UZ9BUFAwooopgFFFFABRRRQAUUUUAFFFFABRRRQAUUUUAFFFFABRRRQAUUUUAFFFFABRRRQAUUUUAFFFFABRRRQAUUUUAFFFFABRRRQAUUUUAFFFFABRRRQAUUUUAFFFFABXY+Ov+RX+Hf/AGApf/TnfVx1dj46/wCRX+Hf/YCl/wDTnfUgOOooopgFFFFABRRRQAV2Oqf8kf8ADP8A2HdW/wDSfTq46ux1T/kj/hn/ALDurf8ApPp1IDjq9e+DOpzaP8NfipeW6W8k0VjZFVuraO4jOboDmORWVuvcH1ryGijoC0kn2af3O5oa5rlz4gvRdXUdnFKECbbGyhtI8DP8EKKueeuM1n0UUAFFFFMAooooAKKKKACiiigAooooAKKKKACiiigAooooAKKKKACiiigDsfHX/Ir/AA7/AOwFL/6c76uOrsfHX/Ir/Dv/ALAUv/pzvq46kB6l+zL/AMlm0b/rhe/+kk1eW0UU3q0/K34t/qAUUUUAFFFFABRRRQAUUUUAFFFFABRRRQAUUUUAFFFFABRRRQAUUUUAFdj8Vv8AkaLH/sBaL/6bLWuOrsfit/yNFj/2AtF/9NlrSA46va5PEt34b/Zx8KSWkOnzNLrd6rDUNNt7wDCJ0E0bhT7jFeKUUPVNen5p/oTb3lLtf8mv1Jbq5e8upriQRrJK7OwijWNAScnaqgKo9AAAOwqKiigoKKKKYBRRRQAUUUUAFFFFABRRRQAUUUUAFFFFABRRRQAUUUUAFFFFABRRRQAUUUUAFFFFABRRRQAUUUUAFFFFABRRRQAUUUUAFFFFABRRRQAUUUUAFFFFABRRRQAV2Pjr/kV/h3/2Apf/AE531cdXY+Ov+RX+Hf8A2Apf/TnfUgOOooopgFFFFABRRRQAV6VZaFZa18H9A+2eItN0Dy9d1TZ/aMd0/m5t9Pzt8iGTpgZ3Y+8MZ5x5rXY6p/yR/wAM/wDYd1b/ANJ9OpAH/CC6J/0UTw1/4D6n/wDIdH/CC6J/0UTw1/4D6n/8h1x1FAHY/wDCC6J/0UTw1/4D6n/8h0f8ILon/RRPDX/gPqf/AMh1x1FAHY/8ILon/RRPDX/gPqf/AMh0f8ILon/RRPDX/gPqf/yHXHUUAdj/AMILon/RRPDX/gPqf/yHR/wguif9FE8Nf+A+p/8AyHXHUUAdj/wguif9FE8Nf+A+p/8AyHR/wguif9FE8Nf+A+p//IdcdRQB2P8Awguif9FE8Nf+A+p//IdH/CC6J/0UTw1/4D6n/wDIdcdRQB2P/CC6J/0UTw1/4D6n/wDIdH/CC6J/0UTw1/4D6n/8h1x1FAHY/wDCC6J/0UTw1/4D6n/8h0f8ILon/RRPDX/gPqf/AMh1x1FAHY/8ILon/RRPDX/gPqf/AMh0f8ILon/RRPDX/gPqf/yHXHUUAdj/AMILon/RRPDX/gPqf/yHR/wguif9FE8Nf+A+p/8AyHXHUUAdj/wguif9FE8Nf+A+p/8AyHR/wguif9FE8Nf+A+p//IdcdRQB2P8Awguif9FE8Nf+A+p//IdH/CC6J/0UTw1/4D6n/wDIdcdRQB654y8G6RN4c8CI/jvw/AsWiyIkkkGokTD+0b1t64tCQMsV+YA5Q8YwTyn/AAguif8ARRPDX/gPqf8A8h0eOv8AkV/h3/2Apf8A0531cdQB2P8Awguif9FE8Nf+A+p//IdH/CC6J/0UTw1/4D6n/wDIdcdRQB2P/CC6J/0UTw1/4D6n/wDIdH/CC6J/0UTw1/4D6n/8h1x1FAHY/wDCC6J/0UTw1/4D6n/8h0f8ILon/RRPDX/gPqf/AMh1x1FAHY/8ILon/RRPDX/gPqf/AMh0f8ILon/RRPDX/gPqf/yHXHUUAdj/AMILon/RRPDX/gPqf/yHR/wguif9FE8Nf+A+p/8AyHXHUUAdj/wguif9FE8Nf+A+p/8AyHR/wguif9FE8Nf+A+p//IdcdRQB2P8Awguif9FE8Nf+A+p//IdH/CC6J/0UTw1/4D6n/wDIdcdRQB2P/CC6J/0UTw1/4D6n/wDIdH/CC6J/0UTw1/4D6n/8h1x1FAHY/wDCC6J/0UTw1/4D6n/8h0f8ILon/RRPDX/gPqf/AMh1x1FAHY/8ILon/RRPDX/gPqf/AMh0f8ILon/RRPDX/gPqf/yHXHUUAdj/AMILon/RRPDX/gPqf/yHR/wguif9FE8Nf+A+p/8AyHXHUUAdj/wguif9FE8Nf+A+p/8AyHXV/EzwbpFx4js3k8d+H7VhoukoI5oNRJIXTrdQ/wAtoRhgAw5zhhkA5A8jrsfit/yNFj/2AtF/9NlrQAf8ILon/RRPDX/gPqf/AMh0f8ILon/RRPDX/gPqf/yHXHUUAdj/AMILon/RRPDX/gPqf/yHR/wguif9FE8Nf+A+p/8AyHXHUUAdj/wguif9FE8Nf+A+p/8AyHR/wguif9FE8Nf+A+p//IdcdRQB2P8Awguif9FE8Nf+A+p//IdH/CC6J/0UTw1/4D6n/wDIdcdRQB2P/CC6J/0UTw1/4D6n/wDIdH/CC6J/0UTw1/4D6n/8h1x1FAHY/wDCC6J/0UTw1/4D6n/8h0f8ILon/RRPDX/gPqf/AMh1x1FAHY/8ILon/RRPDX/gPqf/AMh0f8ILon/RRPDX/gPqf/yHXHUUAdj/AMILon/RRPDX/gPqf/yHR/wguif9FE8Nf+A+p/8AyHXHUUAdj/wguif9FE8Nf+A+p/8AyHR/wguif9FE8Nf+A+p//IdcdRQB2P8Awguif9FE8Nf+A+p//IdH/CC6J/0UTw1/4D6n/wDIdcdRQB2P/CC6J/0UTw1/4D6n/wDIdH/CC6J/0UTw1/4D6n/8h1x1FAHY/wDCC6J/0UTw1/4D6n/8h0f8ILon/RRPDX/gPqf/AMh1x1FAHY/8ILon/RRPDX/gPqf/AMh0f8ILon/RRPDX/gPqf/yHXHUUAdj/AMILon/RRPDX/gPqf/yHR/wguif9FE8Nf+A+p/8AyHXHUUAdj/wguif9FE8Nf+A+p/8AyHR/wguif9FE8Nf+A+p//IdcdRQB2P8Awguif9FE8Nf+A+p//IdH/CC6J/0UTw1/4D6n/wDIdcdRQB2P/CC6J/0UTw1/4D6n/wDIdH/CC6J/0UTw1/4D6n/8h1x1FAHY/wDCC6J/0UTw1/4D6n/8h0f8ILon/RRPDX/gPqf/AMh1x1FAHY/8ILon/RRPDX/gPqf/AMh0f8ILon/RRPDX/gPqf/yHXHUUAdj/AMILon/RRPDX/gPqf/yHR/wguif9FE8Nf+A+p/8AyHXHUUAdj/wguif9FE8Nf+A+p/8AyHR/wguif9FE8Nf+A+p//IdcdRQB2P8Awguif9FE8Nf+A+p//IdH/CC6J/0UTw1/4D6n/wDIdcdRQB2P/CC6J/0UTw1/4D6n/wDIdH/CC6J/0UTw1/4D6n/8h1x1FAHY/wDCC6J/0UTw1/4D6n/8h0f8ILon/RRPDX/gPqf/AMh1x1FAHY/8ILon/RRPDX/gPqf/AMh0f8ILon/RRPDX/gPqf/yHXHUUAdj/AMILon/RRPDX/gPqf/yHVz4pWMGm6R4BtrbUbbVoU0KTbeWayrFJnUr4naJUR+CccqOQcZGCeCrsfHX/ACK/w7/7AUv/AKc76gDjqKKKYBRRRQAUUUUAFdjqn/JH/DP/AGHdW/8ASfTq46ux1T/kj/hn/sO6t/6T6dSA46u18BeArHxVoXifWNS1a40uy0KCGeQWtktzJL5knlgBWljAwSDya4qvXvgzew6f8NfipcXFhb6nCljZbrS6aRY5P9KA5Mbo3HXhh0/Cjoxx1lFd2l97R5nrtvpFvdIujX17f22zLSX1klq4bJ4CrLICMY53DqeKza0Nc1O21a9E9rpNnosWwL9msXmaPIz82ZpJGyf97HHSs+hCCiiimAUUUUAFFFFABRRRQAUUUUAFFFFABRRRQAUUUUAFFFFABRRRQB2Pjr/kV/h3/wBgKX/0531cdXY+Ov8AkV/h3/2Apf8A0531cdSA7rwn8PtL1fwHrHirV9avNNs9PvIbPybLT0upJGkViD800YAG31NclrEWnw6hImlXV1eWQA2TXlstvIeOcoskgHOf4jn26V6z4B1K30r9nrxhPdaVaazF/bVkv2a9aZY8lH5zFIjZH+9j2ryTVb2HUNQmuLewt9MhcjbaWrSNHHwB8pkd3568sevpxS+3Jdrf+kp/qTB3gm/P/wBKa/QqUUUVRQUUUUAFFFFABRRRQAUUUUAFFFFABRRRQAUUUUAFFFFABRRRQAV2PxW/5Gix/wCwFov/AKbLWuOrsfit/wAjRY/9gLRf/TZa0gOOr0Cx+HeiQfDvTPFet69qFlHf3s1nHa6fpaXJUxhSWLPcR8Hd2Fef17XJrNpo/wCzj4Ue70LT9dV9bvQqag9woj+ROR5MsZz9SaJaRb9PzSI154rvf/0lv9Dxu+W2jvJ1s5ZZ7QORFLPEInZc8FkDMFOOwY49TUFS3UyXF1NLHBHaxyOzLBEWKRgnIVdxLYHQZJPHJNRUFhRRRTAKKKKACiiigAooooAKKKKACiiigAooooAKKKKACiiigAooooAKKKKACiiigAooooAKKKKACiiigAooooAKKKKACiiigAooooAKKKKACiiigAooooAKKKKACux8df8AIr/Dv/sBS/8Apzvq46ux8df8iv8ADv8A7AUv/pzvqQHHUUUUwCiiigAooooAK7HVP+SP+Gf+w7q3/pPp1cdXb+G44PF3g1/DJu7ez1WzvX1DTRdSCOO5MqRxzQ7zhVciGJl3EA7WGckAoDiKtWurX1jaXdrbXlxb2t4qpcwxSsqTKp3KHUHDAHkZ6Gun/wCFM+P/AOHwT4hkXs8Wlzup9wwUgj3FH/CmfiB/0IviX/wUXH/xFAHHUV2P/CmfiB/0IviX/wAFFx/8RR/wpn4gf9CL4l/8FFx/8RQBx1Fdj/wpn4gf9CL4l/8ABRcf/EUf8KZ+IH/Qi+Jf/BRcf/EUAcdRXY/8KZ+IH/Qi+Jf/AAUXH/xFH/CmfiB/0IviX/wUXH/xFAHHUV2P/CmfiB/0IviX/wAFFx/8RR/wpn4gf9CL4l/8FFx/8RQBx1Fdj/wpn4gf9CL4l/8ABRcf/EUf8KZ+IH/Qi+Jf/BRcf/EUAcdRXY/8KZ+IH/Qi+Jf/AAUXH/xFH/CmfiB/0IviX/wUXH/xFAHHUV2P/CmfiB/0IviX/wAFFx/8RR/wpn4gf9CL4l/8FFx/8RQBx1Fdj/wpn4gf9CL4l/8ABRcf/EUf8KZ+IH/Qi+Jf/BRcf/EUAcdRXY/8KZ+IH/Qi+Jf/AAUXH/xFH/CmfiB/0IviX/wUXH/xFAHHUV2P/CmfiB/0IviX/wAFFx/8RR/wpn4gf9CL4l/8FFx/8RQBx1Fdj/wpn4gf9CL4l/8ABRcf/EUf8KZ+IH/Qi+Jf/BRcf/EUAHjr/kV/h3/2Apf/AE531cdXrnjL4TeOLrw54Eih8G+IJpLbRZIp0j0udjE51G9cKwCfKdro2D2YHoRXKf8ACmfiB/0IviX/AMFFx/8AEUAczHq19Dps2nR3twmnzOsstosrCKR1+6zJnBIycEjjNVK7H/hTPxA/6EXxL/4KLj/4ij/hTPxA/wChF8S/+Ci4/wDiKAOOorsf+FM/ED/oRfEv/gouP/iKP+FM/ED/AKEXxL/4KLj/AOIoA46iux/4Uz8QP+hF8S/+Ci4/+Io/4Uz8QP8AoRfEv/gouP8A4igDjqK7H/hTPxA/6EXxL/4KLj/4ij/hTPxA/wChF8S/+Ci4/wDiKAOOorsf+FM/ED/oRfEv/gouP/iKP+FM/ED/AKEXxL/4KLj/AOIoA46iux/4Uz8QP+hF8S/+Ci4/+Io/4Uz8QP8AoRfEv/gouP8A4igDjqK7H/hTPxA/6EXxL/4KLj/4ij/hTPxA/wChF8S/+Ci4/wDiKAOOorsf+FM/ED/oRfEv/gouP/iKP+FM/ED/AKEXxL/4KLj/AOIoA46iux/4Uz8QP+hF8S/+Ci4/+Io/4Uz8QP8AoRfEv/gouP8A4igDjqK7H/hTPxA/6EXxL/4KLj/4ij/hTPxA/wChF8S/+Ci4/wDiKAOOorsf+FM/ED/oRfEv/gouP/iKP+FM/ED/AKEXxL/4KLj/AOIoA46ux+K3/I0WP/YC0X/02WtH/CmfiB/0IviX/wAFFx/8RXV/Ez4TeOL/AMR2ctt4N8QXEa6LpMReHS52AdNOt0dchOqsrKR2IIPIoA8jq3Jq19NpsOnSXtw+nwyNLFaNKxiR2+8ypnAJwMkDnFdN/wAKZ+IH/Qi+Jf8AwUXH/wARR/wpn4gf9CL4l/8ABRcf/EUAcdRXY/8ACmfiB/0IviX/AMFFx/8AEUf8KZ+IH/Qi+Jf/AAUXH/xFAHHUV2P/AApn4gf9CL4l/wDBRcf/ABFH/CmfiB/0IviX/wAFFx/8RQBx1Fdj/wAKZ+IH/Qi+Jf8AwUXH/wARR/wpn4gf9CL4l/8ABRcf/EUAcdRXY/8ACmfiB/0IviX/AMFFx/8AEUf8KZ+IH/Qi+Jf/AAUXH/xFAHHUV2P/AApn4gf9CL4l/wDBRcf/ABFH/CmfiB/0IviX/wAFFx/8RQBx1Fdj/wAKZ+IH/Qi+Jf8AwUXH/wARR/wpn4gf9CL4l/8ABRcf/EUAcdRXY/8ACmfiB/0IviX/AMFFx/8AEUf8KZ+IH/Qi+Jf/AAUXH/xFAHHUV2P/AApn4gf9CL4l/wDBRcf/ABFH/CmfiB/0IviX/wAFFx/8RQBx1Fdj/wAKZ+IH/Qi+Jf8AwUXH/wARR/wpn4gf9CL4l/8ABRcf/EUAcdRXY/8ACmfiB/0IviX/AMFFx/8AEUf8KZ+IH/Qi+Jf/AAUXH/xFAHHUV2P/AApn4gf9CL4l/wDBRcf/ABFH/CmfiB/0IviX/wAFFx/8RQBx1Fdj/wAKZ+IH/Qi+Jf8AwUXH/wARR/wpn4gf9CL4l/8ABRcf/EUAcdRXY/8ACmfiB/0IviX/AMFFx/8AEUf8KZ+IH/Qi+Jf/AAUXH/xFAHHUV2P/AApn4gf9CL4l/wDBRcf/ABFH/CmfiB/0IviX/wAFFx/8RQBx1Fdj/wAKZ+IH/Qi+Jf8AwUXH/wARR/wpn4gf9CL4l/8ABRcf/EUAcdRXY/8ACmfiB/0IviX/AMFFx/8AEUf8KZ+IH/Qi+Jf/AAUXH/xFAHHUV2P/AApn4gf9CL4l/wDBRcf/ABFH/CmfiB/0IviX/wAFFx/8RQBx1Fdj/wAKZ+IH/Qi+Jf8AwUXH/wARR/wpn4gf9CL4l/8ABRcf/EUAcdRXY/8ACmfiB/0IviX/AMFFx/8AEUf8KZ+IH/Qi+Jf/AAUXH/xFAHHUV2P/AApn4gf9CL4l/wDBRcf/ABFH/CmfiB/0IviX/wAFFx/8RQBx1Fdj/wAKZ+IH/Qi+Jf8AwUXH/wARR/wpn4gf9CL4l/8ABRcf/EUAcdRXY/8ACmfiB/0IviX/AMFFx/8AEUf8KZ+IH/Qi+Jf/AAUXH/xFAHHUV2P/AApn4gf9CL4l/wDBRcf/ABFH/CmfiB/0IviX/wAFFx/8RQBx1Fdj/wAKZ+IH/Qi+Jf8AwUXH/wARR/wpn4gf9CL4l/8ABRcf/EUAcdXY+Ov+RX+Hf/YCl/8ATnfU6P4N+NVYG98Najo1t/HeaxbtZ28Y7lpJQqgD65qr8QNUsbq+03TNMuBeabotkunwXYUqLg+ZJLJIAQCFaWWQrnnbtzg8UActRRRTAKKKKACiiigAooooAKKKKACiiigAooooAKKKKACiiigAooooAKKKKACiiigAooooAKKKKACiiigAooooAKKKKACiiigAooooAKKKKACiiigAooooAKKKKACiiigAooooAKKKKACiiigAooooAKKKKACiiigAooooAKKKKACiiigAooooAKKKKACiiigAooooAKKKKACiiigAooooAKKKKACiiigAooooAKKKKACiiigAooooAKKKKACiiigAooooAKKKKACiiigAooooAKKKKACiiigAooooAKKKKACiiigAooooAKKKKACiiigAooooAKKKKACiiigAooooAKKKKACiiigAooooAKKKKACiiigAooooAKKKKACiiigAooooAKKKKACiiigAooooAKKKKACiiigAooooAKKKKACiiigAooooAKKKKACiiigAooooAKKKKACiiigAooooAKKKKACiiigAooooAKKKKACiiigAooooAKKKKACiiigAooooAKKKKACiiigAooooAKKKKACiiigAooooAKKKKACiiigAooooAKKKKACiiigAooooAKKKKACiiigAooooA//Z)"
      ],
      "metadata": {
        "id": "iMgItSTFKdZK"
      }
    },
    {
      "cell_type": "markdown",
      "source": [
        "OR (||) operator:\n",
        "\n",
        "\n",
        "| x | y | x || y |\n",
        "\n",
        "|---|---|--------|\n",
        "\n",
        "| T | T | T |\n",
        "\n",
        "| T | F | T |\n",
        "\n",
        "| F | T | T |\n",
        "\n",
        "| F | F | F |"
      ],
      "metadata": {
        "id": "qtrlGZC8LAYV"
      }
    },
    {
      "cell_type": "markdown",
      "source": [
        "NOT (!) operator:"
      ],
      "metadata": {
        "id": "2JDD4HqnLPnV"
      }
    },
    {
      "cell_type": "markdown",
      "source": [
        "![Screenshot 2022-12-22 102326.jpg](data:image/jpeg;base64,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)"
      ],
      "metadata": {
        "id": "t18cypqELjH1"
      }
    },
    {
      "cell_type": "markdown",
      "source": [
        "Note that the truth tables for the AND and OR operators include all possible combinations of the operands x and y. The truth table for the NOT operator only includes a single operand, so there is only one row for each possible value of x.\n",
        "\n",
        "In the truth tables, \"T\" stands for true and \"F\" stands for false."
      ],
      "metadata": {
        "id": "3ktOaDvJLprt"
      }
    },
    {
      "cell_type": "markdown",
      "source": [
        "#4. What are the values of the following expressions?\n",
        "\n",
        "(5 > 4) and (3 == 5)\n",
        "\n",
        "not (5 > 4)\n",
        "\n",
        "(5 > 4) or (3 == 5)\n",
        "\n",
        "not ((5 > 4) or (3 == 5))\n",
        "\n",
        "(True and True) and (True == False)\n",
        "\n",
        "(not False) or (not True)\n"
      ],
      "metadata": {
        "id": "vkNgmgpcL4h3"
      }
    },
    {
      "cell_type": "markdown",
      "source": [
        "#Here are the values of the given expressions:\n",
        "\n",
        "(5 > 4) and (3 == 5)\n",
        "This expression evaluates to True and False, respectively. The AND operator returns False because one of the operands is False.\n",
        "\n",
        "\n",
        "not (5 > 4)\n",
        "This expression evaluates to False. The NOT operator negates the value of the operand, which is True.\n",
        "\n",
        "\n",
        "(5 > 4) or (3 == 5)\n",
        "This expression evaluates to True and False, respectively. The OR operator returns True because one of the operands is True.\n",
        "\n",
        "\n",
        "not ((5 > 4) or (3 == 5))\n",
        "This expression evaluates to False. The NOT operator negates the value of the operand, which is True.\n",
        "\n",
        "\n",
        "(True and True) and (True == False)\n",
        "This expression evaluates to True and False, respectively. The AND operator returns False because one of the operands is False.\n",
        "\n",
        "\n",
        "\n",
        "(not False) or (not True)\n",
        "This expression evaluates to True and False, respectively. The OR operator returns True because one of the operands is True.\n",
        "\n",
        "\n",
        "\n"
      ],
      "metadata": {
        "id": "11rQwsz-MTHA"
      }
    },
    {
      "cell_type": "markdown",
      "source": [
        "#5. What are the six comparison operators?"
      ],
      "metadata": {
        "id": "YE9ns80RMn-X"
      }
    },
    {
      "cell_type": "markdown",
      "source": [
        "Comparison operators are used to compare two values and determine their relative relationship. There are six comparison operators in most programming languages:\n",
        "\n",
        "\n",
        "\n",
        "Equal to (==): Returns true if the operands are equal, and false if they are not equal.\n",
        "\n",
        "\n",
        "\n",
        "\n",
        "\n",
        "\n",
        "Not equal to (!=): Returns true if the operands are not equal, and false if they are equal.\n",
        "\n",
        "\n",
        "\n",
        "Greater than (>): Returns true if the left operand is greater than the right operand, and false if it is not.\n",
        "\n",
        "\n",
        "\n",
        "Less than (<): Returns true if the left operand is less than the right operand, and false if it is not.\n",
        "\n",
        "\n",
        "\n",
        "\n",
        "\n",
        "Greater than or equal to (>=): Returns true if the left operand is greater than or equal to the right operand, and false if it is not.\n",
        "\n",
        "\n",
        "\n",
        "Less than or equal to (<=): Returns true if the left operand is less than or equal to the right operand, and false if it is not.\n",
        "\n",
        "Here are some examples of how these operators can be used in Python:"
      ],
      "metadata": {
        "id": "YA-OFXE2Mqm7"
      }
    },
    {
      "cell_type": "code",
      "source": [
        "x = 10\n",
        "y = 20\n",
        "\n",
        "# Equal to\n",
        "print(x == y)  # Output: False\n",
        "\n",
        "# Not equal to\n",
        "print(x != y)  # Output: True\n",
        "\n",
        "# Greater than\n",
        "print(x > y)   # Output: False\n",
        "\n",
        "# Less than\n",
        "print(x < y)   # Output: True\n",
        "\n",
        "# Greater than or equal to\n",
        "print(x >= y)  # Output: False\n",
        "\n",
        "# Less than or equal to\n",
        "print(x <= y)  # Output: True\n"
      ],
      "metadata": {
        "colab": {
          "base_uri": "https://localhost:8080/"
        },
        "id": "ByKh-YxFJrID",
        "outputId": "44e6a6fb-c7d2-4181-cc56-a802b17a6f18"
      },
      "execution_count": 6,
      "outputs": [
        {
          "output_type": "stream",
          "name": "stdout",
          "text": [
            "False\n",
            "True\n",
            "False\n",
            "True\n",
            "False\n",
            "True\n"
          ]
        }
      ]
    },
    {
      "cell_type": "markdown",
      "source": [
        "Comparison operators are often used in control statements (such as if statements) to test a condition and determine the flow of a program based on the result. For example:\n",
        "\n"
      ],
      "metadata": {
        "id": "mSqBO6HVNLmJ"
      }
    },
    {
      "cell_type": "code",
      "source": [
        "if x > y:\n",
        "    print(\"x is greater than y\")\n",
        "elif x < y:\n",
        "    print(\"x is less than y\")\n",
        "else:\n",
        "    print(\"x is equal to y\")\n"
      ],
      "metadata": {
        "colab": {
          "base_uri": "https://localhost:8080/"
        },
        "id": "ndgCjemVNMnW",
        "outputId": "574066a9-5f8f-4f4c-d5f7-693520f3a4af"
      },
      "execution_count": 7,
      "outputs": [
        {
          "output_type": "stream",
          "name": "stdout",
          "text": [
            "x is less than y\n"
          ]
        }
      ]
    },
    {
      "cell_type": "markdown",
      "source": [
        "n this example, the value of x is 10 and the value of y is 20, so the condition x > y evaluates to False. The condition x < y evaluates to True, so the statement print(\"x is less than y\") is executed.\n",
        "\n",
        "\n",
        "\n",
        "\n"
      ],
      "metadata": {
        "id": "5Lo8qxH0NRIb"
      }
    },
    {
      "cell_type": "markdown",
      "source": [
        "#6. How do you tell the difference between the equal to and assignment operators?Describe a condition and when you would use one."
      ],
      "metadata": {
        "id": "h1N8xKqENgRw"
      }
    },
    {
      "cell_type": "markdown",
      "source": [
        "The equal to operator (==) is used to compare the values of two operands and determine if they are equal. It returns True if the operands are equal, and False if they are not equal.\n",
        "\n",
        "The assignment operator (=) is used to assign a value to a variable. It is not used to compare values.\n",
        "\n",
        "Here is an example of how the equal to operator can be used in a condition:"
      ],
      "metadata": {
        "id": "rrQkODUCNjWv"
      }
    },
    {
      "cell_type": "code",
      "source": [
        "x = 10\n",
        "y = 20\n",
        "\n",
        "if x == y:\n",
        "    print(\"x and y are equal\")\n",
        "else:\n",
        "    print(\"x and y are not equal\")\n"
      ],
      "metadata": {
        "colab": {
          "base_uri": "https://localhost:8080/"
        },
        "id": "7hqMPDZQNiMP",
        "outputId": "4cc151e9-b0a0-4a80-fe40-fe13c6a1db21"
      },
      "execution_count": 8,
      "outputs": [
        {
          "output_type": "stream",
          "name": "stdout",
          "text": [
            "x and y are not equal\n"
          ]
        }
      ]
    },
    {
      "cell_type": "markdown",
      "source": [
        "In this example, the condition x == y evaluates to False, so the statement print(\"x and y are not equal\") is executed.\n",
        "\n",
        "On the other hand, here is an example of how the assignment operator can be used:"
      ],
      "metadata": {
        "id": "W2j_JZbHN6z6"
      }
    },
    {
      "cell_type": "code",
      "source": [
        "x = 10\n",
        "y = 20\n",
        "\n",
        "z = x\n",
        "\n",
        "print(z)  # Output: 10\n"
      ],
      "metadata": {
        "colab": {
          "base_uri": "https://localhost:8080/"
        },
        "id": "ijjpSrVPN4CH",
        "outputId": "32300d5e-e39e-4627-c95e-1a41452d4a9b"
      },
      "execution_count": 9,
      "outputs": [
        {
          "output_type": "stream",
          "name": "stdout",
          "text": [
            "10\n"
          ]
        }
      ]
    },
    {
      "cell_type": "markdown",
      "source": [
        "In this example, the value of x is assigned to the variable z. The value of z is then printed, which outputs 10.\n",
        "\n",
        "It is important to be careful when using the equal to operator and the assignment operator, as they can be easily confused. A common mistake is to use a single equal sign (=) instead of a double equal sign (==) when testing a condition, which can lead to unexpected results. For example:"
      ],
      "metadata": {
        "id": "KwDVnS81OI1U"
      }
    },
    {
      "cell_type": "code",
      "source": [
        "x = 10\n",
        "y = 20\n",
        "\n",
        "if x = y:  # This is a syntax error!\n",
        "    print(\"x and y are equal\")\n",
        "else:\n",
        "    print(\"x and y are not equal\")\n"
      ],
      "metadata": {
        "colab": {
          "base_uri": "https://localhost:8080/",
          "height": 130
        },
        "id": "90A1iKAoOCt9",
        "outputId": "3300e3ea-579e-425b-937b-e7fcb186ce08"
      },
      "execution_count": 10,
      "outputs": [
        {
          "output_type": "error",
          "ename": "SyntaxError",
          "evalue": "ignored",
          "traceback": [
            "\u001b[0;36m  File \u001b[0;32m\"<ipython-input-10-a02047aa92df>\"\u001b[0;36m, line \u001b[0;32m4\u001b[0m\n\u001b[0;31m    if x = y:  # This is a syntax error!\u001b[0m\n\u001b[0m         ^\u001b[0m\n\u001b[0;31mSyntaxError\u001b[0m\u001b[0;31m:\u001b[0m invalid syntax\n"
          ]
        }
      ]
    },
    {
      "cell_type": "markdown",
      "source": [
        "In this example, the line if x = y: is a syntax error because it is using the assignment operator (=) instead of the equal to operator (==). This will cause an error when the code is run."
      ],
      "metadata": {
        "id": "P4H1-Eu_OYG_"
      }
    },
    {
      "cell_type": "markdown",
      "source": [
        "#7. Identify the three blocks in this code:\n",
        "spam = 0\n",
        "\n",
        "if spam == 10:\n",
        "\n",
        "print('eggs')\n",
        "\n",
        "if spam > 5:\n",
        "\n",
        "print('bacon')\n",
        "\n",
        "else:\n",
        "\n",
        "print('ham')\n",
        "\n",
        "print('spam')\n",
        "\n",
        "print('spam')\n",
        "\n"
      ],
      "metadata": {
        "id": "i1e7Xf3oOd47"
      }
    },
    {
      "cell_type": "markdown",
      "source": [
        "Here are the three blocks in this code:\n",
        "\n",
        "The first block is the block of code that is executed if the condition spam == 10 is True. This block contains a single statement: print('eggs').\n",
        "\n",
        "The second block is the block of code that is executed if the condition spam > 5 is True. This block contains a single statement: print('bacon').\n",
        "\n",
        "The third block is the block of code that is executed if the condition spam > 5 is False. This block is known as an \"else\" block and it contains a single statement: print('ham').\n",
        "\n",
        "In this code, the blocks are indented to show which statements belong to which block. In Python, indentation is used to indicate the beginning and end of a block of code.\n",
        "\n",
        "Here is a visual representation of the blocks in this code"
      ],
      "metadata": {
        "id": "_UAP2K5nOwwd"
      }
    },
    {
      "cell_type": "code",
      "source": [
        "spam = 0\n",
        "if spam == 10:\n",
        "    print('eggs')\n",
        "if spam > 5:\n",
        "    print('bacon')\n",
        "else:\n",
        "    print('ham')\n",
        "print('spam')\n",
        "print('spam')\n"
      ],
      "metadata": {
        "colab": {
          "base_uri": "https://localhost:8080/"
        },
        "id": "aUnyo7g0Oeyb",
        "outputId": "864cd727-f411-45a8-c6a6-6a096532f286"
      },
      "execution_count": 11,
      "outputs": [
        {
          "output_type": "stream",
          "name": "stdout",
          "text": [
            "ham\n",
            "spam\n",
            "spam\n"
          ]
        }
      ]
    },
    {
      "cell_type": "markdown",
      "source": [
        "#8. Write code that prints Hello if 1 is stored in spam, prints Howdy if 2 is stored in spam, and prints Greetings! if anything else is stored in spam."
      ],
      "metadata": {
        "id": "uVML1r3gOeVy"
      }
    },
    {
      "cell_type": "markdown",
      "source": [
        "Here is one way you could write this code using an if-elif-else statement:"
      ],
      "metadata": {
        "id": "jPl9Lnr3Pih2"
      }
    },
    {
      "cell_type": "code",
      "source": [
        "spam = 1\n",
        "\n",
        "if spam == 1:\n",
        "    print(\"Hello\")\n",
        "elif spam == 2:\n",
        "    print(\"Howdy\")\n",
        "else:\n",
        "    print(\"Greetings!\")\n"
      ],
      "metadata": {
        "colab": {
          "base_uri": "https://localhost:8080/"
        },
        "id": "U9NEWj4iOMNu",
        "outputId": "6a137835-f8ad-44b5-c434-4c8ad26b4530"
      },
      "execution_count": 12,
      "outputs": [
        {
          "output_type": "stream",
          "name": "stdout",
          "text": [
            "Hello\n"
          ]
        }
      ]
    },
    {
      "cell_type": "markdown",
      "source": [
        "Here is another way you could write this code using a series of if statements:\n",
        "\n"
      ],
      "metadata": {
        "id": "tgot1RMRPqJR"
      }
    },
    {
      "cell_type": "code",
      "source": [
        "spam = 1\n",
        "\n",
        "if spam == 1:\n",
        "    print(\"Hello\")\n",
        "if spam == 2:\n",
        "    print(\"Howdy\")\n",
        "if spam != 1 and spam != 2:\n",
        "    print(\"Greetings!\")\n"
      ],
      "metadata": {
        "colab": {
          "base_uri": "https://localhost:8080/"
        },
        "id": "EvPIvc5-Pl79",
        "outputId": "28b390e5-526a-4c36-d95b-012d0452c4e6"
      },
      "execution_count": 13,
      "outputs": [
        {
          "output_type": "stream",
          "name": "stdout",
          "text": [
            "Hello\n"
          ]
        }
      ]
    },
    {
      "cell_type": "markdown",
      "source": [
        "Both of these code snippets will print \"Hello\" if the value of spam is 1, \"Howdy\" if the value of spam is 2, and \"Greetings!\" if the value of spam is anything else.\n",
        "\n",
        "Note that in the second example, the if statements are not nested, so all three conditions are checked even if one of them is True. This is different from the first example, where the elif and else blocks are only executed if the previous conditions are False"
      ],
      "metadata": {
        "id": "YrWXifXlPviX"
      }
    },
    {
      "cell_type": "markdown",
      "source": [
        "#9.If your programme is stuck in an endless loop, what keys you’ll press?"
      ],
      "metadata": {
        "id": "BoQGYqKyP5lu"
      }
    },
    {
      "cell_type": "markdown",
      "source": [
        "If your program is stuck in an endless loop, you can try pressing the \"CTRL + C\" keys on your keyboard to stop the program. This is a common way to stop a running program in many operating systems.\n",
        "\n",
        "If \"CTRL + C\" does not work, you may need to try one of the following methods:\n",
        "\n",
        "Close the program: Depending on your operating system, you may be able to close the program by clicking on the \"X\" button in the top-right corner of the window, or by using the \"ALT + F4\" keys.\n",
        "\n",
        "Force quit the program: If the program is not responding, you may need to force quit it. On Windows, you can do this by pressing \"CTRL + ALT + DELETE\" and selecting the program from the task manager. On Mac, you can use the \"Option + Command + Escape\" keys to bring up the force quit window, or you can right-click on the program's icon in the dock and select \"Quit\".\n",
        "\n",
        "Restart your computer: If all else fails, you may need to restart your computer to stop the program. This should only be done as a last resort, as it will close all open programs and may cause you to lose any unsaved work.\n",
        "\n",
        "It's always a good idea to save your work frequently when programming, to avoid losing it if you need to stop the program unexpectedly."
      ],
      "metadata": {
        "id": "755Zt_f8QUKD"
      }
    },
    {
      "cell_type": "markdown",
      "source": [
        "#10. How can you tell the difference between break and continue?"
      ],
      "metadata": {
        "id": "lIFMz-7IQbV-"
      }
    },
    {
      "cell_type": "markdown",
      "source": [
        "The break and continue statements are used to control the flow of a loop in a program. Here is how you can tell the difference between them:\n",
        "\n",
        "break: The break statement is used to exit a loop early, before the loop has completed all of its iterations. When the break statement is encountered inside a loop, the loop is immediately terminated and control is transferred to the statement following the loop.\n",
        "\n",
        "continue: The continue statement is used to skip the rest of the current iteration of a loop and move on to the next iteration. When the continue statement is encountered inside a loop, the rest of the loop's current iteration is skipped and control is transferred back to the top of the loop to start the next iteration.\n",
        "\n",
        "Here is an example of how these statements can be used in a Python loop:"
      ],
      "metadata": {
        "id": "VxnQQKBPQzRq"
      }
    },
    {
      "cell_type": "code",
      "source": [
        "for i in range(1, 11):\n",
        "    if i % 2 == 0:\n",
        "        continue  # Skip the rest of the current iteration\n",
        "    if i == 7:\n",
        "        break  # Exit the loop early\n",
        "    print(i)\n"
      ],
      "metadata": {
        "colab": {
          "base_uri": "https://localhost:8080/"
        },
        "id": "Azq5zznwPuG1",
        "outputId": "9bc89bf2-9ec5-480c-ea6b-b245f5f8cfe4"
      },
      "execution_count": 14,
      "outputs": [
        {
          "output_type": "stream",
          "name": "stdout",
          "text": [
            "1\n",
            "3\n",
            "5\n"
          ]
        }
      ]
    },
    {
      "cell_type": "markdown",
      "source": [
        "n this example, the loop iterates over the numbers 1 through 10. If the value of i is even, the continue statement is executed and the rest of the current iteration is skipped. If the value of i is 7, the break statement is executed and the loop is terminated. The output of this code will be:"
      ],
      "metadata": {
        "id": "dbmgviX2Q7sU"
      }
    },
    {
      "cell_type": "markdown",
      "source": [
        "As you can see, the continue statement causes the loop to skip the iterations where i is even, and the break statement causes the loop to exit early when i is 7."
      ],
      "metadata": {
        "id": "A7kCCawkRFNt"
      }
    },
    {
      "cell_type": "markdown",
      "source": [
        "#11. In a for loop, what is the difference between range(10), range(0, 10), and range(0, 10, 1)?"
      ],
      "metadata": {
        "id": "8XgRTdYVRqdn"
      }
    },
    {
      "cell_type": "markdown",
      "source": [
        "In Python, the range() function is used to generate a sequence of numbers. The range() function takes three arguments: start, stop, and step.\n",
        "\n",
        "Here is how the three arguments work:\n",
        "\n",
        "start: The starting value of the sequence. This argument is optional and default to 0 if not provided.\n",
        "\n",
        "stop: The ending value of the sequence (exclusive). The range() function will generate numbers up to, but not including, the stop value.\n",
        "\n",
        "step: The increment between each number in the sequence. This argument is optional and default to 1 if not provided.\n",
        "\n",
        "Here are some examples of how these arguments can be used in a for loop:"
      ],
      "metadata": {
        "id": "ZpLiNL0pR6aZ"
      }
    },
    {
      "cell_type": "code",
      "source": [
        "# range(10)\n",
        "for i in range(10):\n",
        "    print(i)\n",
        "\n",
        "# Output: 0 1 2 3 4 5 6 7 8 9\n",
        "\n",
        "# range(0, 10)\n",
        "for i in range(0, 10):\n",
        "    print(i)\n",
        "\n",
        "# Output: 0 1 2 3 4 5 6 7 8 9\n",
        "\n",
        "# range(0, 10, 1)\n",
        "for i in range(0, 10, 1):\n",
        "    print(i)\n",
        "\n",
        "# Output: 0 1 2 3 4 5 6 7 8 9\n"
      ],
      "metadata": {
        "colab": {
          "base_uri": "https://localhost:8080/"
        },
        "id": "5JFg9Z4xRCu6",
        "outputId": "afb9a469-b378-4fcb-e488-aa143d6b03dd"
      },
      "execution_count": 16,
      "outputs": [
        {
          "output_type": "stream",
          "name": "stdout",
          "text": [
            "0\n",
            "1\n",
            "2\n",
            "3\n",
            "4\n",
            "5\n",
            "6\n",
            "7\n",
            "8\n",
            "9\n",
            "0\n",
            "1\n",
            "2\n",
            "3\n",
            "4\n",
            "5\n",
            "6\n",
            "7\n",
            "8\n",
            "9\n",
            "0\n",
            "1\n",
            "2\n",
            "3\n",
            "4\n",
            "5\n",
            "6\n",
            "7\n",
            "8\n",
            "9\n"
          ]
        }
      ]
    },
    {
      "cell_type": "markdown",
      "source": [
        "In the first example, the range() function is called with a single argument: 10. This generates a sequence of numbers from 0 to 9 (10 - 1). In the second and third examples, the range() function is called with two and three arguments, respectively: 0 and `"
      ],
      "metadata": {
        "id": "34nfbE3_SEx2"
      }
    },
    {
      "cell_type": "markdown",
      "source": [
        "#12. Write a short program that prints the numbers 1 to 10 using a for loop. Then write an equivalent program that prints the numbers 1 to 10 using a while loop."
      ],
      "metadata": {
        "id": "QIYX1yZtSLoE"
      }
    },
    {
      "cell_type": "markdown",
      "source": [
        "Here is a program that prints the numbers 1 to 10 using a for loop:"
      ],
      "metadata": {
        "id": "b_95FkWoTK_q"
      }
    },
    {
      "cell_type": "code",
      "source": [
        "for i in range(1, 11):\n",
        "    print(i)\n"
      ],
      "metadata": {
        "colab": {
          "base_uri": "https://localhost:8080/"
        },
        "id": "s5FMguSQR915",
        "outputId": "c0753a83-20f9-4427-b9ed-fab803307532"
      },
      "execution_count": 17,
      "outputs": [
        {
          "output_type": "stream",
          "name": "stdout",
          "text": [
            "1\n",
            "2\n",
            "3\n",
            "4\n",
            "5\n",
            "6\n",
            "7\n",
            "8\n",
            "9\n",
            "10\n"
          ]
        }
      ]
    },
    {
      "cell_type": "markdown",
      "source": [
        "And here is an equivalent program that prints the numbers 1 to 10 using a while loop:"
      ],
      "metadata": {
        "id": "Vjbig0_YTTVS"
      }
    },
    {
      "cell_type": "code",
      "source": [
        "i = 1\n",
        "while i <= 10:\n",
        "    print(i)\n",
        "    i += 1\n"
      ],
      "metadata": {
        "colab": {
          "base_uri": "https://localhost:8080/"
        },
        "id": "jrmVOOX7TO8U",
        "outputId": "e1685469-66a4-4b15-9629-ecbe53a7dd88"
      },
      "execution_count": 18,
      "outputs": [
        {
          "output_type": "stream",
          "name": "stdout",
          "text": [
            "1\n",
            "2\n",
            "3\n",
            "4\n",
            "5\n",
            "6\n",
            "7\n",
            "8\n",
            "9\n",
            "10\n"
          ]
        }
      ]
    },
    {
      "cell_type": "markdown",
      "source": [
        "Both of these programs will output the numbers 1 through 10, one per line.\n",
        "\n",
        "The for loop iterates over a sequence of numbers generated by the range() function, while the while loop iterates as long as the condition i <= 10 is True. In each iteration of the loop, the value of i is printed and then incremented by 1. When the value of i becomes greater than 10, the loop is terminated."
      ],
      "metadata": {
        "id": "lke61J8kTbeT"
      }
    },
    {
      "cell_type": "markdown",
      "source": [
        "#13. If you had a function named bacon() inside a module named spam, how would you call it after importing spam?\n",
        "\n"
      ],
      "metadata": {
        "id": "O0V5ghTeTkg3"
      }
    },
    {
      "cell_type": "markdown",
      "source": [
        "To call the bacon() function from a module named spam, you would first need to import the spam module using the import statement.\n",
        "\n",
        "Here is an example of how you could import the spam module and call the bacon() function:"
      ],
      "metadata": {
        "id": "dnCZhjCoTv6o"
      }
    },
    {
      "cell_type": "code",
      "source": [
        "!pip install bacon"
      ],
      "metadata": {
        "colab": {
          "base_uri": "https://localhost:8080/"
        },
        "id": "DrYMbMU0UCCa",
        "outputId": "77aac969-deca-40b3-db23-3586889b649b"
      },
      "execution_count": 20,
      "outputs": [
        {
          "output_type": "stream",
          "name": "stdout",
          "text": [
            "Looking in indexes: https://pypi.org/simple, https://us-python.pkg.dev/colab-wheels/public/simple/\n",
            "Collecting bacon\n",
            "  Downloading bacon-0.3.1.zip (11.0 MB)\n",
            "\u001b[K     |████████████████████████████████| 11.0 MB 22.3 MB/s \n",
            "\u001b[?25hBuilding wheels for collected packages: bacon\n",
            "  Building wheel for bacon (setup.py) ... \u001b[?25l\u001b[?25hdone\n",
            "  Created wheel for bacon: filename=bacon-0.3.1-py3-none-any.whl size=10138346 sha256=bafb46b289aabb2df31e662fb683ed409b22e179084225f2eda9931fae89b085\n",
            "  Stored in directory: /root/.cache/pip/wheels/fa/8c/0d/486c35ead8dd803bc9a8f5eebf0d42ec6254433aef4f5968e0\n",
            "Successfully built bacon\n",
            "Installing collected packages: bacon\n",
            "Successfully installed bacon-0.3.1\n"
          ]
        }
      ]
    },
    {
      "cell_type": "code",
      "source": [
        "from spam import bacon\n",
        "\n",
        "bacon()\n"
      ],
      "metadata": {
        "id": "H-0bHGaDTWiP"
      },
      "execution_count": null,
      "outputs": []
    },
    {
      "cell_type": "markdown",
      "source": [
        "In this case, the from spam import bacon statement imports the bacon() function from the spam module and allows you to call it directly using the function name.\n",
        "\n",
        "It's also possible to import multiple functions from the same module using the from and import statements. For example:"
      ],
      "metadata": {
        "id": "oAeUaDusUOZS"
      }
    },
    {
      "cell_type": "code",
      "source": [
        "from spam import bacon, eggs\n",
        "\n",
        "bacon()\n",
        "eggs()\n"
      ],
      "metadata": {
        "id": "KdSux6TUT1Jp"
      },
      "execution_count": null,
      "outputs": []
    },
    {
      "cell_type": "markdown",
      "source": [
        "This imports both the bacon() and eggs() functions from the spam module, allowing you to call them directly using their function names."
      ],
      "metadata": {
        "id": "W7ucLyvxUd7k"
      }
    },
    {
      "cell_type": "code",
      "source": [],
      "metadata": {
        "id": "-wEzB9E3UU9p"
      },
      "execution_count": null,
      "outputs": []
    }
  ]
}