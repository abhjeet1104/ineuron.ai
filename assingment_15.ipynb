{
  "nbformat": 4,
  "nbformat_minor": 0,
  "metadata": {
    "colab": {
      "provenance": []
    },
    "kernelspec": {
      "name": "python3",
      "display_name": "Python 3"
    },
    "language_info": {
      "name": "python"
    }
  },
  "cells": [
    {
      "cell_type": "markdown",
      "source": [
        "#1.How many seconds are in an hour? Use the interactive interpreter as a calculator and multiply the number of seconds in a minute (60) by the number of minutes in an hour (also 60).\n",
        "sol. 60 \n"
      ],
      "metadata": {
        "id": "2-niJH9WB-uw"
      }
    },
    {
      "cell_type": "code",
      "execution_count": 1,
      "metadata": {
        "colab": {
          "base_uri": "https://localhost:8080/"
        },
        "id": "snMfuOVuBzbs",
        "outputId": "ec37357f-0eda-4ed3-b8ca-2f92ebdfa229"
      },
      "outputs": [
        {
          "output_type": "stream",
          "name": "stdout",
          "text": [
            "3600\n"
          ]
        }
      ],
      "source": [
        "seconds_in_minute = 60\n",
        "minutes_in_hour = 60\n",
        "seconds_in_hour = seconds_in_minute * minutes_in_hour\n",
        "print(seconds_in_hour)\n"
      ]
    },
    {
      "cell_type": "markdown",
      "source": [
        "#2. Assign the result from the previous task (seconds in an hour) to a variable called seconds_per_hour."
      ],
      "metadata": {
        "id": "Fa9qyJX8DMi1"
      }
    },
    {
      "cell_type": "code",
      "source": [
        "seconds_in_minute = 60\n",
        "minutes_in_hour = 60\n",
        "seconds_per_hour = seconds_in_minute * minutes_in_hour\n"
      ],
      "metadata": {
        "id": "_aK7M2CiDEFC"
      },
      "execution_count": 3,
      "outputs": []
    },
    {
      "cell_type": "markdown",
      "source": [
        "Note that in this way, the variable seconds_per_hour will contain the value 3600."
      ],
      "metadata": {
        "id": "fKMi5DvQDdPC"
      }
    },
    {
      "cell_type": "markdown",
      "source": [
        "#3. How many seconds do you think there are in a day? Make use of the variables seconds per hour and minutes per hour."
      ],
      "metadata": {
        "id": "3UVsmoTWDhi0"
      }
    },
    {
      "cell_type": "markdown",
      "source": [
        "Ans. A day is 24 hours, so if we know the number of seconds in an hour (seconds_per_hour), we can calculate the number of seconds in a day by multiplying it by 24.\n",
        "\n"
      ],
      "metadata": {
        "id": "YkWhqrYgDvpm"
      }
    },
    {
      "cell_type": "code",
      "source": [
        "seconds_per_day = seconds_per_hour * 24\n"
      ],
      "metadata": {
        "id": "Vnkkl4pwDT-c"
      },
      "execution_count": 4,
      "outputs": []
    },
    {
      "cell_type": "markdown",
      "source": [
        "We can also use the number of minutes in an hour (minutes_in_hour) and number of seconds in a minute (seconds_in_minute) to get the number of seconds in a day:"
      ],
      "metadata": {
        "id": "hr82Zyp0D4By"
      }
    },
    {
      "cell_type": "code",
      "source": [
        "seconds_per_day = minutes_in_hour * seconds_in_minute * 24\n"
      ],
      "metadata": {
        "id": "bi3iQqatD0Ts"
      },
      "execution_count": 5,
      "outputs": []
    },
    {
      "cell_type": "markdown",
      "source": [
        "#4. Calculate seconds per day again, but this time save the result in a variable called seconds_per_day"
      ],
      "metadata": {
        "id": "7GZZC_q7EAMH"
      }
    },
    {
      "cell_type": "code",
      "source": [
        "seconds_per_hour = 3600\n",
        "seconds_per_day = seconds_per_hour * 24\n"
      ],
      "metadata": {
        "id": "4LwwQsqpD6s_"
      },
      "execution_count": 6,
      "outputs": []
    },
    {
      "cell_type": "code",
      "source": [
        "seconds_in_minute = 60\n",
        "minutes_in_hour = 60\n",
        "seconds_per_day = minutes_in_hour * seconds_in_minute * 24\n"
      ],
      "metadata": {
        "id": "C5RG1yiPEKtr"
      },
      "execution_count": 7,
      "outputs": []
    },
    {
      "cell_type": "markdown",
      "source": [
        "In this way, the variable seconds_per_day will contain the value 86400, which is the number of seconds in a day"
      ],
      "metadata": {
        "id": "CXuaX2ngEQ0j"
      }
    },
    {
      "cell_type": "markdown",
      "source": [
        "#5. Divide seconds_per_day by seconds_per_hour. Use floating-point (/) division"
      ],
      "metadata": {
        "id": "e_V7obBWEWKH"
      }
    },
    {
      "cell_type": "code",
      "source": [
        "result = seconds_per_day / seconds_per_hour\n"
      ],
      "metadata": {
        "id": "eFu2Oc1VENbt"
      },
      "execution_count": 8,
      "outputs": []
    },
    {
      "cell_type": "code",
      "source": [
        "result = float(seconds_per_day) / float(seconds_per_hour)\n"
      ],
      "metadata": {
        "id": "4qET78CGEfEx"
      },
      "execution_count": 9,
      "outputs": []
    },
    {
      "cell_type": "markdown",
      "source": [
        "In this way, the variable result will contain the value 24.0, which is the number of hours in a day, calculated by dividing the number of seconds in a day by the number of seconds in an hour."
      ],
      "metadata": {
        "id": "rXmUBulCEkaX"
      }
    },
    {
      "cell_type": "markdown",
      "source": [
        "#6. Divide seconds_per_day by seconds_per_hour, using integer (//) division. Did this number agree with the floating-point value from the previous question, aside from the final .0?"
      ],
      "metadata": {
        "id": "xRKATNznE9kV"
      }
    },
    {
      "cell_type": "code",
      "source": [
        "result = seconds_per_day // seconds_per_hour\n"
      ],
      "metadata": {
        "id": "BDX4kvd_EhxJ"
      },
      "execution_count": 10,
      "outputs": []
    },
    {
      "cell_type": "markdown",
      "source": [
        "In this way, the variable result will contain the value 24, which is the number of hours in a day, calculated by dividing the number of seconds in a day by the number of seconds in an hour.\n",
        "This number will be the same as the floating-point value from the previous question, but without the decimal point and trailing zeroes.\n",
        "\n",
        "The result of integer division is always rounded down to the nearest integer, so the final value will be the same as the floating-point value but without the decimal point."
      ],
      "metadata": {
        "id": "y8sq8eBbFLlf"
      }
    },
    {
      "cell_type": "markdown",
      "source": [
        "#7. Write a generator, genPrimes, that returns the sequence of prime numbers on successive calls to its next() method: 2, 3, 5, 7, 11, ...\n",
        "\n"
      ],
      "metadata": {
        "id": "BYifadDwFgB_"
      }
    },
    {
      "cell_type": "code",
      "source": [
        "def genPrimes():\n",
        "    primes = []   # list to hold the prime numbers\n",
        "    num = 2       # the first number to check for primality\n",
        "    while True:\n",
        "        for prime in primes:\n",
        "            if num % prime == 0:\n",
        "                break\n",
        "        else:\n",
        "            primes.append(num)\n",
        "            yield num\n",
        "        num += 1\n"
      ],
      "metadata": {
        "id": "Q190Gie3FIYF"
      },
      "execution_count": 11,
      "outputs": []
    },
    {
      "cell_type": "markdown",
      "source": [
        "This generator function starts with the number 2, checks if it's prime and yields it, then it goes on to check the next number in the sequence. It uses a for loop to check if the current number is divisible by any of the previously generated prime numbers. If it's not divisible by any of them it's appended to the list of prime numbers and yield. If it's divisible by any of them, the for loop is broken and the next number is checked."
      ],
      "metadata": {
        "id": "xGOR_gO9GARd"
      }
    },
    {
      "cell_type": "code",
      "source": [
        "prime_gen = genPrimes()\n",
        "print(next(prime_gen))  # prints 2\n",
        "print(next(prime_gen))  # prints 3\n",
        "print(next(prime_gen))  # prints 5\n"
      ],
      "metadata": {
        "colab": {
          "base_uri": "https://localhost:8080/"
        },
        "id": "4WnNIKiyF7n-",
        "outputId": "d7c42080-90c4-4a24-ef65-754efe3147c9"
      },
      "execution_count": 12,
      "outputs": [
        {
          "output_type": "stream",
          "name": "stdout",
          "text": [
            "2\n",
            "3\n",
            "5\n"
          ]
        }
      ]
    },
    {
      "cell_type": "code",
      "source": [],
      "metadata": {
        "id": "x-md6n1KGDPJ"
      },
      "execution_count": null,
      "outputs": []
    }
  ]
}