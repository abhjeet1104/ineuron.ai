{
  "nbformat": 4,
  "nbformat_minor": 0,
  "metadata": {
    "colab": {
      "provenance": []
    },
    "kernelspec": {
      "name": "python3",
      "display_name": "Python 3"
    },
    "language_info": {
      "name": "python"
    }
  },
  "cells": [
    {
      "cell_type": "code",
      "execution_count": null,
      "metadata": {
        "id": "Eof4CuAabEMz"
      },
      "outputs": [],
      "source": []
    },
    {
      "cell_type": "markdown",
      "source": [
        "#1. Why are functions advantageous to have in your programs?"
      ],
      "metadata": {
        "id": "_uGeztAebFYt"
      }
    },
    {
      "cell_type": "markdown",
      "source": [
        "There are several advantages to using functions in your programs:\n",
        "\n",
        "**Code reuse**: Functions allow you to reuse code blocks in multiple parts of your\n",
        "program, which can save you a lot of time and effort. Instead of writing the same code over and over again, you can define a function once and then call it whenever you need to perform that specific task.\n",
        "\n",
        "\n",
        "**Improved readability**: Functions help to organize your code into logical blocks that are easier to read and understand. This makes it easier to understand the overall structure and purpose of your program, and also makes it easier to find and fix any bugs that may arise.\n",
        "\n",
        "\n",
        "**Modularity**: Functions allow you to break your program down into smaller, more manageable pieces. This makes it easier to develop and maintain your program, as you can work on one function at a time and test it independently before integrating it into the rest of your program.\n",
        "\n",
        "\n",
        "Improved reliability: By breaking your program into smaller, more focused functions, you can be more confident that each part of your program is working correctly. This can help you to catch and fix bugs more quickly and effectively.\n",
        "\n",
        "Overall, using functions can make your code more efficient, easier to read and understand, and easier to maintain, which can save you a lot of time and effort in the long run.\n",
        "\n",
        "\n",
        "\n",
        "\n",
        "\n",
        "\n",
        "\n"
      ],
      "metadata": {
        "id": "lFP5MprrbT03"
      }
    },
    {
      "cell_type": "markdown",
      "source": [
        "#2. When does the code in a function run: when it's specified or when it's called?"
      ],
      "metadata": {
        "id": "LE6fptzTcHW8"
      }
    },
    {
      "cell_type": "markdown",
      "source": [
        "The code in a function is not executed until the function is called. When you define a function, you are simply creating a block of code that can be executed later on by calling the function.\n",
        "\n",
        "For example, consider the following function definition:"
      ],
      "metadata": {
        "id": "W5erxs-xcYTu"
      }
    },
    {
      "cell_type": "code",
      "source": [
        "def greet(name):\n",
        "    print(\"Hello, \" + name)\n"
      ],
      "metadata": {
        "id": "J33XkfTmbS3i"
      },
      "execution_count": null,
      "outputs": []
    },
    {
      "cell_type": "markdown",
      "source": [
        "In this case, the code inside the function (i.e., the print statement) will not be executed until the function is called. You can call the function like this:\n"
      ],
      "metadata": {
        "id": "3p7WFYLqcjAp"
      }
    },
    {
      "cell_type": "code",
      "source": [
        "greet(\"Abhijeet\")\n"
      ],
      "metadata": {
        "colab": {
          "base_uri": "https://localhost:8080/"
        },
        "id": "wZDUSj8icbw2",
        "outputId": "1bfffafb-623a-4773-edde-d4496fc4461e"
      },
      "execution_count": null,
      "outputs": [
        {
          "output_type": "stream",
          "name": "stdout",
          "text": [
            "Hello, Abhijeet\n"
          ]
        }
      ]
    },
    {
      "cell_type": "markdown",
      "source": [
        "This will print \"Hello, Abhijeet\" to the console. The function is executed when it is called, at which point the code inside the function is executed.\n",
        "\n",
        "It is also possible to pass arguments to a function when you call it. These arguments are used to specify input values that the function can use when it is executed. In the example above, the name argument is used to specify the name of the person being greeted."
      ],
      "metadata": {
        "id": "qxxvHGWocuv3"
      }
    },
    {
      "cell_type": "markdown",
      "source": [
        "#3. What statement creates a function?"
      ],
      "metadata": {
        "id": "aISxowH6c51M"
      }
    },
    {
      "cell_type": "markdown",
      "source": [
        "In Python, the def keyword is used to create a function. For example, the following code defines a function named greet that takes a single argument name and prints a greeting to the console:\n",
        "\n"
      ],
      "metadata": {
        "id": "max6vxVLdIDv"
      }
    },
    {
      "cell_type": "code",
      "source": [
        "def greet(name):\n",
        "    print(\"Hello, \" + name)\n"
      ],
      "metadata": {
        "id": "ishhP5ObcqUU"
      },
      "execution_count": null,
      "outputs": []
    },
    {
      "cell_type": "markdown",
      "source": [
        "To define a function, you start with the def keyword, followed by the name of the function (in this case, greet). The function name should be followed by a set of parentheses, which may include one or more arguments separated by commas. In this case, the greet function has a single argument name.\n",
        "\n",
        "After the parentheses, you include a colon (:) to indicate the start of the function body. The function body is the block of code that will be executed when the function is called. In this case, the function body consists of a single print statement that prints a greeting to the console.\n",
        "\n",
        "Finally, you should indent the lines of code in the function body to indicate that they are part of the function. In Python, the indentation level of a block of code is significant, and it is used to define the scope of variables and to indicate which lines of code are part of a function or loop, for example."
      ],
      "metadata": {
        "id": "MOcxIQwsdR3q"
      }
    },
    {
      "cell_type": "markdown",
      "source": [
        "#4. What is the difference between a function and a function call?"
      ],
      "metadata": {
        "id": "D0yqkGuhdssP"
      }
    },
    {
      "cell_type": "markdown",
      "source": [
        "A function is a block of code that is defined and can be executed later on by calling the function. A function call is the act of executing a function by calling it and specifying any required arguments.\n",
        "\n",
        "For example, consider the following function definition:\n",
        "\n"
      ],
      "metadata": {
        "id": "huJLiY5YeDfA"
      }
    },
    {
      "cell_type": "code",
      "source": [
        "def greet(name):\n",
        "    print(\"Hello, \" + name)\n"
      ],
      "metadata": {
        "id": "w09OvrQRdLW2"
      },
      "execution_count": null,
      "outputs": []
    },
    {
      "cell_type": "markdown",
      "source": [
        "This defines a function named greet that takes a single argument name and prints a greeting to the console.\n",
        "\n",
        "To call this function, you would use the following syntax:"
      ],
      "metadata": {
        "id": "TbbkWLgmePEE"
      }
    },
    {
      "cell_type": "code",
      "source": [
        "greet(\"Abhijeet\")\n"
      ],
      "metadata": {
        "colab": {
          "base_uri": "https://localhost:8080/"
        },
        "id": "ZxXbi7aneGvX",
        "outputId": "97e15467-cff9-4c3a-abc4-d92e176cd1f6"
      },
      "execution_count": null,
      "outputs": [
        {
          "output_type": "stream",
          "name": "stdout",
          "text": [
            "Hello, Abhijeet\n"
          ]
        }
      ]
    },
    {
      "cell_type": "markdown",
      "source": [
        "This calls the greet function and passes the value \"Abhijeet\" as the argument for the name parameter. The function is executed, and the code inside the function body (i.e., the print statement) is executed. This will print \"Hello, Alice\" to the console.\n",
        "\n",
        "In this example, the greet function is the code block that is defined, and the greet(\"Abhijeet\") line is the function call that executes the function."
      ],
      "metadata": {
        "id": "b_ThSYY0eWFO"
      }
    },
    {
      "cell_type": "markdown",
      "source": [
        "#5. How many global scopes are there in a Python program? How many local scopes?"
      ],
      "metadata": {
        "id": "UapXffnBerUY"
      }
    },
    {
      "cell_type": "markdown",
      "source": [
        "In a Python program, there is only one global scope. The global scope is the highest level of scope in a program, and it encompasses all of the code in the program. All variables that are defined in the global scope are accessible from any point in the program.\n",
        "\n",
        "In addition to the global scope, there can be multiple local scopes in a Python program. A local scope is a block of code in which a set of variables is defined and is only accessible within that block of code.\n",
        "\n",
        "For example, consider the following code:"
      ],
      "metadata": {
        "id": "ieeBJKM9fBNG"
      }
    },
    {
      "cell_type": "code",
      "source": [
        "x = 10  # x is defined in the global scope\n",
        "\n",
        "def foo():\n",
        "    y = 20  # y is defined in the local scope of the foo function\n",
        "    print(x)  # x is accessible from the foo function because it is in the global scope\n",
        "    print(y)  # y is accessible from within the foo function because it is in the local scope\n",
        "\n",
        "print(x)  # x is accessible from the global scope\n",
        "print(y)  # y is not accessible from the global scope because it is defined in the local scope of the foo function\n"
      ],
      "metadata": {
        "id": "NTj55NCCeUgr"
      },
      "execution_count": null,
      "outputs": []
    },
    {
      "cell_type": "markdown",
      "source": [
        "In this example, the variable x is defined in the global scope and is accessible from both the global scope and the local scope of the foo function. The variable y is defined in the local scope of the foo function and is only accessible within that function.\n",
        "\n",
        "There can be multiple local scopes within a program, each with its own set of variables that are only accessible within that scope. For example, you can define a local scope within a function by using a loop or an if statement.\n",
        "\n",
        "\n",
        "\n",
        "\n"
      ],
      "metadata": {
        "id": "5G0qJt42ff8a"
      }
    },
    {
      "cell_type": "markdown",
      "source": [
        "#6. What happens to variables in a local scope when the function call returns?"
      ],
      "metadata": {
        "id": "UutSFe6xfzWu"
      }
    },
    {
      "cell_type": "markdown",
      "source": [
        "When a function call returns, the local scope that was created for that function call is destroyed, and all of the variables that were defined in that local scope are no longer accessible.\n",
        "\n",
        "For example, consider the following code:"
      ],
      "metadata": {
        "id": "qc0KXxVpgD26"
      }
    },
    {
      "cell_type": "code",
      "source": [
        "def foo():\n",
        "    x = 10  # x is defined in the local scope of the foo function\n",
        "    print(x)\n",
        "\n",
        "foo()  # prints 10\n",
        "print(x)  # causes an error because x is not defined in the global scope\n"
      ],
      "metadata": {
        "colab": {
          "base_uri": "https://localhost:8080/"
        },
        "id": "XNp9vQwqfEvU",
        "outputId": "dd10205a-76bf-47e3-f558-549a715e3584"
      },
      "execution_count": null,
      "outputs": [
        {
          "output_type": "stream",
          "name": "stdout",
          "text": [
            "10\n",
            "10\n"
          ]
        }
      ]
    },
    {
      "cell_type": "markdown",
      "source": [
        "In this example, the foo function creates a local scope in which the variable x is defined. When the foo function is called, the value of x is printed to the console. However, when the function call returns, the local scope is destroyed and the variable x is no longer accessible. If you try to access the variable x from outside the foo function, you will get an error because x is not defined in the global scope.\n",
        "\n",
        "It is important to note that local variables are only accessible within the local scope in which they are defined. Once the local scope is destroyed, the variables defined within it are no longer accessible. This helps to prevent conflicts between variables with the same name that are defined in different scopes."
      ],
      "metadata": {
        "id": "oCCaHT6pgRDO"
      }
    },
    {
      "cell_type": "markdown",
      "source": [
        "#7. What is the concept of a return value? Is it possible to have a return value in an expression?"
      ],
      "metadata": {
        "id": "6QViGmnZgoZE"
      }
    },
    {
      "cell_type": "markdown",
      "source": [
        "A return value is the value that is returned by a function when it is called. When a function is called, it can optionally return a value to the caller by using the return statement. The value that is returned by the function can then be used by the caller in expressions or assignments.\n",
        "\n",
        "For example, consider the following function definition:"
      ],
      "metadata": {
        "id": "xvFp1s8ShG8t"
      }
    },
    {
      "cell_type": "code",
      "source": [
        "def add(x, y):\n",
        "    return x + y\n"
      ],
      "metadata": {
        "id": "FORYAi8ZgLD7"
      },
      "execution_count": null,
      "outputs": []
    },
    {
      "cell_type": "markdown",
      "source": [
        "This function takes two arguments, x and y, and returns the sum of those two values. To call this function and use the return value in an expression, you can do something like this:"
      ],
      "metadata": {
        "id": "HOFuj4ylhOtz"
      }
    },
    {
      "cell_type": "code",
      "source": [
        "result = add(2, 3)  # result is assigned the value 5\n",
        "print(result * 2)  # prints 10\n"
      ],
      "metadata": {
        "colab": {
          "base_uri": "https://localhost:8080/"
        },
        "id": "hsQtr-sghKXf",
        "outputId": "c02c513d-abcc-4323-f843-78fd5620f2d7"
      },
      "execution_count": null,
      "outputs": [
        {
          "output_type": "stream",
          "name": "stdout",
          "text": [
            "10\n"
          ]
        }
      ]
    },
    {
      "cell_type": "markdown",
      "source": [
        "In this example, the add function is called with the arguments 2 and 3, and the return value of 5 is assigned to the variable result. The return value is then used in an expression to print the value 10 to the console.\n",
        "\n",
        "It is possible to use a return value in any expression or assignment where a value is expected. This allows you to use the output of a function as input to other operations or as part of a larger expression.\n",
        "\n",
        "It is important to note that a function does not have to return a value. If a function does not include a return statement, or if the return statement is executed without a value, the function will return None, which is a special value in Python that represents the absence of a value."
      ],
      "metadata": {
        "id": "8dsflbFmhYpf"
      }
    },
    {
      "cell_type": "markdown",
      "source": [
        "#8. If a function does not have a return statement, what is the return value of a call to that function?"
      ],
      "metadata": {
        "id": "T7q6qkxwhgNG"
      }
    },
    {
      "cell_type": "markdown",
      "source": [
        "If a function does not have a return statement, or if the return statement is executed without a value, the function will return None, which is a special value in Python that represents the absence of a value.\n",
        "\n",
        "For example, consider the following function definition:"
      ],
      "metadata": {
        "id": "hKkn3F1mh-hR"
      }
    },
    {
      "cell_type": "code",
      "source": [
        "def foo():\n",
        "    print(\"Hello, world!\")\n"
      ],
      "metadata": {
        "id": "zp2qy8AwhS3s"
      },
      "execution_count": null,
      "outputs": []
    },
    {
      "cell_type": "markdown",
      "source": [
        "This function does not include a return statement, so it will always return None when it is called. You can call this function and assign the return value to a variable like this:"
      ],
      "metadata": {
        "id": "YicFuu_UiD0Y"
      }
    },
    {
      "cell_type": "code",
      "source": [
        "result = foo()  # result is assigned the value None\n",
        "print(result)  # prints None\n"
      ],
      "metadata": {
        "colab": {
          "base_uri": "https://localhost:8080/"
        },
        "id": "-N2l2S0ph05U",
        "outputId": "2bbe691c-df7d-415d-a96a-7f84fed1edf0"
      },
      "execution_count": null,
      "outputs": [
        {
          "output_type": "stream",
          "name": "stdout",
          "text": [
            "Hello, world!\n",
            "None\n"
          ]
        }
      ]
    },
    {
      "cell_type": "markdown",
      "source": [
        "It is important to note that None is not the same as an empty string or a zero value. It is a special value in Python that represents the absence of a value.\n",
        "\n",
        "If you want a function to return a specific value, you can use the return statement to specify the value that the function should return. For example, you can modify the foo function like this:"
      ],
      "metadata": {
        "id": "_Ti5NTSMnDZh"
      }
    },
    {
      "cell_type": "code",
      "source": [
        "def foo():\n",
        "    return \"Hello, world!\"\n"
      ],
      "metadata": {
        "id": "ata7VwrOh4MZ"
      },
      "execution_count": null,
      "outputs": []
    },
    {
      "cell_type": "markdown",
      "source": [
        "Now, when you call the foo function, it will return the string \"Hello, world!\", which you can use in expressions or assignments."
      ],
      "metadata": {
        "id": "wC27YXiNnT4H"
      }
    },
    {
      "cell_type": "markdown",
      "source": [
        "#9. How do you make a function variable refer to the global variable?"
      ],
      "metadata": {
        "id": "bb_lOqsKnnQv"
      }
    },
    {
      "cell_type": "markdown",
      "source": [
        "In Python, you can make a function variable refer to a global variable by using the global keyword. This allows you to access and modify the value of a global variable from within a function.\n",
        "\n",
        "For example, consider the following code:"
      ],
      "metadata": {
        "id": "p--WbkOFnyg1"
      }
    },
    {
      "cell_type": "code",
      "source": [
        "x = 10  # x is a global variable\n",
        "\n",
        "def foo():\n",
        "    global x  # x is now a global variable within the foo function\n",
        "    x = 20  # the value of the global x variable is modified\n",
        "\n",
        "foo()\n",
        "print(x)  # prints 20\n"
      ],
      "metadata": {
        "id": "Nj7fDD6eh8Ta",
        "colab": {
          "base_uri": "https://localhost:8080/"
        },
        "outputId": "4796d1c7-1bb6-4723-f623-6b59a5f78739"
      },
      "execution_count": 16,
      "outputs": [
        {
          "output_type": "stream",
          "name": "stdout",
          "text": [
            "20\n"
          ]
        }
      ]
    },
    {
      "cell_type": "markdown",
      "source": [
        "In this example, the x variable is defined in the global scope and is initially set to the value 10. The foo function includes a global statement that specifies that the x variable is a global variable. This allows the function to access and modify the value of the global x variable. When the foo function is called, it modifies the value of x to 20. When the function returns, the value of x is printed to the console, which prints 20.\n",
        "\n",
        "It is important to note that the global keyword can only be used within a function to specify that a variable is a global variable. You cannot use it to create a new global variable. If you try to use the global keyword to reference a variable that is not defined in the global scope, you will get an error.\n",
        "\n",
        "It is also worth noting that modifying global variables from within a function can make your code more difficult to understand and debug, and it is generally considered a best practice to avoid modifying global variables unless absolutely necessary. Instead, it is often better to pass variables as arguments to a function and return a modified value as the function's return value. This can help to make your code more modular and easier to understand."
      ],
      "metadata": {
        "id": "eXi5ScxooNJm"
      }
    },
    {
      "cell_type": "markdown",
      "source": [
        "#10. What is the data type of None?"
      ],
      "metadata": {
        "id": "SBhe3B9LoUBZ"
      }
    },
    {
      "cell_type": "markdown",
      "source": [
        "In Python, None is a special value that represents the absence of a value or a null value. It is an instance of the NoneType data type, which is a data type that has a single value: None.\n",
        "\n",
        "You can use the type function to check the data type of a value, like this:"
      ],
      "metadata": {
        "id": "4apOmkBbomFE"
      }
    },
    {
      "cell_type": "code",
      "source": [
        "x = None\n",
        "print(type(x))  # prints <class 'NoneType'>\n"
      ],
      "metadata": {
        "colab": {
          "base_uri": "https://localhost:8080/"
        },
        "id": "YtgPW8-koHSO",
        "outputId": "a9b3f102-bbd7-4468-be51-5dc1f5e91a30"
      },
      "execution_count": 17,
      "outputs": [
        {
          "output_type": "stream",
          "name": "stdout",
          "text": [
            "<class 'NoneType'>\n"
          ]
        }
      ]
    },
    {
      "cell_type": "markdown",
      "source": [
        "n this example, the value of x is None, which is an instance of the NoneType data type.\n",
        "\n",
        "You can use the None value in your code to represent the absence of a value, for example, to indicate that a variable does not have a value yet or to indicate the end of a list or iterable.\n",
        "\n",
        "It is important to note that the NoneType data type is different from other data types in Python, such as int, float, and str. You cannot perform operations on None values in the same way that you can with other data types, and you cannot use them in expressions or assignments where a value of a different data type is expected."
      ],
      "metadata": {
        "id": "aWUp8MHhousB"
      }
    },
    {
      "cell_type": "markdown",
      "source": [
        "#11. What does the sentence import areallyourpetsnamederic do?"
      ],
      "metadata": {
        "id": "qbJ84bboozCi"
      }
    },
    {
      "cell_type": "markdown",
      "source": [
        "The sentence import areallyourpetsnamederic is an import statement in Python that attempts to import a module with the name areallyourpetsnamederic.\n",
        "\n",
        "In Python, you can use the import statement to import modules, which are collections of code that you can use in your program. When you import a module, you can use the functions and variables defined in that module in your code.\n",
        "\n",
        "For example, consider the following code:"
      ],
      "metadata": {
        "id": "G-gSXsOcpKJd"
      }
    },
    {
      "cell_type": "code",
      "source": [
        "import math\n",
        "\n",
        "x = math.sqrt(4)  # x is assigned the value 2\n",
        "print(x)\n"
      ],
      "metadata": {
        "colab": {
          "base_uri": "https://localhost:8080/"
        },
        "id": "2ya6Vbo8opHc",
        "outputId": "2ce15eba-089b-4624-fc5d-17025d86bf4e"
      },
      "execution_count": 18,
      "outputs": [
        {
          "output_type": "stream",
          "name": "stdout",
          "text": [
            "2.0\n"
          ]
        }
      ]
    },
    {
      "cell_type": "markdown",
      "source": [
        "In this example, the import statement imports the math module, which contains a collection of mathematical functions. The code then uses the sqrt function from the math module to calculate the square root of 4, and assigns the result to the x variable.\n",
        "\n",
        "If there is no module with the name areallyourpetsnamederic, then the import statement will cause an error.\n",
        "\n",
        "It is important to note that the import statement does not execute the code in the imported module. It simply makes the code in the module available for you to use in your program. You can then call functions and access variables from the imported module by using the module name as a prefix, as shown in the example above."
      ],
      "metadata": {
        "id": "kv3fe32MpSxr"
      }
    },
    {
      "cell_type": "markdown",
      "source": [
        "#12. If you had a bacon() feature in a spam module, what would you call it after importing spam?"
      ],
      "metadata": {
        "id": "7DEOJ_jppYQC"
      }
    },
    {
      "cell_type": "markdown",
      "source": [
        "f you have a bacon function in a spam module, you can call it after importing the spam module like this:\n",
        "\n"
      ],
      "metadata": {
        "id": "s41XBsXRp8ui"
      }
    },
    {
      "cell_type": "code",
      "source": [
        "!pip install spam\n"
      ],
      "metadata": {
        "colab": {
          "base_uri": "https://localhost:8080/",
          "height": 1000
        },
        "id": "rttdKwENqTUL",
        "outputId": "90151589-ec14-4e5b-d851-c2a1ba39a039"
      },
      "execution_count": 21,
      "outputs": [
        {
          "output_type": "stream",
          "name": "stdout",
          "text": [
            "Looking in indexes: https://pypi.org/simple, https://us-python.pkg.dev/colab-wheels/public/simple/\n",
            "Collecting spam\n",
            "  Downloading spam-0.6.1.3-cp38-cp38-manylinux_2_17_x86_64.manylinux2014_x86_64.whl (27.3 MB)\n",
            "\u001b[K     |████████████████████████████████| 27.3 MB 31.3 MB/s \n",
            "\u001b[?25hCollecting PyQt5>=5.14.2\n",
            "  Downloading PyQt5-5.15.7-cp37-abi3-manylinux1_x86_64.whl (8.4 MB)\n",
            "\u001b[K     |████████████████████████████████| 8.4 MB 35.2 MB/s \n",
            "\u001b[?25hCollecting gmsh>=4.9.3\n",
            "  Downloading gmsh-4.11.1-py2.py3-none-manylinux1_x86_64.whl (38.8 MB)\n",
            "\u001b[K     |████████████████████████████████| 38.8 MB 1.3 MB/s \n",
            "\u001b[?25hRequirement already satisfied: h5py>=3.1.0 in /usr/local/lib/python3.8/dist-packages (from spam) (3.1.0)\n",
            "Collecting pybind11==2.5.0\n",
            "  Downloading pybind11-2.5.0-py2.py3-none-any.whl (296 kB)\n",
            "\u001b[K     |████████████████████████████████| 296 kB 52.0 MB/s \n",
            "\u001b[?25hCollecting python-decouple>=3.4\n",
            "  Downloading python_decouple-3.6-py3-none-any.whl (9.9 kB)\n",
            "Requirement already satisfied: numpy>=1.19.5 in /usr/local/lib/python3.8/dist-packages (from spam) (1.21.6)\n",
            "Requirement already satisfied: scikit-image>=0.17.2 in /usr/local/lib/python3.8/dist-packages (from spam) (0.18.3)\n",
            "Requirement already satisfied: tifffile>=2020.8.25 in /usr/local/lib/python3.8/dist-packages (from spam) (2022.10.10)\n",
            "Collecting pyamg>=4.0.0\n",
            "  Downloading pyamg-4.2.3-cp38-cp38-manylinux_2_12_x86_64.manylinux2010_x86_64.whl (1.7 MB)\n",
            "\u001b[K     |████████████████████████████████| 1.7 MB 53.8 MB/s \n",
            "\u001b[?25hCollecting qimage2ndarray>=1.8.3\n",
            "  Downloading qimage2ndarray-1.9.0-py3-none-any.whl (12 kB)\n",
            "Collecting rpy2==3.2.2\n",
            "  Downloading rpy2-3.2.2.tar.gz (162 kB)\n",
            "\u001b[K     |████████████████████████████████| 162 kB 49.5 MB/s \n",
            "\u001b[?25hCollecting matplotlib>=3.3.4\n",
            "  Downloading matplotlib-3.6.2-cp38-cp38-manylinux_2_12_x86_64.manylinux2010_x86_64.whl (9.4 MB)\n",
            "\u001b[K     |████████████████████████████████| 9.4 MB 63.1 MB/s \n",
            "\u001b[?25hRequirement already satisfied: scipy>=1.5.4 in /usr/local/lib/python3.8/dist-packages (from spam) (1.7.3)\n",
            "Collecting meshio>=4.3.11\n",
            "  Downloading meshio-5.3.4-py3-none-any.whl (167 kB)\n",
            "\u001b[K     |████████████████████████████████| 167 kB 38.4 MB/s \n",
            "\u001b[?25hCollecting progressbar>=2.5\n",
            "  Downloading progressbar-2.5.tar.gz (10 kB)\n",
            "Collecting SimpleITK>=2.0.2\n",
            "  Downloading SimpleITK-2.2.1-cp38-cp38-manylinux_2_17_x86_64.manylinux2014_x86_64.whl (52.7 MB)\n",
            "\u001b[K     |████████████████████████████████| 52.7 MB 201 kB/s \n",
            "\u001b[?25hRequirement already satisfied: pytest in /usr/local/lib/python3.8/dist-packages (from rpy2==3.2.2->spam) (3.6.4)\n",
            "Requirement already satisfied: jinja2 in /usr/local/lib/python3.8/dist-packages (from rpy2==3.2.2->spam) (2.11.3)\n",
            "Requirement already satisfied: pytz in /usr/local/lib/python3.8/dist-packages (from rpy2==3.2.2->spam) (2022.6)\n",
            "Collecting simplegeneric\n",
            "  Downloading simplegeneric-0.8.1.zip (12 kB)\n",
            "Requirement already satisfied: tzlocal in /usr/local/lib/python3.8/dist-packages (from rpy2==3.2.2->spam) (1.5.1)\n",
            "Requirement already satisfied: cffi>=1.13.1 in /usr/local/lib/python3.8/dist-packages (from rpy2==3.2.2->spam) (1.15.1)\n",
            "Requirement already satisfied: pycparser in /usr/local/lib/python3.8/dist-packages (from cffi>=1.13.1->rpy2==3.2.2->spam) (2.21)\n",
            "Requirement already satisfied: cycler>=0.10 in /usr/local/lib/python3.8/dist-packages (from matplotlib>=3.3.4->spam) (0.11.0)\n",
            "Collecting fonttools>=4.22.0\n",
            "  Downloading fonttools-4.38.0-py3-none-any.whl (965 kB)\n",
            "\u001b[K     |████████████████████████████████| 965 kB 50.7 MB/s \n",
            "\u001b[?25hRequirement already satisfied: pyparsing>=2.2.1 in /usr/local/lib/python3.8/dist-packages (from matplotlib>=3.3.4->spam) (3.0.9)\n",
            "Requirement already satisfied: python-dateutil>=2.7 in /usr/local/lib/python3.8/dist-packages (from matplotlib>=3.3.4->spam) (2.8.2)\n",
            "Requirement already satisfied: kiwisolver>=1.0.1 in /usr/local/lib/python3.8/dist-packages (from matplotlib>=3.3.4->spam) (1.4.4)\n",
            "Requirement already satisfied: packaging>=20.0 in /usr/local/lib/python3.8/dist-packages (from matplotlib>=3.3.4->spam) (21.3)\n",
            "Collecting contourpy>=1.0.1\n",
            "  Downloading contourpy-1.0.6-cp38-cp38-manylinux_2_17_x86_64.manylinux2014_x86_64.whl (295 kB)\n",
            "\u001b[K     |████████████████████████████████| 295 kB 53.0 MB/s \n",
            "\u001b[?25hRequirement already satisfied: pillow>=6.2.0 in /usr/local/lib/python3.8/dist-packages (from matplotlib>=3.3.4->spam) (7.1.2)\n",
            "Collecting rich\n",
            "  Downloading rich-12.6.0-py3-none-any.whl (237 kB)\n",
            "\u001b[K     |████████████████████████████████| 237 kB 45.4 MB/s \n",
            "\u001b[?25hCollecting PyQt5-sip<13,>=12.11\n",
            "  Downloading PyQt5_sip-12.11.0-cp38-cp38-manylinux1_x86_64.whl (361 kB)\n",
            "\u001b[K     |████████████████████████████████| 361 kB 57.2 MB/s \n",
            "\u001b[?25hCollecting PyQt5-Qt5>=5.15.0\n",
            "  Downloading PyQt5_Qt5-5.15.2-py3-none-manylinux2014_x86_64.whl (59.9 MB)\n",
            "\u001b[K     |████████████████████████████████| 59.9 MB 1.0 MB/s \n",
            "\u001b[?25hRequirement already satisfied: six>=1.5 in /usr/local/lib/python3.8/dist-packages (from python-dateutil>=2.7->matplotlib>=3.3.4->spam) (1.15.0)\n",
            "Requirement already satisfied: PyWavelets>=1.1.1 in /usr/local/lib/python3.8/dist-packages (from scikit-image>=0.17.2->spam) (1.4.1)\n",
            "Requirement already satisfied: networkx>=2.0 in /usr/local/lib/python3.8/dist-packages (from scikit-image>=0.17.2->spam) (2.8.8)\n",
            "Requirement already satisfied: imageio>=2.3.0 in /usr/local/lib/python3.8/dist-packages (from scikit-image>=0.17.2->spam) (2.9.0)\n",
            "Requirement already satisfied: MarkupSafe>=0.23 in /usr/local/lib/python3.8/dist-packages (from jinja2->rpy2==3.2.2->spam) (2.0.1)\n",
            "Requirement already satisfied: atomicwrites>=1.0 in /usr/local/lib/python3.8/dist-packages (from pytest->rpy2==3.2.2->spam) (1.4.1)\n",
            "Requirement already satisfied: pluggy<0.8,>=0.5 in /usr/local/lib/python3.8/dist-packages (from pytest->rpy2==3.2.2->spam) (0.7.1)\n",
            "Requirement already satisfied: setuptools in /usr/local/lib/python3.8/dist-packages (from pytest->rpy2==3.2.2->spam) (57.4.0)\n",
            "Requirement already satisfied: py>=1.5.0 in /usr/local/lib/python3.8/dist-packages (from pytest->rpy2==3.2.2->spam) (1.11.0)\n",
            "Requirement already satisfied: attrs>=17.4.0 in /usr/local/lib/python3.8/dist-packages (from pytest->rpy2==3.2.2->spam) (22.1.0)\n",
            "Requirement already satisfied: more-itertools>=4.0.0 in /usr/local/lib/python3.8/dist-packages (from pytest->rpy2==3.2.2->spam) (9.0.0)\n",
            "Requirement already satisfied: typing-extensions<5.0,>=4.0.0 in /usr/local/lib/python3.8/dist-packages (from rich->meshio>=4.3.11->spam) (4.4.0)\n",
            "Collecting commonmark<0.10.0,>=0.9.0\n",
            "  Downloading commonmark-0.9.1-py2.py3-none-any.whl (51 kB)\n",
            "\u001b[K     |████████████████████████████████| 51 kB 6.2 MB/s \n",
            "\u001b[?25hRequirement already satisfied: pygments<3.0.0,>=2.6.0 in /usr/local/lib/python3.8/dist-packages (from rich->meshio>=4.3.11->spam) (2.6.1)\n",
            "Building wheels for collected packages: rpy2, progressbar, simplegeneric\n",
            "  Building wheel for rpy2 (setup.py) ... \u001b[?25l\u001b[?25hdone\n",
            "  Created wheel for rpy2: filename=rpy2-3.2.2-cp38-cp38-linux_x86_64.whl size=260292 sha256=c0853f5511de56beb772fb76e0a434899a71e79689a70b23a3319d1062c291fc\n",
            "  Stored in directory: /root/.cache/pip/wheels/fa/61/bb/64eede39a440528c0a4d6819cf985af4a3fceb2f8dada9a63f\n",
            "  Building wheel for progressbar (setup.py) ... \u001b[?25l\u001b[?25hdone\n",
            "  Created wheel for progressbar: filename=progressbar-2.5-py3-none-any.whl size=12081 sha256=f0e6b3335163dedb4c2a7df1a80509fd5aec93d1d1647ba559d90e14d3c56cd3\n",
            "  Stored in directory: /root/.cache/pip/wheels/2c/67/ed/d84123843c937d7e7f5ba88a270d11036473144143355e2747\n",
            "  Building wheel for simplegeneric (setup.py) ... \u001b[?25l\u001b[?25hdone\n",
            "  Created wheel for simplegeneric: filename=simplegeneric-0.8.1-py3-none-any.whl size=5078 sha256=fbb481b77c7d355344040841bae66d49a6830c61a5098d973d55a227d695c042\n",
            "  Stored in directory: /root/.cache/pip/wheels/0b/32/6b/5f5447909a062da20dfe432fa945d8f98636692637deccaa8a\n",
            "Successfully built rpy2 progressbar simplegeneric\n",
            "Installing collected packages: fonttools, contourpy, commonmark, simplegeneric, rich, PyQt5-sip, PyQt5-Qt5, matplotlib, SimpleITK, rpy2, qimage2ndarray, python-decouple, PyQt5, pybind11, pyamg, progressbar, meshio, gmsh, spam\n",
            "  Attempting uninstall: matplotlib\n",
            "    Found existing installation: matplotlib 3.2.2\n",
            "    Uninstalling matplotlib-3.2.2:\n",
            "      Successfully uninstalled matplotlib-3.2.2\n",
            "  Attempting uninstall: rpy2\n",
            "    Found existing installation: rpy2 3.5.5\n",
            "    Uninstalling rpy2-3.5.5:\n",
            "      Successfully uninstalled rpy2-3.5.5\n",
            "Successfully installed PyQt5-5.15.7 PyQt5-Qt5-5.15.2 PyQt5-sip-12.11.0 SimpleITK-2.2.1 commonmark-0.9.1 contourpy-1.0.6 fonttools-4.38.0 gmsh-4.11.1 matplotlib-3.6.2 meshio-5.3.4 progressbar-2.5 pyamg-4.2.3 pybind11-2.5.0 python-decouple-3.6 qimage2ndarray-1.9.0 rich-12.6.0 rpy2-3.2.2 simplegeneric-0.8.1 spam-0.6.1.3\n"
          ]
        },
        {
          "output_type": "display_data",
          "data": {
            "application/vnd.colab-display-data+json": {
              "pip_warning": {
                "packages": [
                  "matplotlib",
                  "mpl_toolkits"
                ]
              }
            }
          },
          "metadata": {}
        }
      ]
    },
    {
      "cell_type": "code",
      "source": [
        "import spam\n",
        "\n",
        "spam.bacon()\n"
      ],
      "metadata": {
        "id": "IwxvRq1SpNiS"
      },
      "execution_count": null,
      "outputs": []
    },
    {
      "cell_type": "markdown",
      "source": [
        "In this example, the import statement imports the spam module, which makes the functions and variables defined in the spam module available for you to use in your code. To call the bacon function, you use the module name (spam) as a prefix, followed by a period (.) and the name of the function (bacon).\n",
        "\n",
        "It is also possible to import specific functions or variables from a module using the from keyword, like this:"
      ],
      "metadata": {
        "id": "8t20SvRvqCti"
      }
    },
    {
      "cell_type": "code",
      "source": [
        "from spam import bacon\n",
        "\n",
        "bacon()  # calls the bacon function\n"
      ],
      "metadata": {
        "id": "hKoIQw7sqAXQ"
      },
      "execution_count": null,
      "outputs": []
    },
    {
      "cell_type": "markdown",
      "source": [
        "In this case, the from statement imports the bacon function from the spam module, and it is made available for you to use directly in your code without the need for a prefix.\n",
        "\n",
        "It is important to note that when you import a module, you should use a clear and descriptive name for the module to make it easy for others to understand what the module does. Using a nonsensical name like areallyourpetsnamederic can make it difficult for others to understand what your code is doing."
      ],
      "metadata": {
        "id": "p42MNZu2qPe0"
      }
    },
    {
      "cell_type": "markdown",
      "source": [
        "#13. What can you do to save a programme from crashing if it encounters an error?"
      ],
      "metadata": {
        "id": "gOhrHr-trINq"
      }
    },
    {
      "cell_type": "markdown",
      "source": [
        "There are several things you can do to prevent a program from crashing if it encounters an error:\n",
        "\n",
        "***`Use exception handling`***: In Python, you can use the try and except statements to catch and handle errors that might occur in your code. This allows you to write code that can gracefully handle errors and continue running, rather than crashing.\n",
        "\n",
        "*`Validate user input`*: If your program accepts input from users, it is important to validate that input to ensure that it is in a format that your program can handle. This can help to prevent errors caused by invalid input.\n",
        "\n",
        "***`Test your code thoroughly`***: Thoroughly testing your code can help you to identify and fix potential errors before they cause your program to crash. You can use unit tests or other testing frameworks to test different parts of your code and ensure that it is working as expected.\n",
        "\n",
        "***Use debugging tools***: Debugging tools, such as a debugger or a logging library, can help you to identify the cause of errors and fix them.\n",
        "\n",
        "***`Follow best practices for coding:`*** Adhering to best practices for coding, such as using clear and descriptive variable names, commenting your code, and using a consistent style, can help to make your code more readable and easier to understand, which can make it easier to identify and fix errors.\n",
        "\n",
        "By following these best practices, you can help to prevent your program from crashing due to errors and make it more robust and reliable.\n",
        "\n",
        "\n",
        "\n",
        "\n"
      ],
      "metadata": {
        "id": "cS7GAvC5r-dS"
      }
    },
    {
      "cell_type": "markdown",
      "source": [
        "#14. What is the purpose of the try clause? What is the purpose of the except clause?"
      ],
      "metadata": {
        "id": "YxUBaP1Zs7Vk"
      }
    },
    {
      "cell_type": "markdown",
      "source": [
        "The try clause in a Python try-except statement is used to specify a block of code that might cause an error. The except clause is used to specify a block of code that should be executed if an error occurs in the try clause.\n",
        "\n",
        "For example, consider the following code:\n",
        "\n"
      ],
      "metadata": {
        "id": "mrTbPqU7tGyC"
      }
    },
    {
      "cell_type": "code",
      "source": [
        "try:\n",
        "    x = int(input(\"Enter a number: \"))\n",
        "    print(x / 2)\n",
        "except ValueError:\n",
        "    print(\"Invalid input. Please enter a valid number.\")\n"
      ],
      "metadata": {
        "colab": {
          "base_uri": "https://localhost:8080/"
        },
        "id": "tHEyqHXRqMxv",
        "outputId": "25a5ea87-7d34-49b0-8c57-e8b4dd0f06dc"
      },
      "execution_count": 23,
      "outputs": [
        {
          "output_type": "stream",
          "name": "stdout",
          "text": [
            "Enter a number: 2\n",
            "1.0\n"
          ]
        }
      ]
    },
    {
      "cell_type": "markdown",
      "source": [
        "In this example, the try clause contains a single line of code that attempts to convert the user's input to an integer using the int function. If the user's input cannot be converted to an integer (e.g., if it is not a valid number), the int function will raise a ValueError exception.\n",
        "\n",
        "The except clause specifies a block of code that should be executed if a ValueError exception is raised. In this case, the except clause prints an error message to the console.\n",
        "\n",
        "If the code in the try clause executes without raising an error, the except clause is skipped, and the code in the try clause continues to execute.\n",
        "\n",
        "The try-except statement is used to handle errors that might occur in your code and allow your program to continue running, rather than crashing. It is a useful tool for preventing your program from crashing due to errors and for providing user-friendly error messages to the user."
      ],
      "metadata": {
        "id": "BEZTWPubtUiO"
      }
    },
    {
      "cell_type": "code",
      "source": [],
      "metadata": {
        "id": "1HKVyMSqtM6g"
      },
      "execution_count": 23,
      "outputs": []
    }
  ]
}